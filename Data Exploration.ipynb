{
 "cells": [
  {
   "cell_type": "markdown",
   "metadata": {},
   "source": [
    "Exploring the data"
   ]
  },
  {
   "cell_type": "code",
   "execution_count": 1,
   "metadata": {},
   "outputs": [],
   "source": [
    "import pandas as pd\n",
    "import numpy as np\n",
    "import matplotlib.pyplot as plt\n",
    "import json\n",
    "import seaborn as sns\n",
    "import os\n",
    "import sys\n",
    "import importlib\n",
    "import functions.functions as aux_fun\n",
    "importlib.reload(aux_fun)\n",
    "from datetime import datetime as dti\n",
    "\n",
    "pd.options.mode.chained_assignment = None "
   ]
  },
  {
   "cell_type": "markdown",
   "metadata": {},
   "source": [
    "Reading data"
   ]
  },
  {
   "cell_type": "code",
   "execution_count": 2,
   "metadata": {},
   "outputs": [],
   "source": [
    "# Read data\n",
    "\n",
    "# Portifolio and profile datasets\n",
    "portfolio = pd.read_json('data/portfolio.json', orient='records', lines=True)\n",
    "profile = pd.read_json('data/profile.json', orient='records', lines=True)\n",
    "\n",
    "# User and offer data, already treated in Data Preparation \n",
    "user_offer_df = pd.read_csv('user_offer.csv').astype({'offer_id_rec':np.int8})\n",
    "\n",
    "# Reading the hexideciamal to int dictonaries\n",
    "map_portifolio = json.load(open('mapper_id/portifolio_ids.json'))\n",
    "map_profile = json.load(open('mapper_id/profile_ids.json'))"
   ]
  },
  {
   "cell_type": "markdown",
   "metadata": {},
   "source": [
    "Quick look at the data"
   ]
  },
  {
   "cell_type": "code",
   "execution_count": 3,
   "metadata": {},
   "outputs": [
    {
     "data": {
      "text/html": [
       "<div>\n",
       "<style scoped>\n",
       "    .dataframe tbody tr th:only-of-type {\n",
       "        vertical-align: middle;\n",
       "    }\n",
       "\n",
       "    .dataframe tbody tr th {\n",
       "        vertical-align: top;\n",
       "    }\n",
       "\n",
       "    .dataframe thead th {\n",
       "        text-align: right;\n",
       "    }\n",
       "</style>\n",
       "<table border=\"1\" class=\"dataframe\">\n",
       "  <thead>\n",
       "    <tr style=\"text-align: right;\">\n",
       "      <th></th>\n",
       "      <th>reward</th>\n",
       "      <th>channels</th>\n",
       "      <th>difficulty</th>\n",
       "      <th>duration</th>\n",
       "      <th>offer_type</th>\n",
       "      <th>id</th>\n",
       "    </tr>\n",
       "  </thead>\n",
       "  <tbody>\n",
       "    <tr>\n",
       "      <th>0</th>\n",
       "      <td>10</td>\n",
       "      <td>[email, mobile, social]</td>\n",
       "      <td>10</td>\n",
       "      <td>7</td>\n",
       "      <td>bogo</td>\n",
       "      <td>ae264e3637204a6fb9bb56bc8210ddfd</td>\n",
       "    </tr>\n",
       "    <tr>\n",
       "      <th>1</th>\n",
       "      <td>10</td>\n",
       "      <td>[web, email, mobile, social]</td>\n",
       "      <td>10</td>\n",
       "      <td>5</td>\n",
       "      <td>bogo</td>\n",
       "      <td>4d5c57ea9a6940dd891ad53e9dbe8da0</td>\n",
       "    </tr>\n",
       "    <tr>\n",
       "      <th>2</th>\n",
       "      <td>0</td>\n",
       "      <td>[web, email, mobile]</td>\n",
       "      <td>0</td>\n",
       "      <td>4</td>\n",
       "      <td>informational</td>\n",
       "      <td>3f207df678b143eea3cee63160fa8bed</td>\n",
       "    </tr>\n",
       "    <tr>\n",
       "      <th>3</th>\n",
       "      <td>5</td>\n",
       "      <td>[web, email, mobile]</td>\n",
       "      <td>5</td>\n",
       "      <td>7</td>\n",
       "      <td>bogo</td>\n",
       "      <td>9b98b8c7a33c4b65b9aebfe6a799e6d9</td>\n",
       "    </tr>\n",
       "    <tr>\n",
       "      <th>4</th>\n",
       "      <td>5</td>\n",
       "      <td>[web, email]</td>\n",
       "      <td>20</td>\n",
       "      <td>10</td>\n",
       "      <td>discount</td>\n",
       "      <td>0b1e1539f2cc45b7b9fa7c272da2e1d7</td>\n",
       "    </tr>\n",
       "    <tr>\n",
       "      <th>5</th>\n",
       "      <td>3</td>\n",
       "      <td>[web, email, mobile, social]</td>\n",
       "      <td>7</td>\n",
       "      <td>7</td>\n",
       "      <td>discount</td>\n",
       "      <td>2298d6c36e964ae4a3e7e9706d1fb8c2</td>\n",
       "    </tr>\n",
       "    <tr>\n",
       "      <th>6</th>\n",
       "      <td>2</td>\n",
       "      <td>[web, email, mobile, social]</td>\n",
       "      <td>10</td>\n",
       "      <td>10</td>\n",
       "      <td>discount</td>\n",
       "      <td>fafdcd668e3743c1bb461111dcafc2a4</td>\n",
       "    </tr>\n",
       "    <tr>\n",
       "      <th>7</th>\n",
       "      <td>0</td>\n",
       "      <td>[email, mobile, social]</td>\n",
       "      <td>0</td>\n",
       "      <td>3</td>\n",
       "      <td>informational</td>\n",
       "      <td>5a8bc65990b245e5a138643cd4eb9837</td>\n",
       "    </tr>\n",
       "    <tr>\n",
       "      <th>8</th>\n",
       "      <td>5</td>\n",
       "      <td>[web, email, mobile, social]</td>\n",
       "      <td>5</td>\n",
       "      <td>5</td>\n",
       "      <td>bogo</td>\n",
       "      <td>f19421c1d4aa40978ebb69ca19b0e20d</td>\n",
       "    </tr>\n",
       "    <tr>\n",
       "      <th>9</th>\n",
       "      <td>2</td>\n",
       "      <td>[web, email, mobile]</td>\n",
       "      <td>10</td>\n",
       "      <td>7</td>\n",
       "      <td>discount</td>\n",
       "      <td>2906b810c7d4411798c6938adc9daaa5</td>\n",
       "    </tr>\n",
       "  </tbody>\n",
       "</table>\n",
       "</div>"
      ],
      "text/plain": [
       "   reward                      channels  difficulty  duration     offer_type  \\\n",
       "0      10       [email, mobile, social]          10         7           bogo   \n",
       "1      10  [web, email, mobile, social]          10         5           bogo   \n",
       "2       0          [web, email, mobile]           0         4  informational   \n",
       "3       5          [web, email, mobile]           5         7           bogo   \n",
       "4       5                  [web, email]          20        10       discount   \n",
       "5       3  [web, email, mobile, social]           7         7       discount   \n",
       "6       2  [web, email, mobile, social]          10        10       discount   \n",
       "7       0       [email, mobile, social]           0         3  informational   \n",
       "8       5  [web, email, mobile, social]           5         5           bogo   \n",
       "9       2          [web, email, mobile]          10         7       discount   \n",
       "\n",
       "                                 id  \n",
       "0  ae264e3637204a6fb9bb56bc8210ddfd  \n",
       "1  4d5c57ea9a6940dd891ad53e9dbe8da0  \n",
       "2  3f207df678b143eea3cee63160fa8bed  \n",
       "3  9b98b8c7a33c4b65b9aebfe6a799e6d9  \n",
       "4  0b1e1539f2cc45b7b9fa7c272da2e1d7  \n",
       "5  2298d6c36e964ae4a3e7e9706d1fb8c2  \n",
       "6  fafdcd668e3743c1bb461111dcafc2a4  \n",
       "7  5a8bc65990b245e5a138643cd4eb9837  \n",
       "8  f19421c1d4aa40978ebb69ca19b0e20d  \n",
       "9  2906b810c7d4411798c6938adc9daaa5  "
      ]
     },
     "execution_count": 3,
     "metadata": {},
     "output_type": "execute_result"
    }
   ],
   "source": [
    "portfolio"
   ]
  },
  {
   "cell_type": "code",
   "execution_count": 4,
   "metadata": {},
   "outputs": [
    {
     "data": {
      "text/html": [
       "<div>\n",
       "<style scoped>\n",
       "    .dataframe tbody tr th:only-of-type {\n",
       "        vertical-align: middle;\n",
       "    }\n",
       "\n",
       "    .dataframe tbody tr th {\n",
       "        vertical-align: top;\n",
       "    }\n",
       "\n",
       "    .dataframe thead th {\n",
       "        text-align: right;\n",
       "    }\n",
       "</style>\n",
       "<table border=\"1\" class=\"dataframe\">\n",
       "  <thead>\n",
       "    <tr style=\"text-align: right;\">\n",
       "      <th></th>\n",
       "      <th>gender</th>\n",
       "      <th>age</th>\n",
       "      <th>id</th>\n",
       "      <th>became_member_on</th>\n",
       "      <th>income</th>\n",
       "    </tr>\n",
       "  </thead>\n",
       "  <tbody>\n",
       "    <tr>\n",
       "      <th>0</th>\n",
       "      <td>None</td>\n",
       "      <td>118</td>\n",
       "      <td>68be06ca386d4c31939f3a4f0e3dd783</td>\n",
       "      <td>20170212</td>\n",
       "      <td>NaN</td>\n",
       "    </tr>\n",
       "    <tr>\n",
       "      <th>1</th>\n",
       "      <td>F</td>\n",
       "      <td>55</td>\n",
       "      <td>0610b486422d4921ae7d2bf64640c50b</td>\n",
       "      <td>20170715</td>\n",
       "      <td>112000.0</td>\n",
       "    </tr>\n",
       "    <tr>\n",
       "      <th>2</th>\n",
       "      <td>None</td>\n",
       "      <td>118</td>\n",
       "      <td>38fe809add3b4fcf9315a9694bb96ff5</td>\n",
       "      <td>20180712</td>\n",
       "      <td>NaN</td>\n",
       "    </tr>\n",
       "    <tr>\n",
       "      <th>3</th>\n",
       "      <td>F</td>\n",
       "      <td>75</td>\n",
       "      <td>78afa995795e4d85b5d9ceeca43f5fef</td>\n",
       "      <td>20170509</td>\n",
       "      <td>100000.0</td>\n",
       "    </tr>\n",
       "    <tr>\n",
       "      <th>4</th>\n",
       "      <td>None</td>\n",
       "      <td>118</td>\n",
       "      <td>a03223e636434f42ac4c3df47e8bac43</td>\n",
       "      <td>20170804</td>\n",
       "      <td>NaN</td>\n",
       "    </tr>\n",
       "  </tbody>\n",
       "</table>\n",
       "</div>"
      ],
      "text/plain": [
       "  gender  age                                id  became_member_on    income\n",
       "0   None  118  68be06ca386d4c31939f3a4f0e3dd783          20170212       NaN\n",
       "1      F   55  0610b486422d4921ae7d2bf64640c50b          20170715  112000.0\n",
       "2   None  118  38fe809add3b4fcf9315a9694bb96ff5          20180712       NaN\n",
       "3      F   75  78afa995795e4d85b5d9ceeca43f5fef          20170509  100000.0\n",
       "4   None  118  a03223e636434f42ac4c3df47e8bac43          20170804       NaN"
      ]
     },
     "execution_count": 4,
     "metadata": {},
     "output_type": "execute_result"
    }
   ],
   "source": [
    "profile.head()"
   ]
  },
  {
   "cell_type": "code",
   "execution_count": 5,
   "metadata": {},
   "outputs": [
    {
     "data": {
      "text/html": [
       "<div>\n",
       "<style scoped>\n",
       "    .dataframe tbody tr th:only-of-type {\n",
       "        vertical-align: middle;\n",
       "    }\n",
       "\n",
       "    .dataframe tbody tr th {\n",
       "        vertical-align: top;\n",
       "    }\n",
       "\n",
       "    .dataframe thead th {\n",
       "        text-align: right;\n",
       "    }\n",
       "</style>\n",
       "<table border=\"1\" class=\"dataframe\">\n",
       "  <thead>\n",
       "    <tr style=\"text-align: right;\">\n",
       "      <th></th>\n",
       "      <th>offer_id_rec</th>\n",
       "      <th>viewed_rate</th>\n",
       "      <th>completed_rate</th>\n",
       "      <th>tra_offer_infl</th>\n",
       "      <th>valid_view_rate</th>\n",
       "      <th>completed_after_view_rate</th>\n",
       "      <th>reward_won</th>\n",
       "      <th>user_id</th>\n",
       "    </tr>\n",
       "  </thead>\n",
       "  <tbody>\n",
       "    <tr>\n",
       "      <th>0</th>\n",
       "      <td>7</td>\n",
       "      <td>1.0</td>\n",
       "      <td>0.0</td>\n",
       "      <td>49.39</td>\n",
       "      <td>1.0</td>\n",
       "      <td>NaN</td>\n",
       "      <td>0.0</td>\n",
       "      <td>3</td>\n",
       "    </tr>\n",
       "    <tr>\n",
       "      <th>1</th>\n",
       "      <td>3</td>\n",
       "      <td>1.0</td>\n",
       "      <td>1.0</td>\n",
       "      <td>37.67</td>\n",
       "      <td>1.0</td>\n",
       "      <td>1.0</td>\n",
       "      <td>5.0</td>\n",
       "      <td>3</td>\n",
       "    </tr>\n",
       "    <tr>\n",
       "      <th>2</th>\n",
       "      <td>0</td>\n",
       "      <td>1.0</td>\n",
       "      <td>1.0</td>\n",
       "      <td>48.28</td>\n",
       "      <td>1.0</td>\n",
       "      <td>1.0</td>\n",
       "      <td>10.0</td>\n",
       "      <td>3</td>\n",
       "    </tr>\n",
       "    <tr>\n",
       "      <th>3</th>\n",
       "      <td>8</td>\n",
       "      <td>1.0</td>\n",
       "      <td>1.0</td>\n",
       "      <td>0.00</td>\n",
       "      <td>1.0</td>\n",
       "      <td>0.0</td>\n",
       "      <td>5.0</td>\n",
       "      <td>3</td>\n",
       "    </tr>\n",
       "    <tr>\n",
       "      <th>4</th>\n",
       "      <td>4</td>\n",
       "      <td>1.0</td>\n",
       "      <td>0.0</td>\n",
       "      <td>1.09</td>\n",
       "      <td>1.0</td>\n",
       "      <td>NaN</td>\n",
       "      <td>0.0</td>\n",
       "      <td>4</td>\n",
       "    </tr>\n",
       "  </tbody>\n",
       "</table>\n",
       "</div>"
      ],
      "text/plain": [
       "   offer_id_rec  viewed_rate  completed_rate  tra_offer_infl  valid_view_rate  \\\n",
       "0             7          1.0             0.0           49.39              1.0   \n",
       "1             3          1.0             1.0           37.67              1.0   \n",
       "2             0          1.0             1.0           48.28              1.0   \n",
       "3             8          1.0             1.0            0.00              1.0   \n",
       "4             4          1.0             0.0            1.09              1.0   \n",
       "\n",
       "   completed_after_view_rate  reward_won  user_id  \n",
       "0                        NaN         0.0        3  \n",
       "1                        1.0         5.0        3  \n",
       "2                        1.0        10.0        3  \n",
       "3                        0.0         5.0        3  \n",
       "4                        NaN         0.0        4  "
      ]
     },
     "execution_count": 5,
     "metadata": {},
     "output_type": "execute_result"
    }
   ],
   "source": [
    "user_offer_df.head()"
   ]
  },
  {
   "cell_type": "markdown",
   "metadata": {},
   "source": [
    "#### Data preparation for analysis"
   ]
  },
  {
   "cell_type": "markdown",
   "metadata": {},
   "source": [
    "##### 1. Profile"
   ]
  },
  {
   "cell_type": "markdown",
   "metadata": {},
   "source": [
    "Preparing the profile and portifolio datasets to analysis.  \n",
    "\n",
    "It is necessary create a column for interger ids"
   ]
  },
  {
   "cell_type": "code",
   "execution_count": 6,
   "metadata": {},
   "outputs": [],
   "source": [
    "# Profile\n",
    "profile['user_id'] = profile.id.map(map_profile)"
   ]
  },
  {
   "cell_type": "markdown",
   "metadata": {},
   "source": [
    "For the profile dataset, there are some users with a fixed age of 118.   \n",
    "Observing the other data, it is noted that users who are not registrant such information such as genre, age and income.The only information it appears is when the user became a member."
   ]
  },
  {
   "cell_type": "code",
   "execution_count": 7,
   "metadata": {},
   "outputs": [
    {
     "data": {
      "text/html": [
       "<div>\n",
       "<style scoped>\n",
       "    .dataframe tbody tr th:only-of-type {\n",
       "        vertical-align: middle;\n",
       "    }\n",
       "\n",
       "    .dataframe tbody tr th {\n",
       "        vertical-align: top;\n",
       "    }\n",
       "\n",
       "    .dataframe thead th {\n",
       "        text-align: right;\n",
       "    }\n",
       "</style>\n",
       "<table border=\"1\" class=\"dataframe\">\n",
       "  <thead>\n",
       "    <tr style=\"text-align: right;\">\n",
       "      <th></th>\n",
       "      <th>gender</th>\n",
       "      <th>age</th>\n",
       "      <th>id</th>\n",
       "      <th>became_member_on</th>\n",
       "      <th>income</th>\n",
       "      <th>user_id</th>\n",
       "    </tr>\n",
       "  </thead>\n",
       "  <tbody>\n",
       "    <tr>\n",
       "      <th>0</th>\n",
       "      <td>None</td>\n",
       "      <td>118</td>\n",
       "      <td>68be06ca386d4c31939f3a4f0e3dd783</td>\n",
       "      <td>20170212</td>\n",
       "      <td>NaN</td>\n",
       "      <td>0</td>\n",
       "    </tr>\n",
       "    <tr>\n",
       "      <th>2</th>\n",
       "      <td>None</td>\n",
       "      <td>118</td>\n",
       "      <td>38fe809add3b4fcf9315a9694bb96ff5</td>\n",
       "      <td>20180712</td>\n",
       "      <td>NaN</td>\n",
       "      <td>2</td>\n",
       "    </tr>\n",
       "    <tr>\n",
       "      <th>4</th>\n",
       "      <td>None</td>\n",
       "      <td>118</td>\n",
       "      <td>a03223e636434f42ac4c3df47e8bac43</td>\n",
       "      <td>20170804</td>\n",
       "      <td>NaN</td>\n",
       "      <td>4</td>\n",
       "    </tr>\n",
       "    <tr>\n",
       "      <th>6</th>\n",
       "      <td>None</td>\n",
       "      <td>118</td>\n",
       "      <td>8ec6ce2a7e7949b1bf142def7d0e0586</td>\n",
       "      <td>20170925</td>\n",
       "      <td>NaN</td>\n",
       "      <td>6</td>\n",
       "    </tr>\n",
       "    <tr>\n",
       "      <th>7</th>\n",
       "      <td>None</td>\n",
       "      <td>118</td>\n",
       "      <td>68617ca6246f4fbc85e91a2a49552598</td>\n",
       "      <td>20171002</td>\n",
       "      <td>NaN</td>\n",
       "      <td>7</td>\n",
       "    </tr>\n",
       "  </tbody>\n",
       "</table>\n",
       "</div>"
      ],
      "text/plain": [
       "  gender  age                                id  became_member_on  income  \\\n",
       "0   None  118  68be06ca386d4c31939f3a4f0e3dd783          20170212     NaN   \n",
       "2   None  118  38fe809add3b4fcf9315a9694bb96ff5          20180712     NaN   \n",
       "4   None  118  a03223e636434f42ac4c3df47e8bac43          20170804     NaN   \n",
       "6   None  118  8ec6ce2a7e7949b1bf142def7d0e0586          20170925     NaN   \n",
       "7   None  118  68617ca6246f4fbc85e91a2a49552598          20171002     NaN   \n",
       "\n",
       "   user_id  \n",
       "0        0  \n",
       "2        2  \n",
       "4        4  \n",
       "6        6  \n",
       "7        7  "
      ]
     },
     "execution_count": 7,
     "metadata": {},
     "output_type": "execute_result"
    }
   ],
   "source": [
    "# For profile, calculate the \n",
    "\n",
    "profile.loc[pd.isna(profile.gender)].head()"
   ]
  },
  {
   "cell_type": "code",
   "execution_count": 8,
   "metadata": {},
   "outputs": [
    {
     "data": {
      "text/plain": [
       "0.12794117647058822"
      ]
     },
     "execution_count": 8,
     "metadata": {},
     "output_type": "execute_result"
    }
   ],
   "source": [
    "profile.loc[pd.isna(profile.gender)].shape[0] / profile.shape[0]"
   ]
  },
  {
   "cell_type": "markdown",
   "metadata": {},
   "source": [
    "12% of total users has no data for gender, age and income"
   ]
  },
  {
   "cell_type": "markdown",
   "metadata": {},
   "source": [
    "To create one more feature for users, the time they are member, in relation to the latest user, since the date of collecting the data is not known.  \n",
    "\n",
    "It is worth mentioning that even for users without information, this data is present at the dataset"
   ]
  },
  {
   "cell_type": "code",
   "execution_count": 9,
   "metadata": {},
   "outputs": [
    {
     "data": {
      "text/html": [
       "<div>\n",
       "<style scoped>\n",
       "    .dataframe tbody tr th:only-of-type {\n",
       "        vertical-align: middle;\n",
       "    }\n",
       "\n",
       "    .dataframe tbody tr th {\n",
       "        vertical-align: top;\n",
       "    }\n",
       "\n",
       "    .dataframe thead th {\n",
       "        text-align: right;\n",
       "    }\n",
       "</style>\n",
       "<table border=\"1\" class=\"dataframe\">\n",
       "  <thead>\n",
       "    <tr style=\"text-align: right;\">\n",
       "      <th></th>\n",
       "      <th>gender</th>\n",
       "      <th>age</th>\n",
       "      <th>id</th>\n",
       "      <th>became_member_on</th>\n",
       "      <th>income</th>\n",
       "      <th>user_id</th>\n",
       "      <th>rela_member_days</th>\n",
       "    </tr>\n",
       "  </thead>\n",
       "  <tbody>\n",
       "    <tr>\n",
       "      <th>0</th>\n",
       "      <td>None</td>\n",
       "      <td>118</td>\n",
       "      <td>68be06ca386d4c31939f3a4f0e3dd783</td>\n",
       "      <td>2017-02-12</td>\n",
       "      <td>NaN</td>\n",
       "      <td>0</td>\n",
       "      <td>529</td>\n",
       "    </tr>\n",
       "    <tr>\n",
       "      <th>1</th>\n",
       "      <td>F</td>\n",
       "      <td>55</td>\n",
       "      <td>0610b486422d4921ae7d2bf64640c50b</td>\n",
       "      <td>2017-07-15</td>\n",
       "      <td>112000.0</td>\n",
       "      <td>1</td>\n",
       "      <td>376</td>\n",
       "    </tr>\n",
       "    <tr>\n",
       "      <th>2</th>\n",
       "      <td>None</td>\n",
       "      <td>118</td>\n",
       "      <td>38fe809add3b4fcf9315a9694bb96ff5</td>\n",
       "      <td>2018-07-12</td>\n",
       "      <td>NaN</td>\n",
       "      <td>2</td>\n",
       "      <td>14</td>\n",
       "    </tr>\n",
       "    <tr>\n",
       "      <th>3</th>\n",
       "      <td>F</td>\n",
       "      <td>75</td>\n",
       "      <td>78afa995795e4d85b5d9ceeca43f5fef</td>\n",
       "      <td>2017-05-09</td>\n",
       "      <td>100000.0</td>\n",
       "      <td>3</td>\n",
       "      <td>443</td>\n",
       "    </tr>\n",
       "    <tr>\n",
       "      <th>4</th>\n",
       "      <td>None</td>\n",
       "      <td>118</td>\n",
       "      <td>a03223e636434f42ac4c3df47e8bac43</td>\n",
       "      <td>2017-08-04</td>\n",
       "      <td>NaN</td>\n",
       "      <td>4</td>\n",
       "      <td>356</td>\n",
       "    </tr>\n",
       "  </tbody>\n",
       "</table>\n",
       "</div>"
      ],
      "text/plain": [
       "  gender  age                                id became_member_on    income  \\\n",
       "0   None  118  68be06ca386d4c31939f3a4f0e3dd783       2017-02-12       NaN   \n",
       "1      F   55  0610b486422d4921ae7d2bf64640c50b       2017-07-15  112000.0   \n",
       "2   None  118  38fe809add3b4fcf9315a9694bb96ff5       2018-07-12       NaN   \n",
       "3      F   75  78afa995795e4d85b5d9ceeca43f5fef       2017-05-09  100000.0   \n",
       "4   None  118  a03223e636434f42ac4c3df47e8bac43       2017-08-04       NaN   \n",
       "\n",
       "   user_id  rela_member_days  \n",
       "0        0               529  \n",
       "1        1               376  \n",
       "2        2                14  \n",
       "3        3               443  \n",
       "4        4               356  "
      ]
     },
     "execution_count": 9,
     "metadata": {},
     "output_type": "execute_result"
    }
   ],
   "source": [
    "# Convert to datetime\n",
    "profile['became_member_on'] = pd.to_datetime(profile['became_member_on'], format='%Y%m%d')\n",
    "# Get the newest user in data\n",
    "most_recent_mem_data = profile['became_member_on'].max()\n",
    "# Creating a extra column to put number of days compared with newest\n",
    "profile['rela_member_days'] = (most_recent_mem_data - profile['became_member_on']).dt.days\n",
    "\n",
    "profile.head()"
   ]
  },
  {
   "cell_type": "markdown",
   "metadata": {},
   "source": [
    "For gender data, the voids are replaced by not informed.  \n",
    "For application in models, this category could be treated separately later"
   ]
  },
  {
   "cell_type": "code",
   "execution_count": 10,
   "metadata": {},
   "outputs": [
    {
     "data": {
      "text/html": [
       "<div>\n",
       "<style scoped>\n",
       "    .dataframe tbody tr th:only-of-type {\n",
       "        vertical-align: middle;\n",
       "    }\n",
       "\n",
       "    .dataframe tbody tr th {\n",
       "        vertical-align: top;\n",
       "    }\n",
       "\n",
       "    .dataframe thead th {\n",
       "        text-align: right;\n",
       "    }\n",
       "</style>\n",
       "<table border=\"1\" class=\"dataframe\">\n",
       "  <thead>\n",
       "    <tr style=\"text-align: right;\">\n",
       "      <th></th>\n",
       "      <th>gender</th>\n",
       "      <th>age</th>\n",
       "      <th>id</th>\n",
       "      <th>became_member_on</th>\n",
       "      <th>income</th>\n",
       "      <th>user_id</th>\n",
       "      <th>rela_member_days</th>\n",
       "    </tr>\n",
       "  </thead>\n",
       "  <tbody>\n",
       "    <tr>\n",
       "      <th>0</th>\n",
       "      <td>NI</td>\n",
       "      <td>118</td>\n",
       "      <td>68be06ca386d4c31939f3a4f0e3dd783</td>\n",
       "      <td>2017-02-12</td>\n",
       "      <td>NaN</td>\n",
       "      <td>0</td>\n",
       "      <td>529</td>\n",
       "    </tr>\n",
       "    <tr>\n",
       "      <th>1</th>\n",
       "      <td>F</td>\n",
       "      <td>55</td>\n",
       "      <td>0610b486422d4921ae7d2bf64640c50b</td>\n",
       "      <td>2017-07-15</td>\n",
       "      <td>112000.0</td>\n",
       "      <td>1</td>\n",
       "      <td>376</td>\n",
       "    </tr>\n",
       "    <tr>\n",
       "      <th>2</th>\n",
       "      <td>NI</td>\n",
       "      <td>118</td>\n",
       "      <td>38fe809add3b4fcf9315a9694bb96ff5</td>\n",
       "      <td>2018-07-12</td>\n",
       "      <td>NaN</td>\n",
       "      <td>2</td>\n",
       "      <td>14</td>\n",
       "    </tr>\n",
       "    <tr>\n",
       "      <th>3</th>\n",
       "      <td>F</td>\n",
       "      <td>75</td>\n",
       "      <td>78afa995795e4d85b5d9ceeca43f5fef</td>\n",
       "      <td>2017-05-09</td>\n",
       "      <td>100000.0</td>\n",
       "      <td>3</td>\n",
       "      <td>443</td>\n",
       "    </tr>\n",
       "    <tr>\n",
       "      <th>4</th>\n",
       "      <td>NI</td>\n",
       "      <td>118</td>\n",
       "      <td>a03223e636434f42ac4c3df47e8bac43</td>\n",
       "      <td>2017-08-04</td>\n",
       "      <td>NaN</td>\n",
       "      <td>4</td>\n",
       "      <td>356</td>\n",
       "    </tr>\n",
       "  </tbody>\n",
       "</table>\n",
       "</div>"
      ],
      "text/plain": [
       "  gender  age                                id became_member_on    income  \\\n",
       "0     NI  118  68be06ca386d4c31939f3a4f0e3dd783       2017-02-12       NaN   \n",
       "1      F   55  0610b486422d4921ae7d2bf64640c50b       2017-07-15  112000.0   \n",
       "2     NI  118  38fe809add3b4fcf9315a9694bb96ff5       2018-07-12       NaN   \n",
       "3      F   75  78afa995795e4d85b5d9ceeca43f5fef       2017-05-09  100000.0   \n",
       "4     NI  118  a03223e636434f42ac4c3df47e8bac43       2017-08-04       NaN   \n",
       "\n",
       "   user_id  rela_member_days  \n",
       "0        0               529  \n",
       "1        1               376  \n",
       "2        2                14  \n",
       "3        3               443  \n",
       "4        4               356  "
      ]
     },
     "execution_count": 10,
     "metadata": {},
     "output_type": "execute_result"
    }
   ],
   "source": [
    "# Replace NaN gender with NI (not informed)\n",
    "profile['gender'] = profile['gender'].fillna('NI')\n",
    "\n",
    "profile.head()"
   ]
  },
  {
   "cell_type": "markdown",
   "metadata": {},
   "source": [
    "For income, all the users are part of the group that did not also inform the age and gender.  \n",
    "\n",
    "For this case, the distribution of income to check if the average may be a good choice "
   ]
  },
  {
   "cell_type": "code",
   "execution_count": 118,
   "metadata": {},
   "outputs": [
    {
     "data": {
      "image/png": "[encoded data removed]",
      "text/plain": [
       "<Figure size 432x288 with 1 Axes>"
      ]
     },
     "metadata": {
      "needs_background": "light"
     },
     "output_type": "display_data"
    },
    {
     "name": "stdout",
     "output_type": "stream",
     "text": [
      "Mean income: 65225.23529411765\n",
      "Median income: 64000.0\n"
     ]
    }
   ],
   "source": [
    "# Distribuition of income\n",
    "sns.kdeplot(data=profile, x='income', cumulative=True)\n",
    "plt.axvline(x=profile[\"income\"].mean(), color='black')\n",
    "plt.show()\n",
    "\n",
    "print(f'Mean income: {profile[\"income\"].mean()}')\n",
    "print(f'Median income: {profile[\"income\"].median()}')"
   ]
  },
  {
   "cell_type": "markdown",
   "metadata": {},
   "source": [
    "65 thousand is the average and 64 thousand the median, which shows that 50% of the values are close to that value.  \n",
    "Thus, assigning the median to the missing values will not change the distributions significantly."
   ]
  },
  {
   "cell_type": "code",
   "execution_count": 12,
   "metadata": {},
   "outputs": [
    {
     "data": {
      "text/html": [
       "<div>\n",
       "<style scoped>\n",
       "    .dataframe tbody tr th:only-of-type {\n",
       "        vertical-align: middle;\n",
       "    }\n",
       "\n",
       "    .dataframe tbody tr th {\n",
       "        vertical-align: top;\n",
       "    }\n",
       "\n",
       "    .dataframe thead th {\n",
       "        text-align: right;\n",
       "    }\n",
       "</style>\n",
       "<table border=\"1\" class=\"dataframe\">\n",
       "  <thead>\n",
       "    <tr style=\"text-align: right;\">\n",
       "      <th></th>\n",
       "      <th>gender</th>\n",
       "      <th>age</th>\n",
       "      <th>id</th>\n",
       "      <th>became_member_on</th>\n",
       "      <th>income</th>\n",
       "      <th>user_id</th>\n",
       "      <th>rela_member_days</th>\n",
       "    </tr>\n",
       "  </thead>\n",
       "  <tbody>\n",
       "    <tr>\n",
       "      <th>0</th>\n",
       "      <td>NI</td>\n",
       "      <td>118</td>\n",
       "      <td>68be06ca386d4c31939f3a4f0e3dd783</td>\n",
       "      <td>2017-02-12</td>\n",
       "      <td>64000.0</td>\n",
       "      <td>0</td>\n",
       "      <td>529</td>\n",
       "    </tr>\n",
       "    <tr>\n",
       "      <th>1</th>\n",
       "      <td>F</td>\n",
       "      <td>55</td>\n",
       "      <td>0610b486422d4921ae7d2bf64640c50b</td>\n",
       "      <td>2017-07-15</td>\n",
       "      <td>112000.0</td>\n",
       "      <td>1</td>\n",
       "      <td>376</td>\n",
       "    </tr>\n",
       "    <tr>\n",
       "      <th>2</th>\n",
       "      <td>NI</td>\n",
       "      <td>118</td>\n",
       "      <td>38fe809add3b4fcf9315a9694bb96ff5</td>\n",
       "      <td>2018-07-12</td>\n",
       "      <td>64000.0</td>\n",
       "      <td>2</td>\n",
       "      <td>14</td>\n",
       "    </tr>\n",
       "    <tr>\n",
       "      <th>3</th>\n",
       "      <td>F</td>\n",
       "      <td>75</td>\n",
       "      <td>78afa995795e4d85b5d9ceeca43f5fef</td>\n",
       "      <td>2017-05-09</td>\n",
       "      <td>100000.0</td>\n",
       "      <td>3</td>\n",
       "      <td>443</td>\n",
       "    </tr>\n",
       "    <tr>\n",
       "      <th>4</th>\n",
       "      <td>NI</td>\n",
       "      <td>118</td>\n",
       "      <td>a03223e636434f42ac4c3df47e8bac43</td>\n",
       "      <td>2017-08-04</td>\n",
       "      <td>64000.0</td>\n",
       "      <td>4</td>\n",
       "      <td>356</td>\n",
       "    </tr>\n",
       "  </tbody>\n",
       "</table>\n",
       "</div>"
      ],
      "text/plain": [
       "  gender  age                                id became_member_on    income  \\\n",
       "0     NI  118  68be06ca386d4c31939f3a4f0e3dd783       2017-02-12   64000.0   \n",
       "1      F   55  0610b486422d4921ae7d2bf64640c50b       2017-07-15  112000.0   \n",
       "2     NI  118  38fe809add3b4fcf9315a9694bb96ff5       2018-07-12   64000.0   \n",
       "3      F   75  78afa995795e4d85b5d9ceeca43f5fef       2017-05-09  100000.0   \n",
       "4     NI  118  a03223e636434f42ac4c3df47e8bac43       2017-08-04   64000.0   \n",
       "\n",
       "   user_id  rela_member_days  \n",
       "0        0               529  \n",
       "1        1               376  \n",
       "2        2                14  \n",
       "3        3               443  \n",
       "4        4               356  "
      ]
     },
     "execution_count": 12,
     "metadata": {},
     "output_type": "execute_result"
    }
   ],
   "source": [
    "# Fill na with mean\n",
    "\n",
    "profile['income'] = profile['income'].fillna(profile.income.median())\n",
    "\n",
    "profile.head()"
   ]
  },
  {
   "cell_type": "markdown",
   "metadata": {},
   "source": [
    "Por último, o valor de 118 no campo de idade pode atrapalhar nas análise. Assim, para esses valores, também se usará a mediana das idades como substituto."
   ]
  },
  {
   "cell_type": "code",
   "execution_count": 13,
   "metadata": {},
   "outputs": [
    {
     "data": {
      "text/html": [
       "<div>\n",
       "<style scoped>\n",
       "    .dataframe tbody tr th:only-of-type {\n",
       "        vertical-align: middle;\n",
       "    }\n",
       "\n",
       "    .dataframe tbody tr th {\n",
       "        vertical-align: top;\n",
       "    }\n",
       "\n",
       "    .dataframe thead th {\n",
       "        text-align: right;\n",
       "    }\n",
       "</style>\n",
       "<table border=\"1\" class=\"dataframe\">\n",
       "  <thead>\n",
       "    <tr style=\"text-align: right;\">\n",
       "      <th></th>\n",
       "      <th>gender</th>\n",
       "      <th>age</th>\n",
       "      <th>id</th>\n",
       "      <th>became_member_on</th>\n",
       "      <th>income</th>\n",
       "      <th>user_id</th>\n",
       "      <th>rela_member_days</th>\n",
       "    </tr>\n",
       "  </thead>\n",
       "  <tbody>\n",
       "    <tr>\n",
       "      <th>0</th>\n",
       "      <td>NI</td>\n",
       "      <td>55.0</td>\n",
       "      <td>68be06ca386d4c31939f3a4f0e3dd783</td>\n",
       "      <td>2017-02-12</td>\n",
       "      <td>64000.0</td>\n",
       "      <td>0</td>\n",
       "      <td>529</td>\n",
       "    </tr>\n",
       "    <tr>\n",
       "      <th>1</th>\n",
       "      <td>F</td>\n",
       "      <td>55.0</td>\n",
       "      <td>0610b486422d4921ae7d2bf64640c50b</td>\n",
       "      <td>2017-07-15</td>\n",
       "      <td>112000.0</td>\n",
       "      <td>1</td>\n",
       "      <td>376</td>\n",
       "    </tr>\n",
       "    <tr>\n",
       "      <th>2</th>\n",
       "      <td>NI</td>\n",
       "      <td>55.0</td>\n",
       "      <td>38fe809add3b4fcf9315a9694bb96ff5</td>\n",
       "      <td>2018-07-12</td>\n",
       "      <td>64000.0</td>\n",
       "      <td>2</td>\n",
       "      <td>14</td>\n",
       "    </tr>\n",
       "    <tr>\n",
       "      <th>3</th>\n",
       "      <td>F</td>\n",
       "      <td>75.0</td>\n",
       "      <td>78afa995795e4d85b5d9ceeca43f5fef</td>\n",
       "      <td>2017-05-09</td>\n",
       "      <td>100000.0</td>\n",
       "      <td>3</td>\n",
       "      <td>443</td>\n",
       "    </tr>\n",
       "    <tr>\n",
       "      <th>4</th>\n",
       "      <td>NI</td>\n",
       "      <td>55.0</td>\n",
       "      <td>a03223e636434f42ac4c3df47e8bac43</td>\n",
       "      <td>2017-08-04</td>\n",
       "      <td>64000.0</td>\n",
       "      <td>4</td>\n",
       "      <td>356</td>\n",
       "    </tr>\n",
       "  </tbody>\n",
       "</table>\n",
       "</div>"
      ],
      "text/plain": [
       "  gender   age                                id became_member_on    income  \\\n",
       "0     NI  55.0  68be06ca386d4c31939f3a4f0e3dd783       2017-02-12   64000.0   \n",
       "1      F  55.0  0610b486422d4921ae7d2bf64640c50b       2017-07-15  112000.0   \n",
       "2     NI  55.0  38fe809add3b4fcf9315a9694bb96ff5       2018-07-12   64000.0   \n",
       "3      F  75.0  78afa995795e4d85b5d9ceeca43f5fef       2017-05-09  100000.0   \n",
       "4     NI  55.0  a03223e636434f42ac4c3df47e8bac43       2017-08-04   64000.0   \n",
       "\n",
       "   user_id  rela_member_days  \n",
       "0        0               529  \n",
       "1        1               376  \n",
       "2        2                14  \n",
       "3        3               443  \n",
       "4        4               356  "
      ]
     },
     "execution_count": 13,
     "metadata": {},
     "output_type": "execute_result"
    }
   ],
   "source": [
    "# Fill 118 values with meadian, without this extreme value\n",
    "profile.loc[profile.age == 118, 'age'] = profile.loc[profile.age != 118, 'age'].median()\n",
    "\n",
    "profile.head()"
   ]
  },
  {
   "cell_type": "markdown",
   "metadata": {},
   "source": [
    "##### 2. Portifolio"
   ]
  },
  {
   "cell_type": "markdown",
   "metadata": {},
   "source": [
    "First, create the integer id column for portifolio"
   ]
  },
  {
   "cell_type": "code",
   "execution_count": 14,
   "metadata": {},
   "outputs": [
    {
     "data": {
      "text/html": [
       "<div>\n",
       "<style scoped>\n",
       "    .dataframe tbody tr th:only-of-type {\n",
       "        vertical-align: middle;\n",
       "    }\n",
       "\n",
       "    .dataframe tbody tr th {\n",
       "        vertical-align: top;\n",
       "    }\n",
       "\n",
       "    .dataframe thead th {\n",
       "        text-align: right;\n",
       "    }\n",
       "</style>\n",
       "<table border=\"1\" class=\"dataframe\">\n",
       "  <thead>\n",
       "    <tr style=\"text-align: right;\">\n",
       "      <th></th>\n",
       "      <th>reward</th>\n",
       "      <th>channels</th>\n",
       "      <th>difficulty</th>\n",
       "      <th>duration</th>\n",
       "      <th>offer_type</th>\n",
       "      <th>id</th>\n",
       "      <th>offer_id</th>\n",
       "    </tr>\n",
       "  </thead>\n",
       "  <tbody>\n",
       "    <tr>\n",
       "      <th>0</th>\n",
       "      <td>10</td>\n",
       "      <td>[email, mobile, social]</td>\n",
       "      <td>10</td>\n",
       "      <td>7</td>\n",
       "      <td>bogo</td>\n",
       "      <td>ae264e3637204a6fb9bb56bc8210ddfd</td>\n",
       "      <td>0</td>\n",
       "    </tr>\n",
       "    <tr>\n",
       "      <th>1</th>\n",
       "      <td>10</td>\n",
       "      <td>[web, email, mobile, social]</td>\n",
       "      <td>10</td>\n",
       "      <td>5</td>\n",
       "      <td>bogo</td>\n",
       "      <td>4d5c57ea9a6940dd891ad53e9dbe8da0</td>\n",
       "      <td>1</td>\n",
       "    </tr>\n",
       "    <tr>\n",
       "      <th>2</th>\n",
       "      <td>0</td>\n",
       "      <td>[web, email, mobile]</td>\n",
       "      <td>0</td>\n",
       "      <td>4</td>\n",
       "      <td>informational</td>\n",
       "      <td>3f207df678b143eea3cee63160fa8bed</td>\n",
       "      <td>2</td>\n",
       "    </tr>\n",
       "    <tr>\n",
       "      <th>3</th>\n",
       "      <td>5</td>\n",
       "      <td>[web, email, mobile]</td>\n",
       "      <td>5</td>\n",
       "      <td>7</td>\n",
       "      <td>bogo</td>\n",
       "      <td>9b98b8c7a33c4b65b9aebfe6a799e6d9</td>\n",
       "      <td>3</td>\n",
       "    </tr>\n",
       "    <tr>\n",
       "      <th>4</th>\n",
       "      <td>5</td>\n",
       "      <td>[web, email]</td>\n",
       "      <td>20</td>\n",
       "      <td>10</td>\n",
       "      <td>discount</td>\n",
       "      <td>0b1e1539f2cc45b7b9fa7c272da2e1d7</td>\n",
       "      <td>4</td>\n",
       "    </tr>\n",
       "  </tbody>\n",
       "</table>\n",
       "</div>"
      ],
      "text/plain": [
       "   reward                      channels  difficulty  duration     offer_type  \\\n",
       "0      10       [email, mobile, social]          10         7           bogo   \n",
       "1      10  [web, email, mobile, social]          10         5           bogo   \n",
       "2       0          [web, email, mobile]           0         4  informational   \n",
       "3       5          [web, email, mobile]           5         7           bogo   \n",
       "4       5                  [web, email]          20        10       discount   \n",
       "\n",
       "                                 id  offer_id  \n",
       "0  ae264e3637204a6fb9bb56bc8210ddfd         0  \n",
       "1  4d5c57ea9a6940dd891ad53e9dbe8da0         1  \n",
       "2  3f207df678b143eea3cee63160fa8bed         2  \n",
       "3  9b98b8c7a33c4b65b9aebfe6a799e6d9         3  \n",
       "4  0b1e1539f2cc45b7b9fa7c272da2e1d7         4  "
      ]
     },
     "execution_count": 14,
     "metadata": {},
     "output_type": "execute_result"
    }
   ],
   "source": [
    "# Portifolio\n",
    "portfolio['offer_id'] = portfolio.id.map(map_portifolio)\n",
    "\n",
    "portfolio.head()"
   ]
  },
  {
   "cell_type": "markdown",
   "metadata": {},
   "source": [
    "##### 3. Merging datasets"
   ]
  },
  {
   "cell_type": "markdown",
   "metadata": {},
   "source": [
    "Merging the user offer dataset with profile and portifolio dataset  \n",
    "\n",
    "The extra information will be used to exploring the data."
   ]
  },
  {
   "cell_type": "code",
   "execution_count": 15,
   "metadata": {},
   "outputs": [
    {
     "data": {
      "text/html": [
       "<div>\n",
       "<style scoped>\n",
       "    .dataframe tbody tr th:only-of-type {\n",
       "        vertical-align: middle;\n",
       "    }\n",
       "\n",
       "    .dataframe tbody tr th {\n",
       "        vertical-align: top;\n",
       "    }\n",
       "\n",
       "    .dataframe thead th {\n",
       "        text-align: right;\n",
       "    }\n",
       "</style>\n",
       "<table border=\"1\" class=\"dataframe\">\n",
       "  <thead>\n",
       "    <tr style=\"text-align: right;\">\n",
       "      <th></th>\n",
       "      <th>offer_id_rec</th>\n",
       "      <th>viewed_rate</th>\n",
       "      <th>completed_rate</th>\n",
       "      <th>tra_offer_infl</th>\n",
       "      <th>valid_view_rate</th>\n",
       "      <th>completed_after_view_rate</th>\n",
       "      <th>reward_won</th>\n",
       "      <th>user_id</th>\n",
       "      <th>offer_id</th>\n",
       "      <th>offer_reward</th>\n",
       "      <th>offer_difficulty</th>\n",
       "      <th>offer_type</th>\n",
       "      <th>gender</th>\n",
       "      <th>age</th>\n",
       "      <th>income</th>\n",
       "      <th>rela_member_days</th>\n",
       "    </tr>\n",
       "  </thead>\n",
       "  <tbody>\n",
       "    <tr>\n",
       "      <th>0</th>\n",
       "      <td>7</td>\n",
       "      <td>1.0</td>\n",
       "      <td>0.0</td>\n",
       "      <td>49.39</td>\n",
       "      <td>1.0</td>\n",
       "      <td>NaN</td>\n",
       "      <td>0.0</td>\n",
       "      <td>3</td>\n",
       "      <td>7</td>\n",
       "      <td>0</td>\n",
       "      <td>0</td>\n",
       "      <td>informational</td>\n",
       "      <td>F</td>\n",
       "      <td>75.0</td>\n",
       "      <td>100000.0</td>\n",
       "      <td>443</td>\n",
       "    </tr>\n",
       "    <tr>\n",
       "      <th>1</th>\n",
       "      <td>3</td>\n",
       "      <td>1.0</td>\n",
       "      <td>1.0</td>\n",
       "      <td>37.67</td>\n",
       "      <td>1.0</td>\n",
       "      <td>1.0</td>\n",
       "      <td>5.0</td>\n",
       "      <td>3</td>\n",
       "      <td>3</td>\n",
       "      <td>5</td>\n",
       "      <td>5</td>\n",
       "      <td>bogo</td>\n",
       "      <td>F</td>\n",
       "      <td>75.0</td>\n",
       "      <td>100000.0</td>\n",
       "      <td>443</td>\n",
       "    </tr>\n",
       "    <tr>\n",
       "      <th>2</th>\n",
       "      <td>0</td>\n",
       "      <td>1.0</td>\n",
       "      <td>1.0</td>\n",
       "      <td>48.28</td>\n",
       "      <td>1.0</td>\n",
       "      <td>1.0</td>\n",
       "      <td>10.0</td>\n",
       "      <td>3</td>\n",
       "      <td>0</td>\n",
       "      <td>10</td>\n",
       "      <td>10</td>\n",
       "      <td>bogo</td>\n",
       "      <td>F</td>\n",
       "      <td>75.0</td>\n",
       "      <td>100000.0</td>\n",
       "      <td>443</td>\n",
       "    </tr>\n",
       "    <tr>\n",
       "      <th>3</th>\n",
       "      <td>8</td>\n",
       "      <td>1.0</td>\n",
       "      <td>1.0</td>\n",
       "      <td>0.00</td>\n",
       "      <td>1.0</td>\n",
       "      <td>0.0</td>\n",
       "      <td>5.0</td>\n",
       "      <td>3</td>\n",
       "      <td>8</td>\n",
       "      <td>5</td>\n",
       "      <td>5</td>\n",
       "      <td>bogo</td>\n",
       "      <td>F</td>\n",
       "      <td>75.0</td>\n",
       "      <td>100000.0</td>\n",
       "      <td>443</td>\n",
       "    </tr>\n",
       "    <tr>\n",
       "      <th>4</th>\n",
       "      <td>7</td>\n",
       "      <td>0.0</td>\n",
       "      <td>0.0</td>\n",
       "      <td>0.00</td>\n",
       "      <td>NaN</td>\n",
       "      <td>NaN</td>\n",
       "      <td>0.0</td>\n",
       "      <td>4</td>\n",
       "      <td>7</td>\n",
       "      <td>0</td>\n",
       "      <td>0</td>\n",
       "      <td>informational</td>\n",
       "      <td>NI</td>\n",
       "      <td>55.0</td>\n",
       "      <td>64000.0</td>\n",
       "      <td>356</td>\n",
       "    </tr>\n",
       "  </tbody>\n",
       "</table>\n",
       "</div>"
      ],
      "text/plain": [
       "   offer_id_rec  viewed_rate  completed_rate  tra_offer_infl  valid_view_rate  \\\n",
       "0             7          1.0             0.0           49.39              1.0   \n",
       "1             3          1.0             1.0           37.67              1.0   \n",
       "2             0          1.0             1.0           48.28              1.0   \n",
       "3             8          1.0             1.0            0.00              1.0   \n",
       "4             7          0.0             0.0            0.00              NaN   \n",
       "\n",
       "   completed_after_view_rate  reward_won  user_id  offer_id  offer_reward  \\\n",
       "0                        NaN         0.0        3         7             0   \n",
       "1                        1.0         5.0        3         3             5   \n",
       "2                        1.0        10.0        3         0            10   \n",
       "3                        0.0         5.0        3         8             5   \n",
       "4                        NaN         0.0        4         7             0   \n",
       "\n",
       "   offer_difficulty     offer_type gender   age    income  rela_member_days  \n",
       "0                 0  informational      F  75.0  100000.0               443  \n",
       "1                 5           bogo      F  75.0  100000.0               443  \n",
       "2                10           bogo      F  75.0  100000.0               443  \n",
       "3                 5           bogo      F  75.0  100000.0               443  \n",
       "4                 0  informational     NI  55.0   64000.0               356  "
      ]
     },
     "execution_count": 15,
     "metadata": {},
     "output_type": "execute_result"
    }
   ],
   "source": [
    "# Just interesting columns from profile and portifolio\n",
    "# Profile\n",
    "profile2 = profile[['user_id', 'gender', 'age', 'income', 'rela_member_days']]\n",
    "\n",
    "# Portifolio\n",
    "portfolio2 = portfolio[['offer_id', 'reward', 'difficulty', 'offer_type']]\n",
    "portfolio2.columns = ['offer_id', 'offer_reward', 'offer_difficulty', 'offer_type']\n",
    "\n",
    "# Merging with user_offer_id\n",
    "\n",
    "user_offer_df2 =  user_offer_df.merge(portfolio2, left_on='offer_id_rec', right_on='offer_id')\n",
    "user_offer_df2 = user_offer_df2.merge(profile2, on='user_id')\n",
    "\n",
    "user_offer_df2.head() \n",
    "\n"
   ]
  },
  {
   "cell_type": "markdown",
   "metadata": {},
   "source": [
    "Informações contínuas, como renda e idade podem ser melhor analisadas a partir do seu agrupamento.  \n",
    "O melhor agrupamento para uma única variável é nos quartis, separando os dados em 4 partes iguais."
   ]
  },
  {
   "cell_type": "code",
   "execution_count": 92,
   "metadata": {},
   "outputs": [
    {
     "data": {
      "text/html": [
       "<div>\n",
       "<style scoped>\n",
       "    .dataframe tbody tr th:only-of-type {\n",
       "        vertical-align: middle;\n",
       "    }\n",
       "\n",
       "    .dataframe tbody tr th {\n",
       "        vertical-align: top;\n",
       "    }\n",
       "\n",
       "    .dataframe thead th {\n",
       "        text-align: right;\n",
       "    }\n",
       "</style>\n",
       "<table border=\"1\" class=\"dataframe\">\n",
       "  <thead>\n",
       "    <tr style=\"text-align: right;\">\n",
       "      <th></th>\n",
       "      <th>offer_id_rec</th>\n",
       "      <th>viewed_rate</th>\n",
       "      <th>completed_rate</th>\n",
       "      <th>tra_offer_infl</th>\n",
       "      <th>valid_view_rate</th>\n",
       "      <th>completed_after_view_rate</th>\n",
       "      <th>reward_won</th>\n",
       "      <th>user_id</th>\n",
       "      <th>offer_id</th>\n",
       "      <th>offer_reward</th>\n",
       "      <th>offer_difficulty</th>\n",
       "      <th>offer_type</th>\n",
       "      <th>gender</th>\n",
       "      <th>age</th>\n",
       "      <th>income</th>\n",
       "      <th>rela_member_days</th>\n",
       "      <th>age_quartile</th>\n",
       "      <th>income_quartile</th>\n",
       "      <th>member_time_quartile</th>\n",
       "    </tr>\n",
       "  </thead>\n",
       "  <tbody>\n",
       "    <tr>\n",
       "      <th>0</th>\n",
       "      <td>7</td>\n",
       "      <td>1.0</td>\n",
       "      <td>0.0</td>\n",
       "      <td>49.39</td>\n",
       "      <td>1.0</td>\n",
       "      <td>NaN</td>\n",
       "      <td>0.0</td>\n",
       "      <td>3</td>\n",
       "      <td>7</td>\n",
       "      <td>0</td>\n",
       "      <td>0</td>\n",
       "      <td>informational</td>\n",
       "      <td>F</td>\n",
       "      <td>75.0</td>\n",
       "      <td>100000.0</td>\n",
       "      <td>443</td>\n",
       "      <td>(65.0, 101.0]</td>\n",
       "      <td>(76000.0, 120000.0]</td>\n",
       "      <td>(358.0, 791.75]</td>\n",
       "    </tr>\n",
       "    <tr>\n",
       "      <th>1</th>\n",
       "      <td>3</td>\n",
       "      <td>1.0</td>\n",
       "      <td>1.0</td>\n",
       "      <td>37.67</td>\n",
       "      <td>1.0</td>\n",
       "      <td>1.0</td>\n",
       "      <td>5.0</td>\n",
       "      <td>3</td>\n",
       "      <td>3</td>\n",
       "      <td>5</td>\n",
       "      <td>5</td>\n",
       "      <td>bogo</td>\n",
       "      <td>F</td>\n",
       "      <td>75.0</td>\n",
       "      <td>100000.0</td>\n",
       "      <td>443</td>\n",
       "      <td>(65.0, 101.0]</td>\n",
       "      <td>(76000.0, 120000.0]</td>\n",
       "      <td>(358.0, 791.75]</td>\n",
       "    </tr>\n",
       "    <tr>\n",
       "      <th>2</th>\n",
       "      <td>0</td>\n",
       "      <td>1.0</td>\n",
       "      <td>1.0</td>\n",
       "      <td>48.28</td>\n",
       "      <td>1.0</td>\n",
       "      <td>1.0</td>\n",
       "      <td>10.0</td>\n",
       "      <td>3</td>\n",
       "      <td>0</td>\n",
       "      <td>10</td>\n",
       "      <td>10</td>\n",
       "      <td>bogo</td>\n",
       "      <td>F</td>\n",
       "      <td>75.0</td>\n",
       "      <td>100000.0</td>\n",
       "      <td>443</td>\n",
       "      <td>(65.0, 101.0]</td>\n",
       "      <td>(76000.0, 120000.0]</td>\n",
       "      <td>(358.0, 791.75]</td>\n",
       "    </tr>\n",
       "    <tr>\n",
       "      <th>3</th>\n",
       "      <td>8</td>\n",
       "      <td>1.0</td>\n",
       "      <td>1.0</td>\n",
       "      <td>0.00</td>\n",
       "      <td>1.0</td>\n",
       "      <td>0.0</td>\n",
       "      <td>5.0</td>\n",
       "      <td>3</td>\n",
       "      <td>8</td>\n",
       "      <td>5</td>\n",
       "      <td>5</td>\n",
       "      <td>bogo</td>\n",
       "      <td>F</td>\n",
       "      <td>75.0</td>\n",
       "      <td>100000.0</td>\n",
       "      <td>443</td>\n",
       "      <td>(65.0, 101.0]</td>\n",
       "      <td>(76000.0, 120000.0]</td>\n",
       "      <td>(358.0, 791.75]</td>\n",
       "    </tr>\n",
       "    <tr>\n",
       "      <th>4</th>\n",
       "      <td>7</td>\n",
       "      <td>0.0</td>\n",
       "      <td>0.0</td>\n",
       "      <td>0.00</td>\n",
       "      <td>NaN</td>\n",
       "      <td>NaN</td>\n",
       "      <td>0.0</td>\n",
       "      <td>4</td>\n",
       "      <td>7</td>\n",
       "      <td>0</td>\n",
       "      <td>0</td>\n",
       "      <td>informational</td>\n",
       "      <td>NI</td>\n",
       "      <td>55.0</td>\n",
       "      <td>64000.0</td>\n",
       "      <td>356</td>\n",
       "      <td>(45.0, 55.0]</td>\n",
       "      <td>(51000.0, 64000.0]</td>\n",
       "      <td>(208.0, 358.0]</td>\n",
       "    </tr>\n",
       "  </tbody>\n",
       "</table>\n",
       "</div>"
      ],
      "text/plain": [
       "   offer_id_rec  viewed_rate  completed_rate  tra_offer_infl  valid_view_rate  \\\n",
       "0             7          1.0             0.0           49.39              1.0   \n",
       "1             3          1.0             1.0           37.67              1.0   \n",
       "2             0          1.0             1.0           48.28              1.0   \n",
       "3             8          1.0             1.0            0.00              1.0   \n",
       "4             7          0.0             0.0            0.00              NaN   \n",
       "\n",
       "   completed_after_view_rate  reward_won  user_id  offer_id  offer_reward  \\\n",
       "0                        NaN         0.0        3         7             0   \n",
       "1                        1.0         5.0        3         3             5   \n",
       "2                        1.0        10.0        3         0            10   \n",
       "3                        0.0         5.0        3         8             5   \n",
       "4                        NaN         0.0        4         7             0   \n",
       "\n",
       "   offer_difficulty     offer_type gender   age    income  rela_member_days  \\\n",
       "0                 0  informational      F  75.0  100000.0               443   \n",
       "1                 5           bogo      F  75.0  100000.0               443   \n",
       "2                10           bogo      F  75.0  100000.0               443   \n",
       "3                 5           bogo      F  75.0  100000.0               443   \n",
       "4                 0  informational     NI  55.0   64000.0               356   \n",
       "\n",
       "    age_quartile      income_quartile member_time_quartile  \n",
       "0  (65.0, 101.0]  (76000.0, 120000.0]      (358.0, 791.75]  \n",
       "1  (65.0, 101.0]  (76000.0, 120000.0]      (358.0, 791.75]  \n",
       "2  (65.0, 101.0]  (76000.0, 120000.0]      (358.0, 791.75]  \n",
       "3  (65.0, 101.0]  (76000.0, 120000.0]      (358.0, 791.75]  \n",
       "4   (45.0, 55.0]   (51000.0, 64000.0]       (208.0, 358.0]  "
      ]
     },
     "execution_count": 92,
     "metadata": {},
     "output_type": "execute_result"
    }
   ],
   "source": [
    "user_offer_df2['age_quartile'] = pd.qcut(user_offer_df2['age'], q=4)\n",
    "user_offer_df2['income_quartile'] = pd.qcut(user_offer_df2['income'], q=4)\n",
    "user_offer_df2['member_time_quartile'] = pd.qcut(user_offer_df2['rela_member_days'], q=4)\n",
    "\n",
    "user_offer_df2.head()"
   ]
  },
  {
   "cell_type": "markdown",
   "metadata": {},
   "source": [
    "#### Exploring the data"
   ]
  },
  {
   "cell_type": "markdown",
   "metadata": {},
   "source": [
    "Questions  \n",
    "\n",
    "1. Number of distributed offers\n",
    "2. Number of type of offers distributed\n",
    "3. Age of age, income, home and sex time\n",
    "4. Fee transactions influenced by the offer by the same fields"
   ]
  },
  {
   "cell_type": "markdown",
   "metadata": {},
   "source": [
    "##### 1. Quantity of offers sent"
   ]
  },
  {
   "cell_type": "markdown",
   "metadata": {},
   "source": [
    "Number of offers sent by type"
   ]
  },
  {
   "cell_type": "code",
   "execution_count": 153,
   "metadata": {},
   "outputs": [
    {
     "data": {
      "image/png": "[encoded data removed]",
      "text/plain": [
       "<Figure size 432x288 with 1 Axes>"
      ]
     },
     "metadata": {
      "needs_background": "light"
     },
     "output_type": "display_data"
    },
    {
     "data": {
      "text/plain": [
       "bogo             0.399645\n",
       "discount         0.400010\n",
       "informational    0.200345\n",
       "Name: offer_type, dtype: float64"
      ]
     },
     "execution_count": 153,
     "metadata": {},
     "output_type": "execute_result"
    }
   ],
   "source": [
    "importlib.reload(aux_fun)\n",
    "\n",
    "f, ax = plt.subplots()\n",
    "\n",
    "aux_fun.plot_by_category_count(df=user_offer_df2,\n",
    "    col_category='offer_type',\n",
    "    title='Number of offers sent by type',\n",
    "    x_label='Proportion',\n",
    "    y_label='Offer type',\n",
    "    return_table=True,\n",
    "    ax=ax\n",
    ")\n"
   ]
  },
  {
   "cell_type": "code",
   "execution_count": 176,
   "metadata": {},
   "outputs": [
    {
     "data": {
      "text/plain": [
       "offer_type\n",
       "bogo             24.129860\n",
       "discount         30.603217\n",
       "informational     9.371114\n",
       "Name: tra_offer_infl, dtype: float64"
      ]
     },
     "execution_count": 176,
     "metadata": {},
     "output_type": "execute_result"
    },
    {
     "data": {
      "image/png": "[encoded data removed]",
      "text/plain": [
       "<Figure size 1440x360 with 4 Axes>"
      ]
     },
     "metadata": {
      "needs_background": "light"
     },
     "output_type": "display_data"
    }
   ],
   "source": [
    "importlib.reload(aux_fun)\n",
    "\n",
    "f, axs = plt.subplots(nrows=1, ncols=4, sharey=True)\n",
    "f.set_size_inches(20,5)\n",
    "\n",
    "\n",
    "aux_fun.plot_by_category_count(df=user_offer_df2,\n",
    "    col_category='offer_type',\n",
    "    title='Number of offers sent by type',\n",
    "    x_label='Proportion',\n",
    "    y_label='Offer type',\n",
    "    return_table=True,\n",
    "    ax=axs[0]\n",
    ")\n",
    "\n",
    "aux_fun.plot_by_category_metric(df=user_offer_df2, \n",
    "    col_category='offer_type',\n",
    "    metric='viewed_rate',\n",
    "    title='Transações por tipo de oferta',\n",
    "    x_label='Transactions $',\n",
    "    y_label='Offer Type',\n",
    "    return_table=True,\n",
    "    ax=axs[1]\n",
    "    )\n",
    "\n",
    "plot_df = user_offer_df2.loc[user_offer_df2['viewed_rate'] != 0] # just visualized \n",
    "\n",
    "aux_fun.plot_by_category_metric(df=plot_df, \n",
    "    col_category='offer_type',\n",
    "    metric='completed_rate',\n",
    "    title='Transações por tipo de oferta',\n",
    "    x_label='Transactions $',\n",
    "    y_label='Offer Type',\n",
    "    return_table=True,\n",
    "    ax=axs[2]\n",
    "    )\n",
    "\n",
    "aux_fun.plot_by_category_metric(df=user_offer_df2, \n",
    "    col_category='offer_type',\n",
    "    metric='tra_offer_infl',\n",
    "    title='Transações por tipo de oferta',\n",
    "    x_label='Transactions $',\n",
    "    y_label='Offer Type',\n",
    "    return_table=True,\n",
    "    ax=axs[3]\n",
    "    )\n"
   ]
  },
  {
   "cell_type": "code",
   "execution_count": 128,
   "metadata": {},
   "outputs": [
    {
     "data": {
      "image/png": "[encoded data removed]",
      "text/plain": [
       "<Figure size 432x288 with 1 Axes>"
      ]
     },
     "metadata": {
      "needs_background": "light"
     },
     "output_type": "display_data"
    },
    {
     "data": {
      "text/plain": [
       "bogo             0.399645\n",
       "discount         0.400010\n",
       "informational    0.200345\n",
       "Name: offer_type, dtype: float64"
      ]
     },
     "execution_count": 128,
     "metadata": {},
     "output_type": "execute_result"
    }
   ],
   "source": [
    "import functions.functions as aux_fun\n",
    "importlib.reload(aux_fun)\n",
    "\n",
    "aux_fun.plot_by_category_count(df=user_offer_df2,\n",
    "    col_category='offer_type',\n",
    "    title='Number of offers sent by type',\n",
    "    x_label='Proportion',\n",
    "    y_label='Offer type',\n",
    "    return_table=True,\n",
    "    ax=axs[0]\n",
    ")"
   ]
  },
  {
   "cell_type": "markdown",
   "metadata": {},
   "source": [
    "Data are generated by simulation, it is noted that the proportion of the types of offers sent is distributed by 40% for bogo type, 40% for discount and 20% for informational.  \n",
    "\n",
    "For the same reason, the same must be seen in the distribution by offer id"
   ]
  },
  {
   "cell_type": "code",
   "execution_count": 18,
   "metadata": {},
   "outputs": [
    {
     "data": {
      "image/png": "[encoded data removed]",
      "text/plain": [
       "<Figure size 510x340 with 1 Axes>"
      ]
     },
     "metadata": {
      "needs_background": "light"
     },
     "output_type": "display_data"
    },
    {
     "data": {
      "text/plain": [
       "0    0.100640\n",
       "1    0.100165\n",
       "2    0.100260\n",
       "3    0.099895\n",
       "4    0.100671\n",
       "5    0.100086\n",
       "6    0.100181\n",
       "7    0.100086\n",
       "8    0.098945\n",
       "9    0.099072\n",
       "Name: offer_id_rec, dtype: float64"
      ]
     },
     "execution_count": 18,
     "metadata": {},
     "output_type": "execute_result"
    }
   ],
   "source": [
    "# plot_df = user_offer_df2['offer_id_rec'].value_counts().\\\n",
    "#     sort_index(ascending=False) / user_offer_df2.shape[0]\n",
    "\n",
    "# plt.figure(dpi=85)\n",
    "# plot_df.plot.barh()\n",
    "# plt.title('Number of offers sent by id')\n",
    "# plt.xlabel('Proportion')\n",
    "# plt.ylabel('Offer ID')\n",
    "# plt.show()\n",
    "\n",
    "aux_fun.plot_by_category_count(df=user_offer_df2,\n",
    "    col_category='offer_id_rec',\n",
    "    title='Number of offers sent by id',\n",
    "    x_label='Proportion',\n",
    "    y_label='Offer',\n",
    "    return_table=True\n",
    ")"
   ]
  },
  {
   "cell_type": "markdown",
   "metadata": {},
   "source": [
    "Exact, the data were generated with the same porportion for all offer ids present in portifolio"
   ]
  },
  {
   "cell_type": "markdown",
   "metadata": {},
   "source": [
    "For profile data, it is noteworthy that only 6 users have not received any offer."
   ]
  },
  {
   "cell_type": "code",
   "execution_count": 19,
   "metadata": {},
   "outputs": [
    {
     "data": {
      "text/plain": [
       "array([  872,  5425,  5639,  6789, 14763, 15391], dtype=int64)"
      ]
     },
     "execution_count": 19,
     "metadata": {},
     "output_type": "execute_result"
    }
   ],
   "source": [
    "np.setdiff1d(profile2['user_id'], user_offer_df2['user_id'])"
   ]
  },
  {
   "cell_type": "markdown",
   "metadata": {},
   "source": [
    "Because of this, the distribution of offer data are very close to the distribution of profile data"
   ]
  },
  {
   "cell_type": "markdown",
   "metadata": {},
   "source": [
    "For income data, separates the continuous value into quartiles to check distribuition of offers"
   ]
  },
  {
   "cell_type": "markdown",
   "metadata": {},
   "source": [
    "TODO CONTINUAR DAQUI"
   ]
  },
  {
   "cell_type": "code",
   "execution_count": 20,
   "metadata": {},
   "outputs": [
    {
     "data": {
      "image/png": "[encoded data removed]",
      "text/plain": [
       "<Figure size 510x340 with 1 Axes>"
      ]
     },
     "metadata": {
      "needs_background": "light"
     },
     "output_type": "display_data"
    },
    {
     "data": {
      "image/png": "[encoded data removed]",
      "text/plain": [
       "<Figure size 510x340 with 1 Axes>"
      ]
     },
     "metadata": {
      "needs_background": "light"
     },
     "output_type": "display_data"
    },
    {
     "data": {
      "text/plain": [
       "(29999.999, 51000.0]    0.253064\n",
       "(51000.0, 64000.0]      0.325690\n",
       "(64000.0, 76000.0]      0.174611\n",
       "(76000.0, 120000.0]     0.246635\n",
       "Name: income_quartile, dtype: float64"
      ]
     },
     "execution_count": 20,
     "metadata": {},
     "output_type": "execute_result"
    }
   ],
   "source": [
    "plot_df = pd.qcut(user_offer_df2['income'], q=4).value_counts(). \\\n",
    "    sort_index(ascending=False) / user_offer_df2.shape[0]\n",
    "\n",
    "plt.figure(dpi=85)\n",
    "plot_df.plot.barh()\n",
    "plt.title('Number of offers by quartile of income')\n",
    "plt.xlabel('Proportion')\n",
    "plt.ylabel('Income Quartiles')\n",
    "plt.show()\n",
    "\n",
    "aux_fun.plot_by_category_count(df=user_offer_df2,\n",
    "    col_category='income_quartile',\n",
    "    title='Number of offers by quartile of income',\n",
    "    x_label='Proportion',\n",
    "    y_label='Income Quartiles',\n",
    "    return_table=True\n",
    ")"
   ]
  },
  {
   "cell_type": "markdown",
   "metadata": {},
   "source": [
    "For income, more offers were sent to quartile where there are more people.The income group that least received offers was the third."
   ]
  },
  {
   "cell_type": "markdown",
   "metadata": {},
   "source": [
    "For gender"
   ]
  },
  {
   "cell_type": "code",
   "execution_count": 21,
   "metadata": {},
   "outputs": [
    {
     "data": {
      "image/png": "[encoded data removed]",
      "text/plain": [
       "<Figure size 510x340 with 1 Axes>"
      ]
     },
     "metadata": {
      "needs_background": "light"
     },
     "output_type": "display_data"
    }
   ],
   "source": [
    "plot_df = user_offer_df2['gender'].value_counts().\\\n",
    "    sort_index(ascending=False) / user_offer_df2.shape[0]\n",
    "\n",
    "plt.figure(dpi=85)\n",
    "plot_df.plot.barh()\n",
    "plt.title('Number of offers by gender')\n",
    "plt.xlabel('Proportion')\n",
    "plt.ylabel('Gender')\n",
    "plt.show()"
   ]
  },
  {
   "cell_type": "markdown",
   "metadata": {},
   "source": [
    "More offers were sent to male, putting with the distribution of this category on the profile base"
   ]
  },
  {
   "cell_type": "markdown",
   "metadata": {},
   "source": [
    "##### 2. Visualization of offers"
   ]
  },
  {
   "cell_type": "markdown",
   "metadata": {},
   "source": [
    "The first step for an offer to have effect on the user is to view it.  "
   ]
  },
  {
   "cell_type": "markdown",
   "metadata": {},
   "source": [
    "Visualizations by Type of Offer"
   ]
  },
  {
   "cell_type": "code",
   "execution_count": 22,
   "metadata": {},
   "outputs": [
    {
     "data": {
      "image/png": "[encoded data removed]",
      "text/plain": [
       "<Figure size 510x340 with 1 Axes>"
      ]
     },
     "metadata": {
      "needs_background": "light"
     },
     "output_type": "display_data"
    },
    {
     "data": {
      "text/plain": [
       "offer_type\n",
       "discount         0.721446\n",
       "informational    0.735831\n",
       "bogo             0.850412\n",
       "Name: viewed_rate, dtype: float64"
      ]
     },
     "execution_count": 22,
     "metadata": {},
     "output_type": "execute_result"
    }
   ],
   "source": [
    "plot_df = user_offer_df2.groupby('offer_type')['viewed_rate'].mean().\\\n",
    "    sort_values(ascending=True)\n",
    "\n",
    "plt.figure(dpi=85)\n",
    "plot_df.plot.barh()\n",
    "plt.title('View rate by type of offer')\n",
    "plt.xlabel('Visualization Rate')\n",
    "plt.ylabel('Offer type')\n",
    "plt.show()\n",
    "\n",
    "plot_df"
   ]
  },
  {
   "cell_type": "markdown",
   "metadata": {},
   "source": [
    "What looks like is that buy-one get one offers has a slightly larger viewing fee compared to the other two.\n",
    "\n",
    "Fact that proportions are not really so far from one another\n",
    "However, it is possible to test whether these proportions are statistically different with a test of proprotions between independent samples (and considering that they are normal)."
   ]
  },
  {
   "cell_type": "code",
   "execution_count": null,
   "metadata": {},
   "outputs": [],
   "source": [
    "\n"
   ]
  },
  {
   "cell_type": "code",
   "execution_count": 23,
   "metadata": {},
   "outputs": [
    {
     "name": "stdout",
     "output_type": "stream",
     "text": [
      "p-value of 0.0. With confidence value of 0.05, bogo and informational distributions are different\n",
      "p-value of 0.0. With confidence value of 0.05, bogo and discount distributions are different\n",
      "p-value of 0.002. With confidence value of 0.05, informational and discount distributions are different\n"
     ]
    }
   ],
   "source": [
    "# Proportion test between two samples\n",
    "# The test is one-tailed greater than\n",
    "\n",
    "list_set = [['bogo', 'informational'], ['bogo', 'discount'], ['informational', 'discount']]\n",
    "\n",
    "for set_ in list_set:\n",
    "    aux_fun.test_proportions_in_dataframe(df=user_offer_df2, column='offer_type', \n",
    "        cat1=set_[0], cat2=set_[1], metric='viewed_rate')"
   ]
  },
  {
   "cell_type": "markdown",
   "metadata": {},
   "source": [
    "Then, statistically, despite close proportions between infromational and discount, the three types of offers have different viewing proportions"
   ]
  },
  {
   "cell_type": "markdown",
   "metadata": {},
   "source": [
    "Visualizations by offer id"
   ]
  },
  {
   "cell_type": "code",
   "execution_count": 24,
   "metadata": {},
   "outputs": [
    {
     "data": {
      "image/png": "[encoded data removed]",
      "text/plain": [
       "<Figure size 510x340 with 1 Axes>"
      ]
     },
     "metadata": {
      "needs_background": "light"
     },
     "output_type": "display_data"
    },
    {
     "data": {
      "text/plain": [
       "offer_id_rec\n",
       "4    0.374862\n",
       "9    0.572091\n",
       "3    0.572448\n",
       "2    0.574159\n",
       "0    0.893312\n",
       "7    0.897785\n",
       "8    0.967670\n",
       "5    0.967880\n",
       "1    0.968696\n",
       "6    0.971230\n",
       "Name: viewed_rate, dtype: float64"
      ]
     },
     "execution_count": 24,
     "metadata": {},
     "output_type": "execute_result"
    }
   ],
   "source": [
    "plot_df = user_offer_df2.groupby('offer_id_rec')['viewed_rate'].mean().\\\n",
    "    sort_values(ascending=True)\n",
    "\n",
    "plt.figure(dpi=85)\n",
    "plot_df.plot.barh()\n",
    "plt.title('View rate by type of offer id')\n",
    "plt.xlabel('Visualization Rate')\n",
    "plt.ylabel('Offer ID')\n",
    "plt.show()\n",
    "\n",
    "plot_df"
   ]
  },
  {
   "cell_type": "markdown",
   "metadata": {},
   "source": [
    "Six offers has visualization fee greater than 80%.Three have a rate greater than 50%.One, the offer with ID 4 has a low view rate.  \n",
    "\n",
    "Looking at portifolio dataset"
   ]
  },
  {
   "cell_type": "code",
   "execution_count": 25,
   "metadata": {},
   "outputs": [
    {
     "data": {
      "text/html": [
       "<div>\n",
       "<style scoped>\n",
       "    .dataframe tbody tr th:only-of-type {\n",
       "        vertical-align: middle;\n",
       "    }\n",
       "\n",
       "    .dataframe tbody tr th {\n",
       "        vertical-align: top;\n",
       "    }\n",
       "\n",
       "    .dataframe thead th {\n",
       "        text-align: right;\n",
       "    }\n",
       "</style>\n",
       "<table border=\"1\" class=\"dataframe\">\n",
       "  <thead>\n",
       "    <tr style=\"text-align: right;\">\n",
       "      <th></th>\n",
       "      <th>offer_id</th>\n",
       "      <th>channels</th>\n",
       "    </tr>\n",
       "  </thead>\n",
       "  <tbody>\n",
       "    <tr>\n",
       "      <th>0</th>\n",
       "      <td>0</td>\n",
       "      <td>[email, mobile, social]</td>\n",
       "    </tr>\n",
       "    <tr>\n",
       "      <th>1</th>\n",
       "      <td>1</td>\n",
       "      <td>[web, email, mobile, social]</td>\n",
       "    </tr>\n",
       "    <tr>\n",
       "      <th>2</th>\n",
       "      <td>2</td>\n",
       "      <td>[web, email, mobile]</td>\n",
       "    </tr>\n",
       "    <tr>\n",
       "      <th>3</th>\n",
       "      <td>3</td>\n",
       "      <td>[web, email, mobile]</td>\n",
       "    </tr>\n",
       "    <tr>\n",
       "      <th>4</th>\n",
       "      <td>4</td>\n",
       "      <td>[web, email]</td>\n",
       "    </tr>\n",
       "    <tr>\n",
       "      <th>5</th>\n",
       "      <td>5</td>\n",
       "      <td>[web, email, mobile, social]</td>\n",
       "    </tr>\n",
       "    <tr>\n",
       "      <th>6</th>\n",
       "      <td>6</td>\n",
       "      <td>[web, email, mobile, social]</td>\n",
       "    </tr>\n",
       "    <tr>\n",
       "      <th>7</th>\n",
       "      <td>7</td>\n",
       "      <td>[email, mobile, social]</td>\n",
       "    </tr>\n",
       "    <tr>\n",
       "      <th>8</th>\n",
       "      <td>8</td>\n",
       "      <td>[web, email, mobile, social]</td>\n",
       "    </tr>\n",
       "    <tr>\n",
       "      <th>9</th>\n",
       "      <td>9</td>\n",
       "      <td>[web, email, mobile]</td>\n",
       "    </tr>\n",
       "  </tbody>\n",
       "</table>\n",
       "</div>"
      ],
      "text/plain": [
       "   offer_id                      channels\n",
       "0         0       [email, mobile, social]\n",
       "1         1  [web, email, mobile, social]\n",
       "2         2          [web, email, mobile]\n",
       "3         3          [web, email, mobile]\n",
       "4         4                  [web, email]\n",
       "5         5  [web, email, mobile, social]\n",
       "6         6  [web, email, mobile, social]\n",
       "7         7       [email, mobile, social]\n",
       "8         8  [web, email, mobile, social]\n",
       "9         9          [web, email, mobile]"
      ]
     },
     "execution_count": 25,
     "metadata": {},
     "output_type": "execute_result"
    }
   ],
   "source": [
    "portfolio[['offer_id', 'channels']]"
   ]
  },
  {
   "cell_type": "markdown",
   "metadata": {},
   "source": [
    "Checking on the base of offers, it is noted that the offer with ID 4 has the smallest number of distribution channels, which can be an explanation for the low view rate.\n",
    "\n",
    "In fact, this happens to the other offers.The more disclosure channels, the higher the visualization fee"
   ]
  },
  {
   "cell_type": "markdown",
   "metadata": {},
   "source": [
    "Visualizations by ages"
   ]
  },
  {
   "cell_type": "markdown",
   "metadata": {},
   "source": [
    "Dividing the range of ages in quartiles to see distribution of visualization rate"
   ]
  },
  {
   "cell_type": "code",
   "execution_count": 26,
   "metadata": {},
   "outputs": [
    {
     "data": {
      "image/png": "[encoded data removed]",
      "text/plain": [
       "<Figure size 510x340 with 1 Axes>"
      ]
     },
     "metadata": {
      "needs_background": "light"
     },
     "output_type": "display_data"
    },
    {
     "data": {
      "text/plain": [
       "age_quartile\n",
       "(17.999, 45.0]    0.751632\n",
       "(45.0, 55.0]      0.798858\n",
       "(55.0, 65.0]      0.773795\n",
       "(65.0, 101.0]     0.773745\n",
       "Name: viewed_rate, dtype: float64"
      ]
     },
     "execution_count": 26,
     "metadata": {},
     "output_type": "execute_result"
    }
   ],
   "source": [
    "user_offer_df2['age_quartile'] = pd.qcut(user_offer_df2['age'], 4)\n",
    "\n",
    "plot_df = user_offer_df2.groupby('age_quartile')['viewed_rate'].mean().\\\n",
    "    sort_index(ascending=True)\n",
    "\n",
    "plt.figure(dpi=85)\n",
    "plot_df.plot.barh()\n",
    "plt.title('View rate by type of offer id')\n",
    "plt.xlabel('Visualization Rate')\n",
    "plt.ylabel('Offer ID')\n",
    "plt.show()\n",
    "\n",
    "plot_df"
   ]
  },
  {
   "cell_type": "markdown",
   "metadata": {},
   "source": [
    "For the old quarks, the proportions are very similar.  \n",
    "\n",
    "Statistically checking for two sets of groups"
   ]
  },
  {
   "cell_type": "code",
   "execution_count": 27,
   "metadata": {},
   "outputs": [
    {
     "name": "stdout",
     "output_type": "stream",
     "text": [
      "p-value of 0.0. With confidence value of 0.05, (45.0, 55.0] and (17.999, 45.0] distributions are different\n",
      "p-value of 0.0. With confidence value of 0.05, (45.0, 55.0] and (65.0, 101.0] distributions are different\n"
     ]
    }
   ],
   "source": [
    "aux_fun.test_proportions_in_dataframe(df=user_offer_df2, column='age_quartile', \n",
    "     cat1=pd.Interval(45.0, 55.0), cat2=pd.Interval(17.999, 45.0), metric='viewed_rate')\n",
    "\n",
    "aux_fun.test_proportions_in_dataframe(df=user_offer_df2, column='age_quartile', \n",
    "     cat1=pd.Interval(45.0, 55.0), cat2=pd.Interval(65.0, 101.0), metric='viewed_rate')"
   ]
  },
  {
   "cell_type": "markdown",
   "metadata": {},
   "source": [
    "Different from distributions to type of offer, in this case the old quartile groups do not have statistical differences.  \n",
    "So, all these groups have the same proportion in Viewing Offers"
   ]
  },
  {
   "cell_type": "markdown",
   "metadata": {},
   "source": [
    "The same analysis for income groups"
   ]
  },
  {
   "cell_type": "code",
   "execution_count": 28,
   "metadata": {},
   "outputs": [
    {
     "data": {
      "image/png": "[encoded data removed]",
      "text/plain": [
       "<Figure size 510x340 with 1 Axes>"
      ]
     },
     "metadata": {
      "needs_background": "light"
     },
     "output_type": "display_data"
    },
    {
     "data": {
      "text/plain": [
       "income_quartile\n",
       "(76000.0, 120000.0]     0.788429\n",
       "(64000.0, 76000.0]      0.787865\n",
       "(51000.0, 64000.0]      0.808519\n",
       "(29999.999, 51000.0]    0.713329\n",
       "Name: viewed_rate, dtype: float64"
      ]
     },
     "execution_count": 28,
     "metadata": {},
     "output_type": "execute_result"
    }
   ],
   "source": [
    "user_offer_df2['income_quartile'] = pd.qcut(user_offer_df2['income'], 4)\n",
    "\n",
    "plot_df = user_offer_df2.groupby('income_quartile')['viewed_rate'].mean().\\\n",
    "    sort_index(ascending=False)\n",
    "\n",
    "plt.figure(dpi=85)\n",
    "plot_df.plot.barh()\n",
    "plt.title('View rate by type of offer id')\n",
    "plt.xlabel('Visualization Rate')\n",
    "plt.ylabel('Offer ID')\n",
    "plt.show()\n",
    "\n",
    "plot_df"
   ]
  },
  {
   "cell_type": "code",
   "execution_count": 29,
   "metadata": {},
   "outputs": [
    {
     "name": "stdout",
     "output_type": "stream",
     "text": [
      "p-value of 1.0. With confidence value of 0.05, (29999.999, 51000.0] and (51000.0, 64000.0] distributions are equal\n",
      "p-value of 1.0. With confidence value of 0.05, (76000.0, 120000.0] and (51000.0, 64000.0] distributions are equal\n"
     ]
    }
   ],
   "source": [
    "aux_fun.test_proportions_in_dataframe(df=user_offer_df2, column='income_quartile', \n",
    "     cat1=pd.Interval(29999.999, 51000.0), cat2=pd.Interval(51000.0, 64000.0), metric='viewed_rate')\n",
    "\n",
    "aux_fun.test_proportions_in_dataframe(df=user_offer_df2, column='income_quartile', \n",
    "     cat1=pd.Interval(76000.0, 120000.0), cat2=pd.Interval(51000.0, 64000.0), metric='viewed_rate')\n"
   ]
  },
  {
   "cell_type": "markdown",
   "metadata": {},
   "source": [
    "Again, view rates for income groups do not differ"
   ]
  },
  {
   "cell_type": "markdown",
   "metadata": {},
   "source": [
    "Opening for offer types"
   ]
  },
  {
   "cell_type": "markdown",
   "metadata": {},
   "source": [
    "Perhaps age and income views vary based on the type of offer"
   ]
  },
  {
   "cell_type": "code",
   "execution_count": 30,
   "metadata": {},
   "outputs": [
    {
     "data": {
      "text/plain": [
       "array(['bogo', 'informational', 'discount'], dtype=object)"
      ]
     },
     "execution_count": 30,
     "metadata": {},
     "output_type": "execute_result"
    }
   ],
   "source": [
    "# Get the types of different offers\n",
    "offer_types = portfolio2.offer_type.unique()\n",
    "offer_types"
   ]
  },
  {
   "cell_type": "code",
   "execution_count": 31,
   "metadata": {},
   "outputs": [
    {
     "data": {
      "image/png": "[encoded data removed]",
      "text/plain": [
       "<Figure size 1296x288 with 4 Axes>"
      ]
     },
     "metadata": {
      "needs_background": "light"
     },
     "output_type": "display_data"
    },
    {
     "data": {
      "text/html": [
       "<div>\n",
       "<style scoped>\n",
       "    .dataframe tbody tr th:only-of-type {\n",
       "        vertical-align: middle;\n",
       "    }\n",
       "\n",
       "    .dataframe tbody tr th {\n",
       "        vertical-align: top;\n",
       "    }\n",
       "\n",
       "    .dataframe thead th {\n",
       "        text-align: right;\n",
       "    }\n",
       "</style>\n",
       "<table border=\"1\" class=\"dataframe\">\n",
       "  <thead>\n",
       "    <tr style=\"text-align: right;\">\n",
       "      <th></th>\n",
       "      <th>offer_type</th>\n",
       "      <th>age_quartile</th>\n",
       "      <th>viewed_rate</th>\n",
       "    </tr>\n",
       "  </thead>\n",
       "  <tbody>\n",
       "    <tr>\n",
       "      <th>0</th>\n",
       "      <td>bogo</td>\n",
       "      <td>(17.999, 45.0]</td>\n",
       "      <td>0.847856</td>\n",
       "    </tr>\n",
       "    <tr>\n",
       "      <th>1</th>\n",
       "      <td>bogo</td>\n",
       "      <td>(45.0, 55.0]</td>\n",
       "      <td>0.860984</td>\n",
       "    </tr>\n",
       "    <tr>\n",
       "      <th>2</th>\n",
       "      <td>bogo</td>\n",
       "      <td>(55.0, 65.0]</td>\n",
       "      <td>0.838852</td>\n",
       "    </tr>\n",
       "    <tr>\n",
       "      <th>3</th>\n",
       "      <td>bogo</td>\n",
       "      <td>(65.0, 101.0]</td>\n",
       "      <td>0.848857</td>\n",
       "    </tr>\n",
       "    <tr>\n",
       "      <th>4</th>\n",
       "      <td>discount</td>\n",
       "      <td>(17.999, 45.0]</td>\n",
       "      <td>0.671880</td>\n",
       "    </tr>\n",
       "    <tr>\n",
       "      <th>5</th>\n",
       "      <td>discount</td>\n",
       "      <td>(45.0, 55.0]</td>\n",
       "      <td>0.751028</td>\n",
       "    </tr>\n",
       "    <tr>\n",
       "      <th>6</th>\n",
       "      <td>discount</td>\n",
       "      <td>(55.0, 65.0]</td>\n",
       "      <td>0.736365</td>\n",
       "    </tr>\n",
       "    <tr>\n",
       "      <th>7</th>\n",
       "      <td>discount</td>\n",
       "      <td>(65.0, 101.0]</td>\n",
       "      <td>0.724396</td>\n",
       "    </tr>\n",
       "    <tr>\n",
       "      <th>8</th>\n",
       "      <td>informational</td>\n",
       "      <td>(17.999, 45.0]</td>\n",
       "      <td>0.718604</td>\n",
       "    </tr>\n",
       "    <tr>\n",
       "      <th>9</th>\n",
       "      <td>informational</td>\n",
       "      <td>(45.0, 55.0]</td>\n",
       "      <td>0.769055</td>\n",
       "    </tr>\n",
       "    <tr>\n",
       "      <th>10</th>\n",
       "      <td>informational</td>\n",
       "      <td>(55.0, 65.0]</td>\n",
       "      <td>0.720016</td>\n",
       "    </tr>\n",
       "    <tr>\n",
       "      <th>11</th>\n",
       "      <td>informational</td>\n",
       "      <td>(65.0, 101.0]</td>\n",
       "      <td>0.723667</td>\n",
       "    </tr>\n",
       "  </tbody>\n",
       "</table>\n",
       "</div>"
      ],
      "text/plain": [
       "       offer_type    age_quartile  viewed_rate\n",
       "0            bogo  (17.999, 45.0]     0.847856\n",
       "1            bogo    (45.0, 55.0]     0.860984\n",
       "2            bogo    (55.0, 65.0]     0.838852\n",
       "3            bogo   (65.0, 101.0]     0.848857\n",
       "4        discount  (17.999, 45.0]     0.671880\n",
       "5        discount    (45.0, 55.0]     0.751028\n",
       "6        discount    (55.0, 65.0]     0.736365\n",
       "7        discount   (65.0, 101.0]     0.724396\n",
       "8   informational  (17.999, 45.0]     0.718604\n",
       "9   informational    (45.0, 55.0]     0.769055\n",
       "10  informational    (55.0, 65.0]     0.720016\n",
       "11  informational   (65.0, 101.0]     0.723667"
      ]
     },
     "execution_count": 31,
     "metadata": {},
     "output_type": "execute_result"
    }
   ],
   "source": [
    "# Running for each offer type\n",
    "\n",
    "plot_df = user_offer_df2.groupby(['offer_type', 'age_quartile'], \n",
    "    as_index=False)['viewed_rate'].mean().sort_index(ascending=True)\n",
    "\n",
    "# Ploting in grid\n",
    "g = sns.FacetGrid(data=plot_df, col='age_quartile', sharex=True)\n",
    "g.map_dataframe(sns.barplot, y='offer_type', x='viewed_rate')\n",
    "g.fig.subplots_adjust(top=0.85)\n",
    "g.fig.suptitle('Visualization rate for age groups and by type of offer')\n",
    "g.set_xlabels('View rate')\n",
    "g.set_ylabels('Offer Type')\n",
    "\n",
    "fig = plt.gcf()\n",
    "\n",
    "fig.set_size_inches(18,4)\n",
    "plt.show()\n",
    "\n",
    "plot_df"
   ]
  },
  {
   "cell_type": "markdown",
   "metadata": {},
   "source": [
    "Nothing different from the porportions again. High values are for BOGO offers, which had already been seen previously.  "
   ]
  },
  {
   "cell_type": "markdown",
   "metadata": {},
   "source": [
    "For income quartiles"
   ]
  },
  {
   "cell_type": "code",
   "execution_count": 32,
   "metadata": {},
   "outputs": [
    {
     "data": {
      "image/png": "[encoded data removed]",
      "text/plain": [
       "<Figure size 1296x288 with 4 Axes>"
      ]
     },
     "metadata": {
      "needs_background": "light"
     },
     "output_type": "display_data"
    },
    {
     "data": {
      "text/html": [
       "<div>\n",
       "<style scoped>\n",
       "    .dataframe tbody tr th:only-of-type {\n",
       "        vertical-align: middle;\n",
       "    }\n",
       "\n",
       "    .dataframe tbody tr th {\n",
       "        vertical-align: top;\n",
       "    }\n",
       "\n",
       "    .dataframe thead th {\n",
       "        text-align: right;\n",
       "    }\n",
       "</style>\n",
       "<table border=\"1\" class=\"dataframe\">\n",
       "  <thead>\n",
       "    <tr style=\"text-align: right;\">\n",
       "      <th></th>\n",
       "      <th>offer_type</th>\n",
       "      <th>income_quartile</th>\n",
       "      <th>viewed_rate</th>\n",
       "    </tr>\n",
       "  </thead>\n",
       "  <tbody>\n",
       "    <tr>\n",
       "      <th>0</th>\n",
       "      <td>bogo</td>\n",
       "      <td>(29999.999, 51000.0]</td>\n",
       "      <td>0.821200</td>\n",
       "    </tr>\n",
       "    <tr>\n",
       "      <th>1</th>\n",
       "      <td>bogo</td>\n",
       "      <td>(51000.0, 64000.0]</td>\n",
       "      <td>0.872745</td>\n",
       "    </tr>\n",
       "    <tr>\n",
       "      <th>2</th>\n",
       "      <td>bogo</td>\n",
       "      <td>(64000.0, 76000.0]</td>\n",
       "      <td>0.859900</td>\n",
       "    </tr>\n",
       "    <tr>\n",
       "      <th>3</th>\n",
       "      <td>bogo</td>\n",
       "      <td>(76000.0, 120000.0]</td>\n",
       "      <td>0.844359</td>\n",
       "    </tr>\n",
       "    <tr>\n",
       "      <th>4</th>\n",
       "      <td>discount</td>\n",
       "      <td>(29999.999, 51000.0]</td>\n",
       "      <td>0.624021</td>\n",
       "    </tr>\n",
       "    <tr>\n",
       "      <th>5</th>\n",
       "      <td>discount</td>\n",
       "      <td>(51000.0, 64000.0]</td>\n",
       "      <td>0.761701</td>\n",
       "    </tr>\n",
       "    <tr>\n",
       "      <th>6</th>\n",
       "      <td>discount</td>\n",
       "      <td>(64000.0, 76000.0]</td>\n",
       "      <td>0.730709</td>\n",
       "    </tr>\n",
       "    <tr>\n",
       "      <th>7</th>\n",
       "      <td>discount</td>\n",
       "      <td>(76000.0, 120000.0]</td>\n",
       "      <td>0.761729</td>\n",
       "    </tr>\n",
       "    <tr>\n",
       "      <th>8</th>\n",
       "      <td>informational</td>\n",
       "      <td>(29999.999, 51000.0]</td>\n",
       "      <td>0.675055</td>\n",
       "    </tr>\n",
       "    <tr>\n",
       "      <th>9</th>\n",
       "      <td>informational</td>\n",
       "      <td>(51000.0, 64000.0]</td>\n",
       "      <td>0.774109</td>\n",
       "    </tr>\n",
       "    <tr>\n",
       "      <th>10</th>\n",
       "      <td>informational</td>\n",
       "      <td>(64000.0, 76000.0]</td>\n",
       "      <td>0.758842</td>\n",
       "    </tr>\n",
       "    <tr>\n",
       "      <th>11</th>\n",
       "      <td>informational</td>\n",
       "      <td>(76000.0, 120000.0]</td>\n",
       "      <td>0.730424</td>\n",
       "    </tr>\n",
       "  </tbody>\n",
       "</table>\n",
       "</div>"
      ],
      "text/plain": [
       "       offer_type       income_quartile  viewed_rate\n",
       "0            bogo  (29999.999, 51000.0]     0.821200\n",
       "1            bogo    (51000.0, 64000.0]     0.872745\n",
       "2            bogo    (64000.0, 76000.0]     0.859900\n",
       "3            bogo   (76000.0, 120000.0]     0.844359\n",
       "4        discount  (29999.999, 51000.0]     0.624021\n",
       "5        discount    (51000.0, 64000.0]     0.761701\n",
       "6        discount    (64000.0, 76000.0]     0.730709\n",
       "7        discount   (76000.0, 120000.0]     0.761729\n",
       "8   informational  (29999.999, 51000.0]     0.675055\n",
       "9   informational    (51000.0, 64000.0]     0.774109\n",
       "10  informational    (64000.0, 76000.0]     0.758842\n",
       "11  informational   (76000.0, 120000.0]     0.730424"
      ]
     },
     "execution_count": 32,
     "metadata": {},
     "output_type": "execute_result"
    }
   ],
   "source": [
    "# Running for each offer type\n",
    "\n",
    "plot_df = user_offer_df2.groupby(['offer_type', 'income_quartile'], \n",
    "    as_index=False)['viewed_rate'].mean().sort_index(ascending=True)\n",
    "\n",
    "# Ploting in grid\n",
    "g = sns.FacetGrid(data=plot_df, col='income_quartile', sharex=True)\n",
    "g.map_dataframe(sns.barplot, y='offer_type', x='viewed_rate')\n",
    "g.fig.subplots_adjust(top=0.85)\n",
    "g.fig.suptitle('Visualization rate for income groups and by type of offer')\n",
    "g.set_xlabels('View rate')\n",
    "g.set_ylabels('Offer Type')\n",
    "\n",
    "fig = plt.gcf()\n",
    "\n",
    "fig.set_size_inches(18,4)\n",
    "plt.show()\n",
    "\n",
    "plot_df"
   ]
  },
  {
   "cell_type": "markdown",
   "metadata": {},
   "source": [
    "Same situation, without any big tendecy.  \n",
    "\n",
    "A point that can be highlighted is that the discount type has lower proportion for the first quatis (both age and income). In other groups, the proportions follow the general trend already seen between types of offers.\n",
    "\n",
    "If well observe, rates are many similar to age groupings and income. This is related to the distribution of data.People from the first quartile old are also more present in the quartile of income"
   ]
  },
  {
   "cell_type": "code",
   "execution_count": 33,
   "metadata": {},
   "outputs": [
    {
     "data": {
      "text/html": [
       "<div>\n",
       "<style scoped>\n",
       "    .dataframe tbody tr th:only-of-type {\n",
       "        vertical-align: middle;\n",
       "    }\n",
       "\n",
       "    .dataframe tbody tr th {\n",
       "        vertical-align: top;\n",
       "    }\n",
       "\n",
       "    .dataframe thead th {\n",
       "        text-align: right;\n",
       "    }\n",
       "</style>\n",
       "<table border=\"1\" class=\"dataframe\">\n",
       "  <thead>\n",
       "    <tr style=\"text-align: right;\">\n",
       "      <th></th>\n",
       "      <th></th>\n",
       "      <th>count</th>\n",
       "    </tr>\n",
       "    <tr>\n",
       "      <th>age_quartile</th>\n",
       "      <th>income_quartile</th>\n",
       "      <th></th>\n",
       "    </tr>\n",
       "  </thead>\n",
       "  <tbody>\n",
       "    <tr>\n",
       "      <th rowspan=\"4\" valign=\"top\">(17.999, 45.0]</th>\n",
       "      <th>(29999.999, 51000.0]</th>\n",
       "      <td>7300</td>\n",
       "    </tr>\n",
       "    <tr>\n",
       "      <th>(51000.0, 64000.0]</th>\n",
       "      <td>4525</td>\n",
       "    </tr>\n",
       "    <tr>\n",
       "      <th>(64000.0, 76000.0]</th>\n",
       "      <td>3299</td>\n",
       "    </tr>\n",
       "    <tr>\n",
       "      <th>(76000.0, 120000.0]</th>\n",
       "      <td>1114</td>\n",
       "    </tr>\n",
       "    <tr>\n",
       "      <th rowspan=\"4\" valign=\"top\">(45.0, 55.0]</th>\n",
       "      <th>(29999.999, 51000.0]</th>\n",
       "      <td>2726</td>\n",
       "    </tr>\n",
       "    <tr>\n",
       "      <th>(51000.0, 64000.0]</th>\n",
       "      <td>10553</td>\n",
       "    </tr>\n",
       "    <tr>\n",
       "      <th>(64000.0, 76000.0]</th>\n",
       "      <td>2433</td>\n",
       "    </tr>\n",
       "    <tr>\n",
       "      <th>(76000.0, 120000.0]</th>\n",
       "      <td>3901</td>\n",
       "    </tr>\n",
       "    <tr>\n",
       "      <th rowspan=\"4\" valign=\"top\">(55.0, 65.0]</th>\n",
       "      <th>(29999.999, 51000.0]</th>\n",
       "      <td>2771</td>\n",
       "    </tr>\n",
       "    <tr>\n",
       "      <th>(51000.0, 64000.0]</th>\n",
       "      <td>2499</td>\n",
       "    </tr>\n",
       "    <tr>\n",
       "      <th>(64000.0, 76000.0]</th>\n",
       "      <td>2465</td>\n",
       "    </tr>\n",
       "    <tr>\n",
       "      <th>(76000.0, 120000.0]</th>\n",
       "      <td>4820</td>\n",
       "    </tr>\n",
       "    <tr>\n",
       "      <th rowspan=\"4\" valign=\"top\">(65.0, 101.0]</th>\n",
       "      <th>(29999.999, 51000.0]</th>\n",
       "      <td>3183</td>\n",
       "    </tr>\n",
       "    <tr>\n",
       "      <th>(51000.0, 64000.0]</th>\n",
       "      <td>2989</td>\n",
       "    </tr>\n",
       "    <tr>\n",
       "      <th>(64000.0, 76000.0]</th>\n",
       "      <td>2829</td>\n",
       "    </tr>\n",
       "    <tr>\n",
       "      <th>(76000.0, 120000.0]</th>\n",
       "      <td>5739</td>\n",
       "    </tr>\n",
       "  </tbody>\n",
       "</table>\n",
       "</div>"
      ],
      "text/plain": [
       "                                     count\n",
       "age_quartile   income_quartile            \n",
       "(17.999, 45.0] (29999.999, 51000.0]   7300\n",
       "               (51000.0, 64000.0]     4525\n",
       "               (64000.0, 76000.0]     3299\n",
       "               (76000.0, 120000.0]    1114\n",
       "(45.0, 55.0]   (29999.999, 51000.0]   2726\n",
       "               (51000.0, 64000.0]    10553\n",
       "               (64000.0, 76000.0]     2433\n",
       "               (76000.0, 120000.0]    3901\n",
       "(55.0, 65.0]   (29999.999, 51000.0]   2771\n",
       "               (51000.0, 64000.0]     2499\n",
       "               (64000.0, 76000.0]     2465\n",
       "               (76000.0, 120000.0]    4820\n",
       "(65.0, 101.0]  (29999.999, 51000.0]   3183\n",
       "               (51000.0, 64000.0]     2989\n",
       "               (64000.0, 76000.0]     2829\n",
       "               (76000.0, 120000.0]    5739"
      ]
     },
     "execution_count": 33,
     "metadata": {},
     "output_type": "execute_result"
    }
   ],
   "source": [
    "user_offer_df2.groupby(['age_quartile', 'income_quartile']).agg(count=('income_quartile', 'count'))"
   ]
  },
  {
   "cell_type": "markdown",
   "metadata": {},
   "source": [
    "##### 3. Complete Rate"
   ]
  },
  {
   "cell_type": "markdown",
   "metadata": {},
   "source": [
    "Após recebida, a oferta pode ser visualizada ou não.  \n",
    "Para completar uma oferta não é necessário olhar para ela.  "
   ]
  },
  {
   "cell_type": "markdown",
   "metadata": {},
   "source": [
    "Completation by Type of Offer"
   ]
  },
  {
   "cell_type": "code",
   "execution_count": 34,
   "metadata": {},
   "outputs": [
    {
     "data": {
      "image/png": "[encoded data removed]",
      "text/plain": [
       "<Figure size 510x340 with 1 Axes>"
      ]
     },
     "metadata": {
      "needs_background": "light"
     },
     "output_type": "display_data"
    },
    {
     "data": {
      "text/plain": [
       "offer_type\n",
       "informational    0.000000\n",
       "bogo             0.547132\n",
       "discount         0.690117\n",
       "Name: completed_rate, dtype: float64"
      ]
     },
     "execution_count": 34,
     "metadata": {},
     "output_type": "execute_result"
    }
   ],
   "source": [
    "plot_df = user_offer_df2.loc[user_offer_df2['viewed_rate'] != 0]\n",
    "\n",
    "plot_df = plot_df.groupby('offer_type')['completed_rate'].mean().\\\n",
    "    sort_values(ascending=True)\n",
    "\n",
    "plt.figure(dpi=85)\n",
    "plot_df.plot.barh()\n",
    "plt.title('View rate by type of offer')\n",
    "plt.xlabel('Visualization Rate')\n",
    "plt.ylabel('Offer type')\n",
    "plt.show()\n",
    "\n",
    "plot_df"
   ]
  },
  {
   "cell_type": "markdown",
   "metadata": {},
   "source": [
    "What looks like is that buy-one get one offers has a slightly larger viewing fee compared to the other two.\n",
    "\n",
    "Fact that proportions are not really so far from one another\n",
    "However, it is possible to test whether these proportions are statistically different with a test of proprotions between independent samples (and considering that they are normal)."
   ]
  },
  {
   "cell_type": "code",
   "execution_count": 35,
   "metadata": {},
   "outputs": [
    {
     "name": "stdout",
     "output_type": "stream",
     "text": [
      "p-value of 0.0. With confidence value of 0.05, discount and bogo distributions are different\n"
     ]
    }
   ],
   "source": [
    "# Proportion test between two samples\n",
    "# The test is one-tailed greater than\n",
    "\n",
    "list_set = [['discount', 'bogo']]\n",
    "\n",
    "analisys_df = user_offer_df2.loc[user_offer_df2['viewed_rate'] != 0]\n",
    "\n",
    "for set_ in list_set:\n",
    "    aux_fun.test_proportions_in_dataframe(df=analisys_df, column='offer_type', \n",
    "        cat1=set_[0], cat2=set_[1], metric='completed_rate')"
   ]
  },
  {
   "cell_type": "markdown",
   "metadata": {},
   "source": [
    "Como visto, a taxa de completação de ofertas é maior para ofertas do tipo discount, validado estatisticamente.  \n",
    "\n",
    "Assim, quando comparado com bogo, pode-se dizer que as pessoas usam mais os discontos que as ofertas de comprar um e levar outro\n"
   ]
  },
  {
   "cell_type": "markdown",
   "metadata": {},
   "source": [
    "Complete by offer id"
   ]
  },
  {
   "cell_type": "code",
   "execution_count": 36,
   "metadata": {},
   "outputs": [
    {
     "data": {
      "image/png": "[encoded data removed]",
      "text/plain": [
       "<Figure size 510x340 with 1 Axes>"
      ]
     },
     "metadata": {
      "needs_background": "light"
     },
     "output_type": "display_data"
    },
    {
     "data": {
      "text/plain": [
       "offer_id_rec\n",
       "2    0.000000\n",
       "7    0.000000\n",
       "1    0.460258\n",
       "0    0.497446\n",
       "8    0.602216\n",
       "4    0.610575\n",
       "9    0.666667\n",
       "3    0.680421\n",
       "5    0.704267\n",
       "6    0.720540\n",
       "Name: completed_rate, dtype: float64"
      ]
     },
     "execution_count": 36,
     "metadata": {},
     "output_type": "execute_result"
    }
   ],
   "source": [
    "plot_df = user_offer_df2.loc[user_offer_df2['viewed_rate'] != 0]\n",
    "\n",
    "plot_df = plot_df.groupby('offer_id_rec')['completed_rate'].mean().\\\n",
    "    sort_values(ascending=True)\n",
    "\n",
    "plt.figure(dpi=85)\n",
    "plot_df.plot.barh()\n",
    "plt.title('View rate by type of offer id')\n",
    "plt.xlabel('Visualization Rate')\n",
    "plt.ylabel('Offer ID')\n",
    "plt.show()\n",
    "\n",
    "plot_df"
   ]
  },
  {
   "cell_type": "markdown",
   "metadata": {},
   "source": [
    "Ofertas 7 e 2 são informational, logo, não tem completação.  \n",
    "Para as demais, nota-se que a oferta 6 e 5 têm maior completação. \n",
    "A oferta 1 tem uma boa taxa de visualição, mas não foi tão completada quanto as demais.  \n",
    "A oferta 8 tinha uma taxa de visualização alta, porém, mostrou taxa de completação baixa. "
   ]
  },
  {
   "cell_type": "markdown",
   "metadata": {},
   "source": [
    "A razão para isso talvez seja melhor vista abaixo"
   ]
  },
  {
   "cell_type": "code",
   "execution_count": 37,
   "metadata": {},
   "outputs": [
    {
     "data": {
      "image/png": "[encoded data removed]",
      "text/plain": [
       "<Figure size 1080x576 with 2 Axes>"
      ]
     },
     "metadata": {
      "needs_background": "light"
     },
     "output_type": "display_data"
    }
   ],
   "source": [
    "# Separating by Type of Offer\n",
    "\n",
    "plot_df = user_offer_df2.loc[(user_offer_df2['viewed_rate'] != 0) &\n",
    "    (user_offer_df2['offer_type'] != 'informational')]\n",
    "\n",
    "plot_df = plot_df.groupby(['offer_type', 'offer_id_rec'], as_index=False)['completed_rate'].mean()\n",
    "\n",
    "plot_df = plot_df.astype({'offer_id_rec': str})\n",
    "\n",
    "# Ploting in grid\n",
    "g = sns.FacetGrid(data=plot_df, row='offer_type', sharey=False)\n",
    "g.map_dataframe(sns.barplot, y='offer_id_rec', x='completed_rate')\n",
    "g.fig.subplots_adjust(top=0.85)\n",
    "g.fig.suptitle('Visualization rate for age groups and by type of offer')\n",
    "g.set_xlabels('Complete rate')\n",
    "g.set_ylabels('Offer ID')\n",
    "\n",
    "fig = plt.gcf()\n",
    "\n",
    "fig.set_size_inches(15,8)\n",
    "plt.show()\n",
    "\n"
   ]
  },
  {
   "cell_type": "markdown",
   "metadata": {},
   "source": [
    "Pelo que é visualizado, as ofertas de tipo disconto tem realmente maiores taxa de completação em comparação com as ofertas do tipo bogo. \n",
    "\n",
    "Assim, para os usuários, as ofertas de disconto parecem mais chamativas que as de oferta de ganhar outro de graça"
   ]
  },
  {
   "cell_type": "markdown",
   "metadata": {},
   "source": [
    "Completation by ages"
   ]
  },
  {
   "cell_type": "markdown",
   "metadata": {},
   "source": [
    "Dividing the range of ages in quartiles to see distribution of visualization rate"
   ]
  },
  {
   "cell_type": "code",
   "execution_count": 88,
   "metadata": {},
   "outputs": [
    {
     "data": {
      "image/png": "[encoded data removed]",
      "text/plain": [
       "<Figure size 510x340 with 1 Axes>"
      ]
     },
     "metadata": {
      "needs_background": "light"
     },
     "output_type": "display_data"
    },
    {
     "data": {
      "text/plain": [
       "age_quartile\n",
       "(17.999, 45.0]    0.498156\n",
       "(45.0, 55.0]      0.387605\n",
       "(55.0, 65.0]      0.575708\n",
       "(65.0, 101.0]     0.576238\n",
       "Name: completed_rate, dtype: float64"
      ]
     },
     "execution_count": 88,
     "metadata": {},
     "output_type": "execute_result"
    }
   ],
   "source": [
    "plot_df = user_offer_df2.loc[user_offer_df2['viewed_rate'] != 0]\n",
    "\n",
    "plot_df = plot_df.groupby('age_quartile')['completed_rate'].mean().\\\n",
    "    sort_index(ascending=True)\n",
    "\n",
    "plt.figure(dpi=85)\n",
    "plot_df.plot.barh()\n",
    "plt.title('View rate by type of offer id')\n",
    "plt.xlabel('Visualization Rate')\n",
    "plt.ylabel('Offer ID')\n",
    "plt.show()\n",
    "\n",
    "plot_df"
   ]
  },
  {
   "cell_type": "markdown",
   "metadata": {},
   "source": [
    "Na separação por grupos de idades, nota-se que as diferenças estatísticas na visualização de ofertas também se reflete na taxa de completação.  \n",
    "\n",
    "Grupos"
   ]
  },
  {
   "cell_type": "code",
   "execution_count": 38,
   "metadata": {},
   "outputs": [
    {
     "name": "stdout",
     "output_type": "stream",
     "text": [
      "p-value of 1.0. With confidence value of 0.05, (45.0, 55.0] and (17.999, 45.0] distributions are equal\n",
      "p-value of 1.0. With confidence value of 0.05, (45.0, 55.0] and (65.0, 101.0] distributions are equal\n"
     ]
    }
   ],
   "source": [
    "analisys_df = user_offer_df2.loc[user_offer_df2['viewed_rate'] != 0]\n",
    "\n",
    "aux_fun.test_proportions_in_dataframe(df=analisys_df, column='age_quartile', \n",
    "     cat1=pd.Interval(45.0, 55.0), cat2=pd.Interval(17.999, 45.0), metric='completed_rate')\n",
    "\n",
    "aux_fun.test_proportions_in_dataframe(df=analisys_df, column='age_quartile', \n",
    "     cat1=pd.Interval(45.0, 55.0), cat2=pd.Interval(65.0, 101.0), metric='completed_rate')"
   ]
  },
  {
   "cell_type": "markdown",
   "metadata": {},
   "source": [
    "Different from distributions to type of offer, in this case the old quartile groups do not have statistical differences.  \n",
    "So, all these groups have the same proportion in Viewing Offers"
   ]
  },
  {
   "cell_type": "markdown",
   "metadata": {},
   "source": [
    "The same analysis for income groups"
   ]
  },
  {
   "cell_type": "code",
   "execution_count": 65,
   "metadata": {},
   "outputs": [
    {
     "data": {
      "image/png": "[encoded data removed]",
      "text/plain": [
       "<Figure size 510x340 with 1 Axes>"
      ]
     },
     "metadata": {
      "needs_background": "light"
     },
     "output_type": "display_data"
    },
    {
     "data": {
      "text/plain": [
       "income_quartile\n",
       "(77000.0, 120000.0]     0.659279\n",
       "(64000.0, 77000.0]      0.574694\n",
       "(53000.0, 64000.0]      0.358207\n",
       "(29999.999, 53000.0]    0.452366\n",
       "Name: completed_rate, dtype: float64"
      ]
     },
     "execution_count": 65,
     "metadata": {},
     "output_type": "execute_result"
    }
   ],
   "source": [
    "\n",
    "plot_df = user_offer_df2.loc[user_offer_df2['viewed_rate'] != 0]\n",
    "\n",
    "plot_df.loc[:, ['income_quartile']] =  pd.qcut(plot_df['income'], 4)\n",
    "\n",
    "plot_df = plot_df.groupby('income_quartile')['completed_rate'].mean().\\\n",
    "    sort_index(ascending=False)\n",
    "\n",
    "plt.figure(dpi=85)\n",
    "plot_df.plot.barh()\n",
    "plt.title('View rate by type of offer id')\n",
    "plt.xlabel('Visualization Rate')\n",
    "plt.ylabel('Offer ID')\n",
    "plt.show()\n",
    "\n",
    "plot_df"
   ]
  },
  {
   "cell_type": "code",
   "execution_count": 63,
   "metadata": {},
   "outputs": [
    {
     "name": "stdout",
     "output_type": "stream",
     "text": [
      "p-value of 0.0. With confidence value of 0.05, (29999.999, 51000.0] and (51000.0, 64000.0] distributions are different\n",
      "p-value of 0.0. With confidence value of 0.05, (76000.0, 120000.0] and (51000.0, 64000.0] distributions are different\n"
     ]
    }
   ],
   "source": [
    "analisys_df = user_offer_df2.loc[user_offer_df2['viewed_rate'] != 0]\n",
    "\n",
    "aux_fun.test_proportions_in_dataframe(df=analisys_df, column='income_quartile', \n",
    "     cat1=pd.Interval(29999.999, 51000.0), cat2=pd.Interval(51000.0, 64000.0), metric='completed_rate')\n",
    "\n",
    "aux_fun.test_proportions_in_dataframe(df=analisys_df, column='income_quartile', \n",
    "     cat1=pd.Interval(76000.0, 120000.0), cat2=pd.Interval(51000.0, 64000.0), metric='completed_rate')\n"
   ]
  },
  {
   "cell_type": "markdown",
   "metadata": {},
   "source": [
    "Estatisticamente os valores diferem.  \n",
    "\n",
    "Observa-se que para as rendas de valores maiores (último quartil), as taxas de completação são maiores comparadas aos outros grupos, enquanto as taxas de visualização eram muito próximas."
   ]
  },
  {
   "cell_type": "markdown",
   "metadata": {},
   "source": [
    "Opening for offer types"
   ]
  },
  {
   "cell_type": "markdown",
   "metadata": {},
   "source": [
    "Perhaps age and income views vary based on the type of offer"
   ]
  },
  {
   "cell_type": "code",
   "execution_count": 67,
   "metadata": {},
   "outputs": [
    {
     "data": {
      "text/plain": [
       "array(['bogo', 'informational', 'discount'], dtype=object)"
      ]
     },
     "execution_count": 67,
     "metadata": {},
     "output_type": "execute_result"
    }
   ],
   "source": [
    "# Get the types of different offers\n",
    "offer_types = portfolio2.offer_type.unique()\n",
    "offer_types"
   ]
  },
  {
   "cell_type": "code",
   "execution_count": 72,
   "metadata": {},
   "outputs": [
    {
     "data": {
      "image/png": "[encoded data removed]",
      "text/plain": [
       "<Figure size 1296x288 with 4 Axes>"
      ]
     },
     "metadata": {
      "needs_background": "light"
     },
     "output_type": "display_data"
    },
    {
     "data": {
      "text/html": [
       "<div>\n",
       "<style scoped>\n",
       "    .dataframe tbody tr th:only-of-type {\n",
       "        vertical-align: middle;\n",
       "    }\n",
       "\n",
       "    .dataframe tbody tr th {\n",
       "        vertical-align: top;\n",
       "    }\n",
       "\n",
       "    .dataframe thead th {\n",
       "        text-align: right;\n",
       "    }\n",
       "</style>\n",
       "<table border=\"1\" class=\"dataframe\">\n",
       "  <thead>\n",
       "    <tr style=\"text-align: right;\">\n",
       "      <th></th>\n",
       "      <th>offer_type</th>\n",
       "      <th>age_quartile</th>\n",
       "      <th>completed_rate</th>\n",
       "    </tr>\n",
       "  </thead>\n",
       "  <tbody>\n",
       "    <tr>\n",
       "      <th>0</th>\n",
       "      <td>bogo</td>\n",
       "      <td>(17.999, 45.0]</td>\n",
       "      <td>0.524379</td>\n",
       "    </tr>\n",
       "    <tr>\n",
       "      <th>1</th>\n",
       "      <td>bogo</td>\n",
       "      <td>(45.0, 55.0]</td>\n",
       "      <td>0.426193</td>\n",
       "    </tr>\n",
       "    <tr>\n",
       "      <th>2</th>\n",
       "      <td>bogo</td>\n",
       "      <td>(55.0, 65.0]</td>\n",
       "      <td>0.646890</td>\n",
       "    </tr>\n",
       "    <tr>\n",
       "      <th>3</th>\n",
       "      <td>bogo</td>\n",
       "      <td>(65.0, 101.0]</td>\n",
       "      <td>0.653537</td>\n",
       "    </tr>\n",
       "    <tr>\n",
       "      <th>4</th>\n",
       "      <td>discount</td>\n",
       "      <td>(17.999, 45.0]</td>\n",
       "      <td>0.727293</td>\n",
       "    </tr>\n",
       "    <tr>\n",
       "      <th>5</th>\n",
       "      <td>discount</td>\n",
       "      <td>(45.0, 55.0]</td>\n",
       "      <td>0.544241</td>\n",
       "    </tr>\n",
       "    <tr>\n",
       "      <th>6</th>\n",
       "      <td>discount</td>\n",
       "      <td>(55.0, 65.0]</td>\n",
       "      <td>0.772460</td>\n",
       "    </tr>\n",
       "    <tr>\n",
       "      <th>7</th>\n",
       "      <td>discount</td>\n",
       "      <td>(65.0, 101.0]</td>\n",
       "      <td>0.779709</td>\n",
       "    </tr>\n",
       "  </tbody>\n",
       "</table>\n",
       "</div>"
      ],
      "text/plain": [
       "  offer_type    age_quartile  completed_rate\n",
       "0       bogo  (17.999, 45.0]        0.524379\n",
       "1       bogo    (45.0, 55.0]        0.426193\n",
       "2       bogo    (55.0, 65.0]        0.646890\n",
       "3       bogo   (65.0, 101.0]        0.653537\n",
       "4   discount  (17.999, 45.0]        0.727293\n",
       "5   discount    (45.0, 55.0]        0.544241\n",
       "6   discount    (55.0, 65.0]        0.772460\n",
       "7   discount   (65.0, 101.0]        0.779709"
      ]
     },
     "execution_count": 72,
     "metadata": {},
     "output_type": "execute_result"
    }
   ],
   "source": [
    "# Running for each offer type\n",
    "\n",
    "plot_df = user_offer_df2.loc[(user_offer_df2['viewed_rate'] != 0) &\n",
    "    (user_offer_df2['offer_type'] != 'informational')]\n",
    "\n",
    "plot_df = plot_df.groupby(['offer_type', 'age_quartile'], \n",
    "    as_index=False)['completed_rate'].mean().sort_index(ascending=True)\n",
    "\n",
    "# Ploting in grid\n",
    "g = sns.FacetGrid(data=plot_df, col='age_quartile', sharex=True)\n",
    "g.map_dataframe(sns.barplot, y='offer_type', x='completed_rate')\n",
    "g.fig.subplots_adjust(top=0.85)\n",
    "g.fig.suptitle('Visualization rate for age groups and by type of offer')\n",
    "g.set_xlabels('View rate')\n",
    "g.set_ylabels('Offer Type')\n",
    "\n",
    "fig = plt.gcf()\n",
    "\n",
    "fig.set_size_inches(18,4)\n",
    "plt.show()\n",
    "\n",
    "plot_df"
   ]
  },
  {
   "cell_type": "markdown",
   "metadata": {},
   "source": [
    "Em todos os grupos, nota-se os valores mais altos em disconto, ao invés de bogo"
   ]
  },
  {
   "cell_type": "markdown",
   "metadata": {},
   "source": [
    "For income quartiles"
   ]
  },
  {
   "cell_type": "code",
   "execution_count": 73,
   "metadata": {},
   "outputs": [
    {
     "data": {
      "image/png": "[encoded data removed]",
      "text/plain": [
       "<Figure size 1296x288 with 4 Axes>"
      ]
     },
     "metadata": {
      "needs_background": "light"
     },
     "output_type": "display_data"
    },
    {
     "data": {
      "text/html": [
       "<div>\n",
       "<style scoped>\n",
       "    .dataframe tbody tr th:only-of-type {\n",
       "        vertical-align: middle;\n",
       "    }\n",
       "\n",
       "    .dataframe tbody tr th {\n",
       "        vertical-align: top;\n",
       "    }\n",
       "\n",
       "    .dataframe thead th {\n",
       "        text-align: right;\n",
       "    }\n",
       "</style>\n",
       "<table border=\"1\" class=\"dataframe\">\n",
       "  <thead>\n",
       "    <tr style=\"text-align: right;\">\n",
       "      <th></th>\n",
       "      <th>offer_type</th>\n",
       "      <th>income_quartile</th>\n",
       "      <th>completed_rate</th>\n",
       "    </tr>\n",
       "  </thead>\n",
       "  <tbody>\n",
       "    <tr>\n",
       "      <th>0</th>\n",
       "      <td>bogo</td>\n",
       "      <td>(29999.999, 51000.0]</td>\n",
       "      <td>0.434131</td>\n",
       "    </tr>\n",
       "    <tr>\n",
       "      <th>1</th>\n",
       "      <td>bogo</td>\n",
       "      <td>(51000.0, 64000.0]</td>\n",
       "      <td>0.403771</td>\n",
       "    </tr>\n",
       "    <tr>\n",
       "      <th>2</th>\n",
       "      <td>bogo</td>\n",
       "      <td>(64000.0, 76000.0]</td>\n",
       "      <td>0.645102</td>\n",
       "    </tr>\n",
       "    <tr>\n",
       "      <th>3</th>\n",
       "      <td>bogo</td>\n",
       "      <td>(76000.0, 120000.0]</td>\n",
       "      <td>0.785551</td>\n",
       "    </tr>\n",
       "    <tr>\n",
       "      <th>4</th>\n",
       "      <td>discount</td>\n",
       "      <td>(29999.999, 51000.0]</td>\n",
       "      <td>0.681807</td>\n",
       "    </tr>\n",
       "    <tr>\n",
       "      <th>5</th>\n",
       "      <td>discount</td>\n",
       "      <td>(51000.0, 64000.0]</td>\n",
       "      <td>0.541312</td>\n",
       "    </tr>\n",
       "    <tr>\n",
       "      <th>6</th>\n",
       "      <td>discount</td>\n",
       "      <td>(64000.0, 76000.0]</td>\n",
       "      <td>0.775246</td>\n",
       "    </tr>\n",
       "    <tr>\n",
       "      <th>7</th>\n",
       "      <td>discount</td>\n",
       "      <td>(76000.0, 120000.0]</td>\n",
       "      <td>0.833929</td>\n",
       "    </tr>\n",
       "  </tbody>\n",
       "</table>\n",
       "</div>"
      ],
      "text/plain": [
       "  offer_type       income_quartile  completed_rate\n",
       "0       bogo  (29999.999, 51000.0]        0.434131\n",
       "1       bogo    (51000.0, 64000.0]        0.403771\n",
       "2       bogo    (64000.0, 76000.0]        0.645102\n",
       "3       bogo   (76000.0, 120000.0]        0.785551\n",
       "4   discount  (29999.999, 51000.0]        0.681807\n",
       "5   discount    (51000.0, 64000.0]        0.541312\n",
       "6   discount    (64000.0, 76000.0]        0.775246\n",
       "7   discount   (76000.0, 120000.0]        0.833929"
      ]
     },
     "execution_count": 73,
     "metadata": {},
     "output_type": "execute_result"
    }
   ],
   "source": [
    "# Running for each offer type\n",
    "\n",
    "plot_df = user_offer_df2.loc[(user_offer_df2['viewed_rate'] != 0) &\n",
    "    (user_offer_df2['offer_type'] != 'informational')]\n",
    "\n",
    "plot_df = plot_df.groupby(['offer_type', 'income_quartile'], \n",
    "    as_index=False)['completed_rate'].mean().sort_index(ascending=True)\n",
    "\n",
    "# Ploting in grid\n",
    "g = sns.FacetGrid(data=plot_df, col='income_quartile', sharex=True)\n",
    "g.map_dataframe(sns.barplot, y='offer_type', x='completed_rate')\n",
    "g.fig.subplots_adjust(top=0.85)\n",
    "g.fig.suptitle('Visualization rate for age groups and by type of offer')\n",
    "g.set_xlabels('View rate')\n",
    "g.set_ylabels('Offer Type')\n",
    "\n",
    "fig = plt.gcf()\n",
    "\n",
    "fig.set_size_inches(18,4)\n",
    "plt.show()\n",
    "\n",
    "plot_df"
   ]
  },
  {
   "cell_type": "markdown",
   "metadata": {},
   "source": [
    "Para o grupo com maior taxa de compeltação (último quartil de renda), tanto bogo quando disconto é visto por igual.  \n",
    "\n",
    "Já para outros grupos, nota-se que o grupo do primeiro quartil tem maior taxa de completar discontos ao invés de bogo."
   ]
  },
  {
   "cell_type": "markdown",
   "metadata": {},
   "source": [
    "##### 4. Transactions"
   ]
  },
  {
   "cell_type": "markdown",
   "metadata": {},
   "source": [
    "Transações realizadas pelos usuários são de dois tipos, uma natural e outra influenciada por uma oferta.  \n",
    "\n",
    "A transações influenciadas por ofertas são o alvo dessa análise."
   ]
  },
  {
   "cell_type": "markdown",
   "metadata": {},
   "source": [
    "Mean transactions by offer type"
   ]
  },
  {
   "cell_type": "code",
   "execution_count": 85,
   "metadata": {},
   "outputs": [
    {
     "data": {
      "image/png": "[encoded data removed]",
      "text/plain": [
       "<Figure size 510x340 with 1 Axes>"
      ]
     },
     "metadata": {
      "needs_background": "light"
     },
     "output_type": "display_data"
    }
   ],
   "source": [
    "import functions.functions as aux_fun\n",
    "importlib.reload(aux_fun\n",
    ")\n",
    "\n",
    "plot_df = user_offer_df2.loc[user_offer_df2['viewed_rate'] != 0] # just visualized offers\n",
    "\n",
    "plot_df = user_offer_df2\n",
    "aux_fun.plot_by_category_metric(df=plot_df, col_category='offer_type',\n",
    "    metric='tra_offer_infl',\n",
    "    title='Transações por tipo de oferta',\n",
    "    x_label='Transactions $',\n",
    "    y_label='Offer Type'\n",
    "    )"
   ]
  },
  {
   "cell_type": "markdown",
   "metadata": {},
   "source": [
    "Transações por offer ID"
   ]
  },
  {
   "cell_type": "code",
   "execution_count": 86,
   "metadata": {},
   "outputs": [
    {
     "data": {
      "image/png": "[encoded data removed]",
      "text/plain": [
       "<Figure size 510x340 with 1 Axes>"
      ]
     },
     "metadata": {
      "needs_background": "light"
     },
     "output_type": "display_data"
    },
    {
     "data": {
      "text/plain": [
       "offer_id_rec\n",
       "0    29.418507\n",
       "1    24.302988\n",
       "2     8.611854\n",
       "3    18.127990\n",
       "4    16.645166\n",
       "5    34.415388\n",
       "6    51.885518\n",
       "7    10.131695\n",
       "8    24.634886\n",
       "9    19.415008\n",
       "Name: tra_offer_infl, dtype: float64"
      ]
     },
     "execution_count": 86,
     "metadata": {},
     "output_type": "execute_result"
    }
   ],
   "source": [
    "plot_df = user_offer_df2.loc[user_offer_df2['viewed_rate'] != 0] # just visualized offers\n",
    "\n",
    "plot_df = user_offer_df2\n",
    "aux_fun.plot_by_category_metric(df=plot_df, col_category='offer_id_rec',\n",
    "    metric='tra_offer_infl',\n",
    "    title='Transações por tipo de oferta',\n",
    "    x_label='Transactions $',\n",
    "    y_label='Offer Type',\n",
    "    return_table=True\n",
    "    )"
   ]
  },
  {
   "cell_type": "code",
   "execution_count": 77,
   "metadata": {},
   "outputs": [
    {
     "name": "stdout",
     "output_type": "stream",
     "text": [
      "p-value of 0.097. With confidence value of 0.05, means of 3 (18.13) and 4 (16.65) are equal\n"
     ]
    }
   ],
   "source": [
    "import functions.functions as aux_fun\n",
    "importlib.reload(aux_fun)\n",
    "\n",
    "aux_fun.test_means_in_dataframe(df=user_offer_df2, column='offer_id_rec', \n",
    "    cat1=3, cat2=4, metric='tra_offer_infl')"
   ]
  },
  {
   "cell_type": "code",
   "execution_count": 61,
   "metadata": {},
   "outputs": [
    {
     "data": {
      "text/html": [
       "<div>\n",
       "<style scoped>\n",
       "    .dataframe tbody tr th:only-of-type {\n",
       "        vertical-align: middle;\n",
       "    }\n",
       "\n",
       "    .dataframe tbody tr th {\n",
       "        vertical-align: top;\n",
       "    }\n",
       "\n",
       "    .dataframe thead th {\n",
       "        text-align: right;\n",
       "    }\n",
       "</style>\n",
       "<table border=\"1\" class=\"dataframe\">\n",
       "  <thead>\n",
       "    <tr style=\"text-align: right;\">\n",
       "      <th></th>\n",
       "      <th>reward</th>\n",
       "      <th>channels</th>\n",
       "      <th>difficulty</th>\n",
       "      <th>duration</th>\n",
       "      <th>offer_type</th>\n",
       "      <th>id</th>\n",
       "      <th>offer_id</th>\n",
       "    </tr>\n",
       "  </thead>\n",
       "  <tbody>\n",
       "    <tr>\n",
       "      <th>0</th>\n",
       "      <td>10</td>\n",
       "      <td>[email, mobile, social]</td>\n",
       "      <td>10</td>\n",
       "      <td>7</td>\n",
       "      <td>bogo</td>\n",
       "      <td>ae264e3637204a6fb9bb56bc8210ddfd</td>\n",
       "      <td>0</td>\n",
       "    </tr>\n",
       "    <tr>\n",
       "      <th>1</th>\n",
       "      <td>10</td>\n",
       "      <td>[web, email, mobile, social]</td>\n",
       "      <td>10</td>\n",
       "      <td>5</td>\n",
       "      <td>bogo</td>\n",
       "      <td>4d5c57ea9a6940dd891ad53e9dbe8da0</td>\n",
       "      <td>1</td>\n",
       "    </tr>\n",
       "    <tr>\n",
       "      <th>3</th>\n",
       "      <td>5</td>\n",
       "      <td>[web, email, mobile]</td>\n",
       "      <td>5</td>\n",
       "      <td>7</td>\n",
       "      <td>bogo</td>\n",
       "      <td>9b98b8c7a33c4b65b9aebfe6a799e6d9</td>\n",
       "      <td>3</td>\n",
       "    </tr>\n",
       "    <tr>\n",
       "      <th>8</th>\n",
       "      <td>5</td>\n",
       "      <td>[web, email, mobile, social]</td>\n",
       "      <td>5</td>\n",
       "      <td>5</td>\n",
       "      <td>bogo</td>\n",
       "      <td>f19421c1d4aa40978ebb69ca19b0e20d</td>\n",
       "      <td>8</td>\n",
       "    </tr>\n",
       "    <tr>\n",
       "      <th>4</th>\n",
       "      <td>5</td>\n",
       "      <td>[web, email]</td>\n",
       "      <td>20</td>\n",
       "      <td>10</td>\n",
       "      <td>discount</td>\n",
       "      <td>0b1e1539f2cc45b7b9fa7c272da2e1d7</td>\n",
       "      <td>4</td>\n",
       "    </tr>\n",
       "    <tr>\n",
       "      <th>5</th>\n",
       "      <td>3</td>\n",
       "      <td>[web, email, mobile, social]</td>\n",
       "      <td>7</td>\n",
       "      <td>7</td>\n",
       "      <td>discount</td>\n",
       "      <td>2298d6c36e964ae4a3e7e9706d1fb8c2</td>\n",
       "      <td>5</td>\n",
       "    </tr>\n",
       "    <tr>\n",
       "      <th>6</th>\n",
       "      <td>2</td>\n",
       "      <td>[web, email, mobile, social]</td>\n",
       "      <td>10</td>\n",
       "      <td>10</td>\n",
       "      <td>discount</td>\n",
       "      <td>fafdcd668e3743c1bb461111dcafc2a4</td>\n",
       "      <td>6</td>\n",
       "    </tr>\n",
       "    <tr>\n",
       "      <th>9</th>\n",
       "      <td>2</td>\n",
       "      <td>[web, email, mobile]</td>\n",
       "      <td>10</td>\n",
       "      <td>7</td>\n",
       "      <td>discount</td>\n",
       "      <td>2906b810c7d4411798c6938adc9daaa5</td>\n",
       "      <td>9</td>\n",
       "    </tr>\n",
       "    <tr>\n",
       "      <th>2</th>\n",
       "      <td>0</td>\n",
       "      <td>[web, email, mobile]</td>\n",
       "      <td>0</td>\n",
       "      <td>4</td>\n",
       "      <td>informational</td>\n",
       "      <td>3f207df678b143eea3cee63160fa8bed</td>\n",
       "      <td>2</td>\n",
       "    </tr>\n",
       "    <tr>\n",
       "      <th>7</th>\n",
       "      <td>0</td>\n",
       "      <td>[email, mobile, social]</td>\n",
       "      <td>0</td>\n",
       "      <td>3</td>\n",
       "      <td>informational</td>\n",
       "      <td>5a8bc65990b245e5a138643cd4eb9837</td>\n",
       "      <td>7</td>\n",
       "    </tr>\n",
       "  </tbody>\n",
       "</table>\n",
       "</div>"
      ],
      "text/plain": [
       "   reward                      channels  difficulty  duration     offer_type  \\\n",
       "0      10       [email, mobile, social]          10         7           bogo   \n",
       "1      10  [web, email, mobile, social]          10         5           bogo   \n",
       "3       5          [web, email, mobile]           5         7           bogo   \n",
       "8       5  [web, email, mobile, social]           5         5           bogo   \n",
       "4       5                  [web, email]          20        10       discount   \n",
       "5       3  [web, email, mobile, social]           7         7       discount   \n",
       "6       2  [web, email, mobile, social]          10        10       discount   \n",
       "9       2          [web, email, mobile]          10         7       discount   \n",
       "2       0          [web, email, mobile]           0         4  informational   \n",
       "7       0       [email, mobile, social]           0         3  informational   \n",
       "\n",
       "                                 id  offer_id  \n",
       "0  ae264e3637204a6fb9bb56bc8210ddfd         0  \n",
       "1  4d5c57ea9a6940dd891ad53e9dbe8da0         1  \n",
       "3  9b98b8c7a33c4b65b9aebfe6a799e6d9         3  \n",
       "8  f19421c1d4aa40978ebb69ca19b0e20d         8  \n",
       "4  0b1e1539f2cc45b7b9fa7c272da2e1d7         4  \n",
       "5  2298d6c36e964ae4a3e7e9706d1fb8c2         5  \n",
       "6  fafdcd668e3743c1bb461111dcafc2a4         6  \n",
       "9  2906b810c7d4411798c6938adc9daaa5         9  \n",
       "2  3f207df678b143eea3cee63160fa8bed         2  \n",
       "7  5a8bc65990b245e5a138643cd4eb9837         7  "
      ]
     },
     "execution_count": 61,
     "metadata": {},
     "output_type": "execute_result"
    }
   ],
   "source": [
    "portfolio.sort_values('offer_type')"
   ]
  },
  {
   "cell_type": "markdown",
   "metadata": {},
   "source": [
    "Transaction by ages"
   ]
  },
  {
   "cell_type": "code",
   "execution_count": 87,
   "metadata": {},
   "outputs": [
    {
     "data": {
      "image/png": "[encoded data removed]",
      "text/plain": [
       "<Figure size 510x340 with 1 Axes>"
      ]
     },
     "metadata": {
      "needs_background": "light"
     },
     "output_type": "display_data"
    },
    {
     "data": {
      "text/plain": [
       "age_quartile\n",
       "(17.999, 45.0]    29.655731\n",
       "(45.0, 55.0]      22.543371\n",
       "(55.0, 65.0]      36.855900\n",
       "(65.0, 101.0]     37.465055\n",
       "Name: tra_offer_infl, dtype: float64"
      ]
     },
     "execution_count": 87,
     "metadata": {},
     "output_type": "execute_result"
    }
   ],
   "source": [
    "plot_df = user_offer_df2.loc[user_offer_df2['viewed_rate'] != 0] # just visualized offers\n",
    "\n",
    "\n",
    "aux_fun.plot_by_category_metric(df=plot_df, col_category='age_quartile',\n",
    "    metric='tra_offer_infl',\n",
    "    title='Transações por quartile de idade',\n",
    "    x_label='Transactions $',\n",
    "    y_label='Offer Type',\n",
    "    return_table=True\n",
    "    )"
   ]
  },
  {
   "cell_type": "markdown",
   "metadata": {},
   "source": [
    "O grupo de 45 a 55 anos tem menor taxa de completação e menores gastos gerais devido as ofertas"
   ]
  },
  {
   "cell_type": "code",
   "execution_count": 89,
   "metadata": {},
   "outputs": [
    {
     "data": {
      "image/png": "[encoded data removed]",
      "text/plain": [
       "<Figure size 510x340 with 1 Axes>"
      ]
     },
     "metadata": {
      "needs_background": "light"
     },
     "output_type": "display_data"
    },
    {
     "data": {
      "text/plain": [
       "income_quartile\n",
       "(29999.999, 51000.0]    21.555410\n",
       "(51000.0, 64000.0]      19.861552\n",
       "(64000.0, 76000.0]      36.917065\n",
       "(76000.0, 120000.0]     49.176252\n",
       "Name: tra_offer_infl, dtype: float64"
      ]
     },
     "execution_count": 89,
     "metadata": {},
     "output_type": "execute_result"
    }
   ],
   "source": [
    "plot_df = user_offer_df2.loc[user_offer_df2['viewed_rate'] != 0] # just visualized offers\n",
    "\n",
    "\n",
    "aux_fun.plot_by_category_metric(df=plot_df, col_category='income_quartile',\n",
    "    metric='tra_offer_infl',\n",
    "    title='Transações por quartile de idade',\n",
    "    x_label='Transactions $',\n",
    "    y_label='Offer Type',\n",
    "    return_table=True\n",
    "    )"
   ]
  },
  {
   "cell_type": "code",
   "execution_count": 91,
   "metadata": {},
   "outputs": [
    {
     "name": "stdout",
     "output_type": "stream",
     "text": [
      "p-value of 0.09. With confidence value of 0.05, means of (51000, 64000] (16.06) and (29999.999, 51000.0] (15.38) are equal\n"
     ]
    }
   ],
   "source": [
    "aux_fun.test_means_in_dataframe(df=user_offer_df2, column='income_quartile', \n",
    "    cat1=pd.Interval(51000,64000), cat2=pd.Interval(29999.999, 51000.0), metric='tra_offer_infl')"
   ]
  },
  {
   "cell_type": "markdown",
   "metadata": {},
   "source": [
    "Para as transações por grupo de renda, nota-se que segue o racional da renda, quanto maior, maior a quantida de transações feita por aquele grupo."
   ]
  },
  {
   "cell_type": "code",
   "execution_count": 95,
   "metadata": {},
   "outputs": [
    {
     "data": {
      "image/png": "[encoded data removed]",
      "text/plain": [
       "<Figure size 510x340 with 1 Axes>"
      ]
     },
     "metadata": {
      "needs_background": "light"
     },
     "output_type": "display_data"
    },
    {
     "data": {
      "text/plain": [
       "member_time_quartile\n",
       "(-0.001, 208.0]     14.604364\n",
       "(208.0, 358.0]      23.704554\n",
       "(358.0, 791.75]     44.567910\n",
       "(791.75, 1823.0]    39.412077\n",
       "Name: tra_offer_infl, dtype: float64"
      ]
     },
     "execution_count": 95,
     "metadata": {},
     "output_type": "execute_result"
    }
   ],
   "source": [
    "plot_df = user_offer_df2.loc[user_offer_df2['viewed_rate'] != 0] # just visualized offers\n",
    "\n",
    "\n",
    "aux_fun.plot_by_category_metric(df=plot_df, col_category='member_time_quartile',\n",
    "    metric='tra_offer_infl',\n",
    "    title='Transações por quartile de idade',\n",
    "    x_label='Transactions $',\n",
    "    y_label='Offer Type',\n",
    "    return_table=True)"
   ]
  },
  {
   "cell_type": "markdown",
   "metadata": {},
   "source": [
    "Usuários com mais tempo de membro costumam gastar mais devido a ofertas"
   ]
  },
  {
   "cell_type": "code",
   "execution_count": 97,
   "metadata": {},
   "outputs": [
    {
     "name": "stdout",
     "output_type": "stream",
     "text": [
      "p-value of 0.0. With confidence value of 0.05, means of (208.0, 358.0] (18.28) and (358.0, 791.75] (34.89) are are different\n"
     ]
    }
   ],
   "source": [
    "aux_fun.test_means_in_dataframe(df=user_offer_df2, column='member_time_quartile', \n",
    "    cat1=pd.Interval(208.0, 358.0), cat2=pd.Interval(358.0, 791.75), metric='tra_offer_infl')"
   ]
  },
  {
   "cell_type": "code",
   "execution_count": 96,
   "metadata": {},
   "outputs": [
    {
     "data": {
      "image/png": "[encoded data removed]",
      "text/plain": [
       "<Figure size 510x340 with 1 Axes>"
      ]
     },
     "metadata": {
      "needs_background": "light"
     },
     "output_type": "display_data"
    },
    {
     "data": {
      "text/plain": [
       "gender\n",
       "F     40.901648\n",
       "M     29.873146\n",
       "NI     5.212752\n",
       "O     38.172036\n",
       "Name: tra_offer_infl, dtype: float64"
      ]
     },
     "execution_count": 96,
     "metadata": {},
     "output_type": "execute_result"
    }
   ],
   "source": [
    "plot_df = user_offer_df2.loc[user_offer_df2['viewed_rate'] != 0] # just visualized offers\n",
    "\n",
    "\n",
    "aux_fun.plot_by_category_metric(df=plot_df, col_category='gender',\n",
    "    metric='tra_offer_infl',\n",
    "    title='Transações por quartile de idade',\n",
    "    x_label='Transactions $',\n",
    "    y_label='Offer Type',\n",
    "    return_table=True)"
   ]
  },
  {
   "cell_type": "code",
   "execution_count": 100,
   "metadata": {},
   "outputs": [
    {
     "name": "stdout",
     "output_type": "stream",
     "text": [
      "p-value of 0.706. With confidence value of 0.05, means of F (31.77) and O (32.66) are equal\n"
     ]
    }
   ],
   "source": [
    "aux_fun.test_means_in_dataframe(df=user_offer_df2, column='gender', \n",
    "    cat1='F', cat2='O', metric='tra_offer_infl')"
   ]
  },
  {
   "cell_type": "markdown",
   "metadata": {},
   "source": [
    "Em média, mulhes e outros gastam mais após ofertas que homens"
   ]
  },
  {
   "cell_type": "code",
   "execution_count": 107,
   "metadata": {},
   "outputs": [
    {
     "data": {
      "image/png": "[encoded data removed]",
      "text/plain": [
       "<Figure size 1296x288 with 4 Axes>"
      ]
     },
     "metadata": {
      "needs_background": "light"
     },
     "output_type": "display_data"
    }
   ],
   "source": [
    "importlib.reload(aux_fun)\n",
    "\n",
    "# # Ploting in grid\n",
    "# g = sns.FacetGrid(data=plot_df, col='age_quartile', sharex=True)\n",
    "# g.map_dataframe(sns.barplot, y='offer_type', x='viewed_rate')\n",
    "# g.fig.subplots_adjust(top=0.85)\n",
    "# g.fig.suptitle('Visualization rate for age groups and by type of offer')\n",
    "# g.set_xlabels('View rate')\n",
    "# g.set_ylabels('Offer Type')\n",
    "\n",
    "# fig = plt.gcf()\n",
    "\n",
    "# fig.set_size_inches(18,4)\n",
    "# plt.show()\n",
    "\n",
    "# plot_df\n",
    "\n",
    "aux_fun.plot_grid_categories_metric(df=user_offer_df2,\n",
    "    cols_cats=['gender', 'offer_type'],\n",
    "    col_cat_to_grid='gender',\n",
    "    col_cat_to_acc='offer_type',\n",
    "    metric='tra_offer_infl',\n",
    "    title='Visualization rate for age groups and by type of offer',\n",
    "    x_label='Offer Type',\n",
    "    y_label='Transactions $'\n",
    ")"
   ]
  },
  {
   "cell_type": "markdown",
   "metadata": {},
   "source": [
    "Como visualizado anteriormente, os valores de disconto tem média de transação maiores quando comparados com os demais"
   ]
  },
  {
   "cell_type": "markdown",
   "metadata": {},
   "source": [
    "##### Teste aleatórios"
   ]
  },
  {
   "cell_type": "code",
   "execution_count": 116,
   "metadata": {},
   "outputs": [
    {
     "data": {
      "image/png": "[encoded data removed]",
      "text/plain": [
       "<Figure size 510x340 with 1 Axes>"
      ]
     },
     "metadata": {
      "needs_background": "light"
     },
     "output_type": "display_data"
    },
    {
     "data": {
      "image/png": "[encoded data removed]",
      "text/plain": [
       "<Figure size 510x340 with 1 Axes>"
      ]
     },
     "metadata": {
      "needs_background": "light"
     },
     "output_type": "display_data"
    },
    {
     "data": {
      "text/plain": [
       "offer_reward\n",
       "0     12.735413\n",
       "2     46.249931\n",
       "3     35.557504\n",
       "5     31.070054\n",
       "10    28.860641\n",
       "Name: tra_offer_infl, dtype: float64"
      ]
     },
     "execution_count": 116,
     "metadata": {},
     "output_type": "execute_result"
    }
   ],
   "source": [
    "\n",
    "plot_df = user_offer_df2.loc[user_offer_df2['viewed_rate'] != 0] # just visualized offers\n",
    "\n",
    "aux_fun.plot_by_category_metric(df=plot_df, col_category='offer_difficulty',\n",
    "    metric='tra_offer_infl',\n",
    "    title='Dificuldade',\n",
    "    x_label='Transactions $',\n",
    "    y_label='Offer Type',\n",
    "    return_table=True\n",
    "    )\n",
    "\n",
    "aux_fun.plot_by_category_metric(df=plot_df, col_category='offer_reward',\n",
    "    metric='tra_offer_infl',\n",
    "    title='Recompensa',\n",
    "    x_label='Transactions $',\n",
    "    y_label='Offer Type',\n",
    "    return_table=True\n",
    "    )"
   ]
  },
  {
   "cell_type": "code",
   "execution_count": 111,
   "metadata": {},
   "outputs": [
    {
     "data": {
      "text/html": [
       "<div>\n",
       "<style scoped>\n",
       "    .dataframe tbody tr th:only-of-type {\n",
       "        vertical-align: middle;\n",
       "    }\n",
       "\n",
       "    .dataframe tbody tr th {\n",
       "        vertical-align: top;\n",
       "    }\n",
       "\n",
       "    .dataframe thead th {\n",
       "        text-align: right;\n",
       "    }\n",
       "</style>\n",
       "<table border=\"1\" class=\"dataframe\">\n",
       "  <thead>\n",
       "    <tr style=\"text-align: right;\">\n",
       "      <th></th>\n",
       "      <th>reward</th>\n",
       "      <th>channels</th>\n",
       "      <th>difficulty</th>\n",
       "      <th>duration</th>\n",
       "      <th>offer_type</th>\n",
       "      <th>id</th>\n",
       "      <th>offer_id</th>\n",
       "    </tr>\n",
       "  </thead>\n",
       "  <tbody>\n",
       "    <tr>\n",
       "      <th>0</th>\n",
       "      <td>10</td>\n",
       "      <td>[email, mobile, social]</td>\n",
       "      <td>10</td>\n",
       "      <td>7</td>\n",
       "      <td>bogo</td>\n",
       "      <td>ae264e3637204a6fb9bb56bc8210ddfd</td>\n",
       "      <td>0</td>\n",
       "    </tr>\n",
       "    <tr>\n",
       "      <th>1</th>\n",
       "      <td>10</td>\n",
       "      <td>[web, email, mobile, social]</td>\n",
       "      <td>10</td>\n",
       "      <td>5</td>\n",
       "      <td>bogo</td>\n",
       "      <td>4d5c57ea9a6940dd891ad53e9dbe8da0</td>\n",
       "      <td>1</td>\n",
       "    </tr>\n",
       "    <tr>\n",
       "      <th>2</th>\n",
       "      <td>0</td>\n",
       "      <td>[web, email, mobile]</td>\n",
       "      <td>0</td>\n",
       "      <td>4</td>\n",
       "      <td>informational</td>\n",
       "      <td>3f207df678b143eea3cee63160fa8bed</td>\n",
       "      <td>2</td>\n",
       "    </tr>\n",
       "    <tr>\n",
       "      <th>3</th>\n",
       "      <td>5</td>\n",
       "      <td>[web, email, mobile]</td>\n",
       "      <td>5</td>\n",
       "      <td>7</td>\n",
       "      <td>bogo</td>\n",
       "      <td>9b98b8c7a33c4b65b9aebfe6a799e6d9</td>\n",
       "      <td>3</td>\n",
       "    </tr>\n",
       "    <tr>\n",
       "      <th>4</th>\n",
       "      <td>5</td>\n",
       "      <td>[web, email]</td>\n",
       "      <td>20</td>\n",
       "      <td>10</td>\n",
       "      <td>discount</td>\n",
       "      <td>0b1e1539f2cc45b7b9fa7c272da2e1d7</td>\n",
       "      <td>4</td>\n",
       "    </tr>\n",
       "    <tr>\n",
       "      <th>5</th>\n",
       "      <td>3</td>\n",
       "      <td>[web, email, mobile, social]</td>\n",
       "      <td>7</td>\n",
       "      <td>7</td>\n",
       "      <td>discount</td>\n",
       "      <td>2298d6c36e964ae4a3e7e9706d1fb8c2</td>\n",
       "      <td>5</td>\n",
       "    </tr>\n",
       "    <tr>\n",
       "      <th>6</th>\n",
       "      <td>2</td>\n",
       "      <td>[web, email, mobile, social]</td>\n",
       "      <td>10</td>\n",
       "      <td>10</td>\n",
       "      <td>discount</td>\n",
       "      <td>fafdcd668e3743c1bb461111dcafc2a4</td>\n",
       "      <td>6</td>\n",
       "    </tr>\n",
       "    <tr>\n",
       "      <th>7</th>\n",
       "      <td>0</td>\n",
       "      <td>[email, mobile, social]</td>\n",
       "      <td>0</td>\n",
       "      <td>3</td>\n",
       "      <td>informational</td>\n",
       "      <td>5a8bc65990b245e5a138643cd4eb9837</td>\n",
       "      <td>7</td>\n",
       "    </tr>\n",
       "    <tr>\n",
       "      <th>8</th>\n",
       "      <td>5</td>\n",
       "      <td>[web, email, mobile, social]</td>\n",
       "      <td>5</td>\n",
       "      <td>5</td>\n",
       "      <td>bogo</td>\n",
       "      <td>f19421c1d4aa40978ebb69ca19b0e20d</td>\n",
       "      <td>8</td>\n",
       "    </tr>\n",
       "    <tr>\n",
       "      <th>9</th>\n",
       "      <td>2</td>\n",
       "      <td>[web, email, mobile]</td>\n",
       "      <td>10</td>\n",
       "      <td>7</td>\n",
       "      <td>discount</td>\n",
       "      <td>2906b810c7d4411798c6938adc9daaa5</td>\n",
       "      <td>9</td>\n",
       "    </tr>\n",
       "  </tbody>\n",
       "</table>\n",
       "</div>"
      ],
      "text/plain": [
       "   reward                      channels  difficulty  duration     offer_type  \\\n",
       "0      10       [email, mobile, social]          10         7           bogo   \n",
       "1      10  [web, email, mobile, social]          10         5           bogo   \n",
       "2       0          [web, email, mobile]           0         4  informational   \n",
       "3       5          [web, email, mobile]           5         7           bogo   \n",
       "4       5                  [web, email]          20        10       discount   \n",
       "5       3  [web, email, mobile, social]           7         7       discount   \n",
       "6       2  [web, email, mobile, social]          10        10       discount   \n",
       "7       0       [email, mobile, social]           0         3  informational   \n",
       "8       5  [web, email, mobile, social]           5         5           bogo   \n",
       "9       2          [web, email, mobile]          10         7       discount   \n",
       "\n",
       "                                 id  offer_id  \n",
       "0  ae264e3637204a6fb9bb56bc8210ddfd         0  \n",
       "1  4d5c57ea9a6940dd891ad53e9dbe8da0         1  \n",
       "2  3f207df678b143eea3cee63160fa8bed         2  \n",
       "3  9b98b8c7a33c4b65b9aebfe6a799e6d9         3  \n",
       "4  0b1e1539f2cc45b7b9fa7c272da2e1d7         4  \n",
       "5  2298d6c36e964ae4a3e7e9706d1fb8c2         5  \n",
       "6  fafdcd668e3743c1bb461111dcafc2a4         6  \n",
       "7  5a8bc65990b245e5a138643cd4eb9837         7  \n",
       "8  f19421c1d4aa40978ebb69ca19b0e20d         8  \n",
       "9  2906b810c7d4411798c6938adc9daaa5         9  "
      ]
     },
     "execution_count": 111,
     "metadata": {},
     "output_type": "execute_result"
    }
   ],
   "source": [
    "portfolio"
   ]
  }
 ],
 "metadata": {
  "interpreter": {
   "hash": "eeb237ca9589ff17e84be316e51a9f8e37de705c995c7f78f5a9940dd33dc0b8"
  },
  "kernelspec": {
   "display_name": "Python 3.8.5 64-bit",
   "language": "python",
   "name": "python3"
  },
  "language_info": {
   "codemirror_mode": {
    "name": "ipython",
    "version": 3
   },
   "file_extension": ".py",
   "mimetype": "text/x-python",
   "name": "python",
   "nbconvert_exporter": "python",
   "pygments_lexer": "ipython3",
   "version": "3.8.5"
  },
  "orig_nbformat": 4
 },
 "nbformat": 4,
 "nbformat_minor": 2
}
