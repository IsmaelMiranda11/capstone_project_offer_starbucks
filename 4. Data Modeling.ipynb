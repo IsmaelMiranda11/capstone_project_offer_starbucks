{
 "cells": [
  {
   "cell_type": "markdown",
   "metadata": {},
   "source": [
    "## **Data Modeling**\n",
    "\n",
    "\n",
    "In this notebook, the data is used to train a classification model.\n",
    "\n",
    "This model is proposed to improve the metrics of complete rate and average transactions.  "
   ]
  },
  {
   "cell_type": "code",
   "execution_count": 1,
   "metadata": {},
   "outputs": [],
   "source": [
    "import pandas as pd\n",
    "import numpy as np\n",
    "import matplotlib.pyplot as plt\n",
    "import functions.functions as aux_fun\n",
    "\n",
    "from sklearn.metrics import classification_report, ConfusionMatrixDisplay, confusion_matrix\n",
    "from sklearn.preprocessing import StandardScaler, OneHotEncoder, QuantileTransformer\n",
    "from sklearn.compose import make_column_selector, make_column_transformer, TransformedTargetRegressor\n",
    "from sklearn.pipeline import Pipeline\n",
    "from sklearn.model_selection import train_test_split, GridSearchCV\n",
    "\n",
    "from sklearn.tree import DecisionTreeClassifier, plot_tree\n",
    "from sklearn.linear_model import LinearRegression, PoissonRegressor\n",
    "\n",
    "pd.options.mode.chained_assignment = None "
   ]
  },
  {
   "cell_type": "markdown",
   "metadata": {},
   "source": [
    "#### **Reading data**"
   ]
  },
  {
   "cell_type": "code",
   "execution_count": 2,
   "metadata": {},
   "outputs": [],
   "source": [
    "# Read data\n",
    "\n",
    "# Portifolio and profile datasets\n",
    "portfolio = pd.read_csv('data_treated/portfolio.csv')\n",
    "profile = pd.read_csv('data_treated/profile_clustered.csv')\n",
    "\n",
    "# User and offer data, exported in the notebook Data Exploration\n",
    "user_offer_df = pd.read_csv('data_treated/user_offer_expanded.csv').astype(\n",
    "    {'offer_id_rec':np.int8, 'age': np.float64, 'income':np.float64}\n",
    "    )"
   ]
  },
  {
   "cell_type": "markdown",
   "metadata": {},
   "source": [
    "Quick look at the data"
   ]
  },
  {
   "cell_type": "code",
   "execution_count": 3,
   "metadata": {},
   "outputs": [
    {
     "data": {
      "text/html": [
       "<div>\n",
       "<style scoped>\n",
       "    .dataframe tbody tr th:only-of-type {\n",
       "        vertical-align: middle;\n",
       "    }\n",
       "\n",
       "    .dataframe tbody tr th {\n",
       "        vertical-align: top;\n",
       "    }\n",
       "\n",
       "    .dataframe thead th {\n",
       "        text-align: right;\n",
       "    }\n",
       "</style>\n",
       "<table border=\"1\" class=\"dataframe\">\n",
       "  <thead>\n",
       "    <tr style=\"text-align: right;\">\n",
       "      <th></th>\n",
       "      <th>reward</th>\n",
       "      <th>channels</th>\n",
       "      <th>difficulty</th>\n",
       "      <th>duration</th>\n",
       "      <th>offer_type</th>\n",
       "      <th>id</th>\n",
       "      <th>offer_id</th>\n",
       "    </tr>\n",
       "  </thead>\n",
       "  <tbody>\n",
       "    <tr>\n",
       "      <th>0</th>\n",
       "      <td>10</td>\n",
       "      <td>['email', 'mobile', 'social']</td>\n",
       "      <td>10</td>\n",
       "      <td>7</td>\n",
       "      <td>bogo</td>\n",
       "      <td>ae264e3637204a6fb9bb56bc8210ddfd</td>\n",
       "      <td>0</td>\n",
       "    </tr>\n",
       "    <tr>\n",
       "      <th>1</th>\n",
       "      <td>10</td>\n",
       "      <td>['web', 'email', 'mobile', 'social']</td>\n",
       "      <td>10</td>\n",
       "      <td>5</td>\n",
       "      <td>bogo</td>\n",
       "      <td>4d5c57ea9a6940dd891ad53e9dbe8da0</td>\n",
       "      <td>1</td>\n",
       "    </tr>\n",
       "  </tbody>\n",
       "</table>\n",
       "</div>"
      ],
      "text/plain": [
       "   reward                              channels  difficulty  duration  \\\n",
       "0      10         ['email', 'mobile', 'social']          10         7   \n",
       "1      10  ['web', 'email', 'mobile', 'social']          10         5   \n",
       "\n",
       "  offer_type                                id  offer_id  \n",
       "0       bogo  ae264e3637204a6fb9bb56bc8210ddfd         0  \n",
       "1       bogo  4d5c57ea9a6940dd891ad53e9dbe8da0         1  "
      ]
     },
     "execution_count": 3,
     "metadata": {},
     "output_type": "execute_result"
    }
   ],
   "source": [
    "portfolio.head(2)"
   ]
  },
  {
   "cell_type": "code",
   "execution_count": 4,
   "metadata": {},
   "outputs": [
    {
     "data": {
      "text/html": [
       "<div>\n",
       "<style scoped>\n",
       "    .dataframe tbody tr th:only-of-type {\n",
       "        vertical-align: middle;\n",
       "    }\n",
       "\n",
       "    .dataframe tbody tr th {\n",
       "        vertical-align: top;\n",
       "    }\n",
       "\n",
       "    .dataframe thead th {\n",
       "        text-align: right;\n",
       "    }\n",
       "</style>\n",
       "<table border=\"1\" class=\"dataframe\">\n",
       "  <thead>\n",
       "    <tr style=\"text-align: right;\">\n",
       "      <th></th>\n",
       "      <th>gender</th>\n",
       "      <th>age</th>\n",
       "      <th>id</th>\n",
       "      <th>became_member_on</th>\n",
       "      <th>income</th>\n",
       "      <th>user_id</th>\n",
       "      <th>rela_member_years</th>\n",
       "      <th>user_cluster</th>\n",
       "    </tr>\n",
       "  </thead>\n",
       "  <tbody>\n",
       "    <tr>\n",
       "      <th>0</th>\n",
       "      <td>NI</td>\n",
       "      <td>55</td>\n",
       "      <td>68be06ca386d4c31939f3a4f0e3dd783</td>\n",
       "      <td>2017-02-12</td>\n",
       "      <td>64000.0</td>\n",
       "      <td>0</td>\n",
       "      <td>1.45</td>\n",
       "      <td>0</td>\n",
       "    </tr>\n",
       "    <tr>\n",
       "      <th>1</th>\n",
       "      <td>F</td>\n",
       "      <td>55</td>\n",
       "      <td>0610b486422d4921ae7d2bf64640c50b</td>\n",
       "      <td>2017-07-15</td>\n",
       "      <td>112000.0</td>\n",
       "      <td>1</td>\n",
       "      <td>1.03</td>\n",
       "      <td>2</td>\n",
       "    </tr>\n",
       "  </tbody>\n",
       "</table>\n",
       "</div>"
      ],
      "text/plain": [
       "  gender  age                                id became_member_on    income  \\\n",
       "0     NI   55  68be06ca386d4c31939f3a4f0e3dd783       2017-02-12   64000.0   \n",
       "1      F   55  0610b486422d4921ae7d2bf64640c50b       2017-07-15  112000.0   \n",
       "\n",
       "   user_id  rela_member_years  user_cluster  \n",
       "0        0               1.45             0  \n",
       "1        1               1.03             2  "
      ]
     },
     "execution_count": 4,
     "metadata": {},
     "output_type": "execute_result"
    }
   ],
   "source": [
    "profile.head(2)"
   ]
  },
  {
   "cell_type": "code",
   "execution_count": 5,
   "metadata": {},
   "outputs": [
    {
     "data": {
      "text/html": [
       "<div>\n",
       "<style scoped>\n",
       "    .dataframe tbody tr th:only-of-type {\n",
       "        vertical-align: middle;\n",
       "    }\n",
       "\n",
       "    .dataframe tbody tr th {\n",
       "        vertical-align: top;\n",
       "    }\n",
       "\n",
       "    .dataframe thead th {\n",
       "        text-align: right;\n",
       "    }\n",
       "</style>\n",
       "<table border=\"1\" class=\"dataframe\">\n",
       "  <thead>\n",
       "    <tr style=\"text-align: right;\">\n",
       "      <th></th>\n",
       "      <th>offer_id_rec</th>\n",
       "      <th>user_id</th>\n",
       "      <th>valid_view_rate</th>\n",
       "      <th>completed_after_view_rate</th>\n",
       "      <th>tra_offer_infl</th>\n",
       "      <th>offer_type</th>\n",
       "      <th>gender</th>\n",
       "      <th>age</th>\n",
       "      <th>income</th>\n",
       "      <th>rela_member_years</th>\n",
       "      <th>user_cluster</th>\n",
       "      <th>age_quartile</th>\n",
       "      <th>income_quartile</th>\n",
       "      <th>member_years_quartile</th>\n",
       "    </tr>\n",
       "  </thead>\n",
       "  <tbody>\n",
       "    <tr>\n",
       "      <th>0</th>\n",
       "      <td>7</td>\n",
       "      <td>3</td>\n",
       "      <td>1.0</td>\n",
       "      <td>0.0</td>\n",
       "      <td>49.39</td>\n",
       "      <td>informational</td>\n",
       "      <td>F</td>\n",
       "      <td>75.0</td>\n",
       "      <td>100000.0</td>\n",
       "      <td>1.21</td>\n",
       "      <td>2</td>\n",
       "      <td>(64.0, 101.0]</td>\n",
       "      <td>(76000.0, 120000.0]</td>\n",
       "      <td>(0.98, 2.17]</td>\n",
       "    </tr>\n",
       "    <tr>\n",
       "      <th>1</th>\n",
       "      <td>3</td>\n",
       "      <td>3</td>\n",
       "      <td>1.0</td>\n",
       "      <td>1.0</td>\n",
       "      <td>19.89</td>\n",
       "      <td>bogo</td>\n",
       "      <td>F</td>\n",
       "      <td>75.0</td>\n",
       "      <td>100000.0</td>\n",
       "      <td>1.21</td>\n",
       "      <td>2</td>\n",
       "      <td>(64.0, 101.0]</td>\n",
       "      <td>(76000.0, 120000.0]</td>\n",
       "      <td>(0.98, 2.17]</td>\n",
       "    </tr>\n",
       "  </tbody>\n",
       "</table>\n",
       "</div>"
      ],
      "text/plain": [
       "   offer_id_rec  user_id  valid_view_rate  completed_after_view_rate  \\\n",
       "0             7        3              1.0                        0.0   \n",
       "1             3        3              1.0                        1.0   \n",
       "\n",
       "   tra_offer_infl     offer_type gender   age    income  rela_member_years  \\\n",
       "0           49.39  informational      F  75.0  100000.0               1.21   \n",
       "1           19.89           bogo      F  75.0  100000.0               1.21   \n",
       "\n",
       "   user_cluster   age_quartile      income_quartile member_years_quartile  \n",
       "0             2  (64.0, 101.0]  (76000.0, 120000.0]          (0.98, 2.17]  \n",
       "1             2  (64.0, 101.0]  (76000.0, 120000.0]          (0.98, 2.17]  "
      ]
     },
     "execution_count": 5,
     "metadata": {},
     "output_type": "execute_result"
    }
   ],
   "source": [
    "user_offer_df.head(2)"
   ]
  },
  {
   "cell_type": "markdown",
   "metadata": {},
   "source": [
    "### **Modeling**"
   ]
  },
  {
   "cell_type": "markdown",
   "metadata": {},
   "source": [
    "Data modeling will be made the two main metrics: complete rate and avarage transactions.  "
   ]
  },
  {
   "cell_type": "markdown",
   "metadata": {},
   "source": [
    "#### **Complete Rate**"
   ]
  },
  {
   "cell_type": "markdown",
   "metadata": {},
   "source": [
    "##### Data Preparation\n",
    "\n",
    "Some users have received repeated offers during the experiment.They may have completed a part of these received offers, which generates complemented_after_view_rate values, such as 0.6, 0.25, for example.\n",
    "\n",
    "\n",
    "For the classification modeling, two classes will be considered for complete rate. If the user has reached any of the received offers, then receive 1. If not, 0.   \n",
    "\n",
    "This contour in the data allows modeling, in addition to not changing the overall goal, it is to sort when a class of users will complete an offer."
   ]
  },
  {
   "cell_type": "code",
   "execution_count": 6,
   "metadata": {},
   "outputs": [
    {
     "data": {
      "text/plain": [
       "0.0    42247\n",
       "1.0    21041\n",
       "Name: completed_after_view_rate, dtype: int64"
      ]
     },
     "execution_count": 6,
     "metadata": {},
     "output_type": "execute_result"
    }
   ],
   "source": [
    "user_offer_df.loc[user_offer_df.completed_after_view_rate > 0, 'completed_after_view_rate'] = 1 \n",
    "\n",
    "user_offer_df['completed_after_view_rate'].value_counts()"
   ]
  },
  {
   "cell_type": "code",
   "execution_count": 7,
   "metadata": {},
   "outputs": [
    {
     "data": {
      "text/html": [
       "<div>\n",
       "<style scoped>\n",
       "    .dataframe tbody tr th:only-of-type {\n",
       "        vertical-align: middle;\n",
       "    }\n",
       "\n",
       "    .dataframe tbody tr th {\n",
       "        vertical-align: top;\n",
       "    }\n",
       "\n",
       "    .dataframe thead th {\n",
       "        text-align: right;\n",
       "    }\n",
       "</style>\n",
       "<table border=\"1\" class=\"dataframe\">\n",
       "  <thead>\n",
       "    <tr style=\"text-align: right;\">\n",
       "      <th></th>\n",
       "      <th>offer_id_rec</th>\n",
       "      <th>completed_after_view_rate</th>\n",
       "      <th>offer_type</th>\n",
       "      <th>gender</th>\n",
       "      <th>age</th>\n",
       "      <th>income</th>\n",
       "      <th>rela_member_years</th>\n",
       "      <th>user_cluster</th>\n",
       "    </tr>\n",
       "  </thead>\n",
       "  <tbody>\n",
       "    <tr>\n",
       "      <th>1</th>\n",
       "      <td>3</td>\n",
       "      <td>1.0</td>\n",
       "      <td>bogo</td>\n",
       "      <td>F</td>\n",
       "      <td>75.0</td>\n",
       "      <td>100000.0</td>\n",
       "      <td>1.21</td>\n",
       "      <td>2</td>\n",
       "    </tr>\n",
       "    <tr>\n",
       "      <th>2</th>\n",
       "      <td>0</td>\n",
       "      <td>1.0</td>\n",
       "      <td>bogo</td>\n",
       "      <td>F</td>\n",
       "      <td>75.0</td>\n",
       "      <td>100000.0</td>\n",
       "      <td>1.21</td>\n",
       "      <td>2</td>\n",
       "    </tr>\n",
       "    <tr>\n",
       "      <th>3</th>\n",
       "      <td>8</td>\n",
       "      <td>0.0</td>\n",
       "      <td>bogo</td>\n",
       "      <td>F</td>\n",
       "      <td>75.0</td>\n",
       "      <td>100000.0</td>\n",
       "      <td>1.21</td>\n",
       "      <td>2</td>\n",
       "    </tr>\n",
       "  </tbody>\n",
       "</table>\n",
       "</div>"
      ],
      "text/plain": [
       "   offer_id_rec  completed_after_view_rate offer_type gender   age    income  \\\n",
       "1             3                        1.0       bogo      F  75.0  100000.0   \n",
       "2             0                        1.0       bogo      F  75.0  100000.0   \n",
       "3             8                        0.0       bogo      F  75.0  100000.0   \n",
       "\n",
       "   rela_member_years  user_cluster  \n",
       "1               1.21             2  \n",
       "2               1.21             2  \n",
       "3               1.21             2  "
      ]
     },
     "execution_count": 7,
     "metadata": {},
     "output_type": "execute_result"
    }
   ],
   "source": [
    "# Summarize the necessary columns of user-offer\n",
    "complete_df = user_offer_df[['offer_id_rec', 'completed_after_view_rate', \n",
    "    'offer_type', 'gender', 'age', 'income', 'rela_member_years', 'user_cluster']]\n",
    "\n",
    "# For modeling, filter out informational offer, since the complete\n",
    "# rate is always 0, because this offer has no chance of being complete\n",
    "complete_df = complete_df.loc[complete_df['offer_type']!='informational']\n",
    "\n",
    "complete_df.head(3)"
   ]
  },
  {
   "cell_type": "markdown",
   "metadata": {},
   "source": [
    "##### Split dataset"
   ]
  },
  {
   "cell_type": "code",
   "execution_count": 8,
   "metadata": {},
   "outputs": [],
   "source": [
    "# Target features and others\n",
    "y = complete_df['completed_after_view_rate'] # target\n",
    "X = complete_df.drop(columns='completed_after_view_rate') # features\n",
    "\n",
    "# Split data into training and testing datasets\n",
    "X_train, X_test, y_train, y_test = train_test_split(X, y, test_size=0.3)"
   ]
  },
  {
   "cell_type": "markdown",
   "metadata": {},
   "source": [
    "##### Train"
   ]
  },
  {
   "cell_type": "code",
   "execution_count": 9,
   "metadata": {},
   "outputs": [
    {
     "data": {
      "text/plain": [
       "Pipeline(steps=[('tranformer',\n",
       "                 ColumnTransformer(transformers=[('standardscaler',\n",
       "                                                  StandardScaler(),\n",
       "                                                  <sklearn.compose._column_transformer.make_column_selector object at 0x000001D8441F57C0>),\n",
       "                                                 ('onehotencoder',\n",
       "                                                  OneHotEncoder(dtype='int',\n",
       "                                                                handle_unknown='ignore',\n",
       "                                                                sparse=False),\n",
       "                                                  <sklearn.compose._column_transformer.make_column_selector object at 0x000001D8441F58E0>)])),\n",
       "                ('classifier',\n",
       "                 DecisionTreeClassifier(class_weight='balanced'))])"
      ]
     },
     "execution_count": 9,
     "metadata": {},
     "output_type": "execute_result"
    }
   ],
   "source": [
    "# Create a pipeline\n",
    "\n",
    "# Transformer\n",
    "# For Age, Income and Time as Member use a scaler (z score)\n",
    "sca = StandardScaler()\n",
    "# For categorical columns, as offer id, offer type, user cluster and gender\n",
    "# user one hot encoder to create dummy variables.\n",
    "encoder = OneHotEncoder(sparse=False, dtype='int', handle_unknown='ignore')\n",
    "\n",
    "# Classifier\n",
    "# Use Decision Tree to fit data. Class weight is set to balanced to\n",
    "# balance the size of each class in dataset.\n",
    "clf = DecisionTreeClassifier(class_weight='balanced')\n",
    "\n",
    "\n",
    "# Column Transformer chain, since the columns will receive different\n",
    "# transformations. For numeric columns, the type is float64.\n",
    "transformers = make_column_transformer( \n",
    "    (sca, make_column_selector(dtype_include=np.float64)),\n",
    "    (encoder, make_column_selector(dtype_exclude=np.float64))\n",
    ")\n",
    "\n",
    "# Pipeline\n",
    "model_complete = Pipeline(\n",
    "    [\n",
    "        ('tranformer', transformers),\n",
    "        ('classifier', clf)\n",
    "    ]\n",
    ")\n",
    "\n",
    "# Fit model to train data\n",
    "model_complete.fit(X_train, y_train)"
   ]
  },
  {
   "cell_type": "markdown",
   "metadata": {},
   "source": [
    "##### Test"
   ]
  },
  {
   "cell_type": "code",
   "execution_count": 10,
   "metadata": {},
   "outputs": [
    {
     "name": "stdout",
     "output_type": "stream",
     "text": [
      "Perfomance with Train\n",
      "\n",
      "              precision    recall  f1-score   support\n",
      "\n",
      "         0.0       0.99      0.99      0.99     20704\n",
      "         1.0       0.99      0.99      0.99     14741\n",
      "\n",
      "    accuracy                           0.99     35445\n",
      "   macro avg       0.99      0.99      0.99     35445\n",
      "weighted avg       0.99      0.99      0.99     35445\n",
      "\n"
     ]
    },
    {
     "data": {
      "image/png": "[encoded data removed]",
      "text/plain": [
       "<Figure size 432x288 with 2 Axes>"
      ]
     },
     "metadata": {
      "needs_background": "light"
     },
     "output_type": "display_data"
    },
    {
     "name": "stdout",
     "output_type": "stream",
     "text": [
      "Perfomance with Test\n",
      "\n",
      "              precision    recall  f1-score   support\n",
      "\n",
      "         0.0       0.69      0.69      0.69      8892\n",
      "         1.0       0.57      0.57      0.57      6300\n",
      "\n",
      "    accuracy                           0.64     15192\n",
      "   macro avg       0.63      0.63      0.63     15192\n",
      "weighted avg       0.64      0.64      0.64     15192\n",
      "\n"
     ]
    },
    {
     "data": {
      "image/png": "[encoded data removed]",
      "text/plain": [
       "<Figure size 432x288 with 2 Axes>"
      ]
     },
     "metadata": {
      "needs_background": "light"
     },
     "output_type": "display_data"
    }
   ],
   "source": [
    "# Evaluation of results\n",
    "aux_fun.evaluate_model(model_complete, X_train=X_train, y_train=y_train,\n",
    "    X_test=X_test, y_test=y_test)"
   ]
  },
  {
   "cell_type": "markdown",
   "metadata": {},
   "source": [
    "The metric chosen to evaluate the model is the recall. Recall accounts for the percentage of true positives over the number of true positive and false negatives (the total real positives). In this way, this metric allows you to tell how much the model can hit reality.  \n",
    "\n",
    "It is noted that with the training data, the percentage of the model is 99%, while for the test is 59%.\n",
    "\n",
    "What seems to happen is an overfitting to training data. With that, the model hits the training very well, but it make mistakes a lot in the test and may not apply to new data, never seen.  \n",
    "\n",
    "One of the parameters of a decision tree that causes this type of behavior is the depth of the tree. So this is a good parameter to be inserted into a grid search in order to find the best value to fit the data"
   ]
  },
  {
   "cell_type": "markdown",
   "metadata": {},
   "source": [
    "##### Grid Search"
   ]
  },
  {
   "cell_type": "code",
   "execution_count": 11,
   "metadata": {},
   "outputs": [
    {
     "name": "stdout",
     "output_type": "stream",
     "text": [
      "{'memory': None, 'steps': [('tranformer', ColumnTransformer(transformers=[('standardscaler', StandardScaler(),\n",
      "                                 <sklearn.compose._column_transformer.make_column_selector object at 0x000001D8441F57C0>),\n",
      "                                ('onehotencoder',\n",
      "                                 OneHotEncoder(dtype='int',\n",
      "                                               handle_unknown='ignore',\n",
      "                                               sparse=False),\n",
      "                                 <sklearn.compose._column_transformer.make_column_selector object at 0x000001D8441F58E0>)])), ('classifier', DecisionTreeClassifier(class_weight='balanced'))], 'verbose': False, 'tranformer': ColumnTransformer(transformers=[('standardscaler', StandardScaler(),\n",
      "                                 <sklearn.compose._column_transformer.make_column_selector object at 0x000001D8441F57C0>),\n",
      "                                ('onehotencoder',\n",
      "                                 OneHotEncoder(dtype='int',\n",
      "                                               handle_unknown='ignore',\n",
      "                                               sparse=False),\n",
      "                                 <sklearn.compose._column_transformer.make_column_selector object at 0x000001D8441F58E0>)]), 'classifier': DecisionTreeClassifier(class_weight='balanced'), 'tranformer__n_jobs': None, 'tranformer__remainder': 'drop', 'tranformer__sparse_threshold': 0.3, 'tranformer__transformer_weights': None, 'tranformer__transformers': [('standardscaler', StandardScaler(), <sklearn.compose._column_transformer.make_column_selector object at 0x000001D8441F57C0>), ('onehotencoder', OneHotEncoder(dtype='int', handle_unknown='ignore', sparse=False), <sklearn.compose._column_transformer.make_column_selector object at 0x000001D8441F58E0>)], 'tranformer__verbose': False, 'tranformer__verbose_feature_names_out': True, 'tranformer__standardscaler': StandardScaler(), 'tranformer__onehotencoder': OneHotEncoder(dtype='int', handle_unknown='ignore', sparse=False), 'tranformer__standardscaler__copy': True, 'tranformer__standardscaler__with_mean': True, 'tranformer__standardscaler__with_std': True, 'tranformer__onehotencoder__categories': 'auto', 'tranformer__onehotencoder__drop': None, 'tranformer__onehotencoder__dtype': 'int', 'tranformer__onehotencoder__handle_unknown': 'ignore', 'tranformer__onehotencoder__sparse': False, 'classifier__ccp_alpha': 0.0, 'classifier__class_weight': 'balanced', 'classifier__criterion': 'gini', 'classifier__max_depth': None, 'classifier__max_features': None, 'classifier__max_leaf_nodes': None, 'classifier__min_impurity_decrease': 0.0, 'classifier__min_samples_leaf': 1, 'classifier__min_samples_split': 2, 'classifier__min_weight_fraction_leaf': 0.0, 'classifier__random_state': None, 'classifier__splitter': 'best'}\n"
     ]
    }
   ],
   "source": [
    "# Get params names\n",
    "print(model_complete.get_params())"
   ]
  },
  {
   "cell_type": "code",
   "execution_count": 12,
   "metadata": {},
   "outputs": [],
   "source": [
    "# Use GridSearch to search for the best depth of the tree\n",
    "params_grid = {\n",
    "    'classifier__max_depth':range(5,40), \n",
    "    'classifier__criterion': ['gini', 'entropy']\n",
    "}\n",
    "\n",
    "# GridSearch\n",
    "pipeline_complete_gs = GridSearchCV(model_complete, params_grid, scoring='recall_micro')\n",
    "\n",
    "# Fit\n",
    "pipeline_complete_gs.fit(X_train, y_train)\n",
    "\n",
    "# Best result\n",
    "model_complete_gs = pipeline_complete_gs.best_estimator_"
   ]
  },
  {
   "cell_type": "code",
   "execution_count": 13,
   "metadata": {},
   "outputs": [
    {
     "data": {
      "text/plain": [
       "Pipeline(steps=[('tranformer',\n",
       "                 ColumnTransformer(transformers=[('standardscaler',\n",
       "                                                  StandardScaler(),\n",
       "                                                  <sklearn.compose._column_transformer.make_column_selector object at 0x000001D84477B190>),\n",
       "                                                 ('onehotencoder',\n",
       "                                                  OneHotEncoder(dtype='int',\n",
       "                                                                handle_unknown='ignore',\n",
       "                                                                sparse=False),\n",
       "                                                  <sklearn.compose._column_transformer.make_column_selector object at 0x000001D84477B430>)])),\n",
       "                ('classifier',\n",
       "                 DecisionTreeClassifier(class_weight='balanced', max_depth=8))])"
      ]
     },
     "execution_count": 13,
     "metadata": {},
     "output_type": "execute_result"
    }
   ],
   "source": [
    "# Observe the best model\n",
    "model_complete_gs"
   ]
  },
  {
   "cell_type": "code",
   "execution_count": 14,
   "metadata": {},
   "outputs": [
    {
     "name": "stdout",
     "output_type": "stream",
     "text": [
      "Perfomance with Train\n",
      "\n",
      "              precision    recall  f1-score   support\n",
      "\n",
      "         0.0       0.77      0.72      0.74     20704\n",
      "         1.0       0.64      0.69      0.66     14741\n",
      "\n",
      "    accuracy                           0.71     35445\n",
      "   macro avg       0.70      0.71      0.70     35445\n",
      "weighted avg       0.71      0.71      0.71     35445\n",
      "\n"
     ]
    },
    {
     "data": {
      "image/png": "[encoded data removed]",
      "text/plain": [
       "<Figure size 432x288 with 2 Axes>"
      ]
     },
     "metadata": {
      "needs_background": "light"
     },
     "output_type": "display_data"
    },
    {
     "name": "stdout",
     "output_type": "stream",
     "text": [
      "Perfomance with Test\n",
      "\n",
      "              precision    recall  f1-score   support\n",
      "\n",
      "         0.0       0.75      0.70      0.73      8892\n",
      "         1.0       0.61      0.67      0.64      6300\n",
      "\n",
      "    accuracy                           0.69     15192\n",
      "   macro avg       0.68      0.69      0.68     15192\n",
      "weighted avg       0.69      0.69      0.69     15192\n",
      "\n"
     ]
    },
    {
     "data": {
      "image/png": "[encoded data removed]",
      "text/plain": [
       "<Figure size 432x288 with 2 Axes>"
      ]
     },
     "metadata": {
      "needs_background": "light"
     },
     "output_type": "display_data"
    }
   ],
   "source": [
    "# Evaluate the grid serach best model\n",
    "aux_fun.evaluate_model(model_complete_gs, X_train=X_train, y_train=y_train,\n",
    "    X_test=X_test, y_test=y_test)"
   ]
  },
  {
   "cell_type": "markdown",
   "metadata": {},
   "source": [
    "The recall ran from 59% to around 70%.\n",
    "\n",
    "The result can be considered low for a model. However, the data worked is from a simulation of 30 days of offers. The time space is short, which may not be an ideal ground to make the fit.  \n",
    "Thus, this value is considered usable for the purpose of the project. It is considered that the model will fit well into new data, minimally predicting a good result. With more data, the model is able to improve the percentage of recall."
   ]
  },
  {
   "cell_type": "markdown",
   "metadata": {},
   "source": [
    "##### Evaluation"
   ]
  },
  {
   "cell_type": "markdown",
   "metadata": {},
   "source": [
    "One of the possible evaluations in a trained decision tree is the importance of the variables for the tree"
   ]
  },
  {
   "cell_type": "code",
   "execution_count": 15,
   "metadata": {},
   "outputs": [
    {
     "data": {
      "text/html": [
       "<div>\n",
       "<style scoped>\n",
       "    .dataframe tbody tr th:only-of-type {\n",
       "        vertical-align: middle;\n",
       "    }\n",
       "\n",
       "    .dataframe tbody tr th {\n",
       "        vertical-align: top;\n",
       "    }\n",
       "\n",
       "    .dataframe thead th {\n",
       "        text-align: right;\n",
       "    }\n",
       "</style>\n",
       "<table border=\"1\" class=\"dataframe\">\n",
       "  <thead>\n",
       "    <tr style=\"text-align: right;\">\n",
       "      <th></th>\n",
       "      <th>Variable</th>\n",
       "      <th>Importance</th>\n",
       "    </tr>\n",
       "  </thead>\n",
       "  <tbody>\n",
       "    <tr>\n",
       "      <th>2</th>\n",
       "      <td>rela_member_years</td>\n",
       "      <td>0.266907</td>\n",
       "    </tr>\n",
       "    <tr>\n",
       "      <th>15</th>\n",
       "      <td>gender_NI</td>\n",
       "      <td>0.200989</td>\n",
       "    </tr>\n",
       "    <tr>\n",
       "      <th>6</th>\n",
       "      <td>offer_id_rec_4</td>\n",
       "      <td>0.127967</td>\n",
       "    </tr>\n",
       "    <tr>\n",
       "      <th>7</th>\n",
       "      <td>offer_id_rec_5</td>\n",
       "      <td>0.100711</td>\n",
       "    </tr>\n",
       "    <tr>\n",
       "      <th>1</th>\n",
       "      <td>income</td>\n",
       "      <td>0.098148</td>\n",
       "    </tr>\n",
       "    <tr>\n",
       "      <th>8</th>\n",
       "      <td>offer_id_rec_6</td>\n",
       "      <td>0.097957</td>\n",
       "    </tr>\n",
       "    <tr>\n",
       "      <th>9</th>\n",
       "      <td>offer_id_rec_8</td>\n",
       "      <td>0.052387</td>\n",
       "    </tr>\n",
       "    <tr>\n",
       "      <th>0</th>\n",
       "      <td>age</td>\n",
       "      <td>0.030119</td>\n",
       "    </tr>\n",
       "    <tr>\n",
       "      <th>14</th>\n",
       "      <td>gender_M</td>\n",
       "      <td>0.019800</td>\n",
       "    </tr>\n",
       "    <tr>\n",
       "      <th>5</th>\n",
       "      <td>offer_id_rec_3</td>\n",
       "      <td>0.001985</td>\n",
       "    </tr>\n",
       "  </tbody>\n",
       "</table>\n",
       "</div>"
      ],
      "text/plain": [
       "             Variable  Importance\n",
       "2   rela_member_years    0.266907\n",
       "15          gender_NI    0.200989\n",
       "6      offer_id_rec_4    0.127967\n",
       "7      offer_id_rec_5    0.100711\n",
       "1              income    0.098148\n",
       "8      offer_id_rec_6    0.097957\n",
       "9      offer_id_rec_8    0.052387\n",
       "0                 age    0.030119\n",
       "14           gender_M    0.019800\n",
       "5      offer_id_rec_3    0.001985"
      ]
     },
     "execution_count": 15,
     "metadata": {},
     "output_type": "execute_result"
    }
   ],
   "source": [
    "# Looking at the importance of each variable in the classification\n",
    "def create_df_feature_importances(model):\n",
    "    '''\n",
    "    Create a dataframe with the variables' importances\n",
    "    '''\n",
    "    df_feature = pd.DataFrame()\n",
    "    df_feature['Variable'] = model.named_steps['tranformer'].get_feature_names_out()\n",
    "    df_feature['Variable'] = df_feature['Variable'].map(lambda n: n.split('__')[1])\n",
    "    \n",
    "    df_feature['Importance'] = model.named_steps['classifier'].feature_importances_\n",
    "    return df_feature\n",
    "\n",
    "# Using the function\n",
    "create_df_feature_importances(model_complete_gs).sort_values('Importance', ascending=False).head(10)"
   ]
  },
  {
   "cell_type": "markdown",
   "metadata": {},
   "source": [
    "It is also possible to plot the tree decision path"
   ]
  },
  {
   "cell_type": "code",
   "execution_count": 16,
   "metadata": {},
   "outputs": [
    {
     "data": {
      "image/png": "[encoded data removed]",
      "text/plain": [
       "<Figure size 2160x720 with 1 Axes>"
      ]
     },
     "metadata": {
      "needs_background": "light"
     },
     "output_type": "display_data"
    }
   ],
   "source": [
    "# Viewing the tree\n",
    "\n",
    "# Get variables names\n",
    "named_variables =  model_complete_gs.named_steps['tranformer'].get_feature_names_out()\n",
    "named_variables = [ name.split('__')[1] for name in named_variables]\n",
    "\n",
    "# Get tree from model\n",
    "clf_tree = model_complete_gs.named_steps['classifier']\n",
    "\n",
    "# Plot tree\n",
    "plt.figure(figsize=(30,10))\n",
    "plot_tree(clf_tree, max_depth=2, feature_names=named_variables, filled=True)\n",
    "plt.show()"
   ]
  },
  {
   "cell_type": "markdown",
   "metadata": {},
   "source": [
    "By the table, it is noted that the unidentified genre is the second feature in importance.This is because there are few users, which becomes easy to divide larger groups.  \n",
    "\n",
    "First is the time as a member. This feature is the first to be used in the division of the tree. Although standarized, it is noted that low values make the first division. That is, users with little time as a member divide groups with more classes 0.\n",
    "\n",
    "After them, see offers 4, 5 and 6. These offers are the discount type and have a great impact on the separation of classes."
   ]
  },
  {
   "cell_type": "markdown",
   "metadata": {},
   "source": [
    "##### Deployment"
   ]
  },
  {
   "cell_type": "markdown",
   "metadata": {},
   "source": [
    "This model can be used to guide offers to users.\n",
    "\n",
    "The function below does this. Operation is based on the operation:  \n",
    "1. Filters the Profile Base with an Entrda User ID  \n",
    "2. Simulates this user receives all offers  \n",
    "3. Creates a column with the planned complete class  \n",
    "4. Offers that are planned to be complete are returns  "
   ]
  },
  {
   "cell_type": "code",
   "execution_count": 17,
   "metadata": {},
   "outputs": [],
   "source": [
    "def best_user_offer_to_send(user, model, X):\n",
    "    '''\n",
    "    Function to return the best deals for a user.\n",
    "    Input:\n",
    "        user - (int) An user id\n",
    "        model- (sklearn model) A model trained to predict complete offers\n",
    "    Output:\n",
    "        recs - (list) A list of best offers to the user\n",
    "    Description:\n",
    "        This function simulate the user receiving all offers and use the model\n",
    "        to predict the completation.\n",
    "    '''\n",
    "\n",
    "    # Filter user in profile\n",
    "    user_df = profile.loc[profile['user_id'] == user]\n",
    "    # Select columns\n",
    "    user_df = user_df[['gender', 'age', 'income', 'rela_member_years', 'user_cluster']]\n",
    "    \n",
    "    # Create a simulation to deliver all offers to the user\n",
    "    offers_df = portfolio[['offer_id', 'offer_type']]\n",
    "    offers_df.columns = ['offer_id_rec', 'offer_type']\n",
    "    offers_df = aux_fun.expand_dataframe(user_df, offers_df)\n",
    "\n",
    "    # Garantee order of columns\n",
    "    offers_df = offers_df[X.columns]\n",
    "    \n",
    "    # Predict\n",
    "    offers_df['complete_pred'] = model.predict(offers_df)\n",
    "    \n",
    "    # Filter\n",
    "    best_offers = offers_df.loc[offers_df['complete_pred'] == 1]\n",
    "\n",
    "    # Create list\n",
    "    recs = []\n",
    "    for _, row in best_offers.iterrows():\n",
    "        recs.append(str(row['offer_id_rec']) +\\\n",
    "            ' - ' + str(row['offer_type']))\n",
    "    \n",
    "    print(f'Offers for {user}: {recs}')\n",
    "    \n",
    "    return recs"
   ]
  },
  {
   "cell_type": "code",
   "execution_count": 18,
   "metadata": {},
   "outputs": [
    {
     "name": "stdout",
     "output_type": "stream",
     "text": [
      "Offers for 0: ['5 - discount', '6 - discount', '8 - bogo']\n",
      "Offers for 1: ['0 - bogo', '1 - bogo', '2 - informational', '3 - bogo', '5 - discount', '6 - discount', '7 - informational', '8 - bogo', '9 - discount']\n",
      "Offers for 2: []\n",
      "Offers for 3: ['0 - bogo', '1 - bogo', '2 - informational', '3 - bogo', '4 - discount', '5 - discount', '6 - discount', '7 - informational', '8 - bogo', '9 - discount']\n",
      "Offers for 4: []\n"
     ]
    }
   ],
   "source": [
    "# Applying the function for the five first users\n",
    "for user in range(0,5):\n",
    "    best_user_offer_to_send(user, model_complete_gs, X)"
   ]
  },
  {
   "cell_type": "markdown",
   "metadata": {},
   "source": [
    "For the user with id = 2, there are no offers that the forecast model that would be completed. This result can change over time.  \n",
    "\n",
    "For user 0, the offers with the chance of being complete are 5 and 6, while for user 1, all offers have people to complete by the user profile."
   ]
  },
  {
   "cell_type": "markdown",
   "metadata": {},
   "source": [
    "#### **Transactions**  \n",
    "\n",
    "The previous model can be combined with a regression model for the total transactions from the supply sent to each user"
   ]
  },
  {
   "cell_type": "markdown",
   "metadata": {},
   "source": [
    "##### Data preparation"
   ]
  },
  {
   "cell_type": "code",
   "execution_count": 19,
   "metadata": {},
   "outputs": [
    {
     "data": {
      "text/html": [
       "<div>\n",
       "<style scoped>\n",
       "    .dataframe tbody tr th:only-of-type {\n",
       "        vertical-align: middle;\n",
       "    }\n",
       "\n",
       "    .dataframe tbody tr th {\n",
       "        vertical-align: top;\n",
       "    }\n",
       "\n",
       "    .dataframe thead th {\n",
       "        text-align: right;\n",
       "    }\n",
       "</style>\n",
       "<table border=\"1\" class=\"dataframe\">\n",
       "  <thead>\n",
       "    <tr style=\"text-align: right;\">\n",
       "      <th></th>\n",
       "      <th>offer_id_rec</th>\n",
       "      <th>tra_offer_infl</th>\n",
       "      <th>offer_type</th>\n",
       "      <th>gender</th>\n",
       "      <th>age</th>\n",
       "      <th>income</th>\n",
       "      <th>rela_member_years</th>\n",
       "      <th>user_cluster</th>\n",
       "    </tr>\n",
       "  </thead>\n",
       "  <tbody>\n",
       "    <tr>\n",
       "      <th>0</th>\n",
       "      <td>7</td>\n",
       "      <td>49.39</td>\n",
       "      <td>informational</td>\n",
       "      <td>F</td>\n",
       "      <td>75.0</td>\n",
       "      <td>100000.0</td>\n",
       "      <td>1.21</td>\n",
       "      <td>2</td>\n",
       "    </tr>\n",
       "    <tr>\n",
       "      <th>1</th>\n",
       "      <td>3</td>\n",
       "      <td>19.89</td>\n",
       "      <td>bogo</td>\n",
       "      <td>F</td>\n",
       "      <td>75.0</td>\n",
       "      <td>100000.0</td>\n",
       "      <td>1.21</td>\n",
       "      <td>2</td>\n",
       "    </tr>\n",
       "    <tr>\n",
       "      <th>2</th>\n",
       "      <td>0</td>\n",
       "      <td>21.72</td>\n",
       "      <td>bogo</td>\n",
       "      <td>F</td>\n",
       "      <td>75.0</td>\n",
       "      <td>100000.0</td>\n",
       "      <td>1.21</td>\n",
       "      <td>2</td>\n",
       "    </tr>\n",
       "  </tbody>\n",
       "</table>\n",
       "</div>"
      ],
      "text/plain": [
       "   offer_id_rec  tra_offer_infl     offer_type gender   age    income  \\\n",
       "0             7           49.39  informational      F  75.0  100000.0   \n",
       "1             3           19.89           bogo      F  75.0  100000.0   \n",
       "2             0           21.72           bogo      F  75.0  100000.0   \n",
       "\n",
       "   rela_member_years  user_cluster  \n",
       "0               1.21             2  \n",
       "1               1.21             2  \n",
       "2               1.21             2  "
      ]
     },
     "execution_count": 19,
     "metadata": {},
     "output_type": "execute_result"
    }
   ],
   "source": [
    "# Transactions\n",
    "transactions_df = user_offer_df[['offer_id_rec','tra_offer_infl', 'offer_type', 'gender',\n",
    "       'age', 'income', 'rela_member_years', 'user_cluster']]\n",
    "\n",
    "transactions_df.head(3)"
   ]
  },
  {
   "cell_type": "markdown",
   "metadata": {},
   "source": [
    "##### Split dataset "
   ]
  },
  {
   "cell_type": "code",
   "execution_count": 20,
   "metadata": {},
   "outputs": [],
   "source": [
    "# Target features and others\n",
    "y = transactions_df['tra_offer_infl'] # target\n",
    "X = transactions_df.drop(columns='tra_offer_infl') # features\n",
    "\n",
    "# Split data into training and testing datasets\n",
    "X_train, X_test, y_train, y_test = train_test_split(X, y, test_size=0.3)"
   ]
  },
  {
   "cell_type": "markdown",
   "metadata": {},
   "source": [
    "##### Train"
   ]
  },
  {
   "cell_type": "code",
   "execution_count": 21,
   "metadata": {},
   "outputs": [
    {
     "data": {
      "text/plain": [
       "Pipeline(steps=[('tranformer',\n",
       "                 ColumnTransformer(transformers=[('standardscaler',\n",
       "                                                  StandardScaler(),\n",
       "                                                  <sklearn.compose._column_transformer.make_column_selector object at 0x000001D8480266D0>),\n",
       "                                                 ('onehotencoder',\n",
       "                                                  OneHotEncoder(dtype='int',\n",
       "                                                                handle_unknown='ignore',\n",
       "                                                                sparse=False),\n",
       "                                                  <sklearn.compose._column_transformer.make_column_selector object at 0x000001D8480263D0>)])),\n",
       "                ('regressor', LinearRegression())])"
      ]
     },
     "execution_count": 21,
     "metadata": {},
     "output_type": "execute_result"
    }
   ],
   "source": [
    "# Create a pipeline\n",
    "\n",
    "# Transformer\n",
    "# For Age, Income and Time as Member use a scaler (z score)\n",
    "sca = StandardScaler()\n",
    "# For categorical columns, as offer id, offer type, user cluster and gender\n",
    "# user one hot encoder to create dummy variables.\n",
    "encoder = OneHotEncoder(sparse=False, dtype='int', handle_unknown='ignore')\n",
    "\n",
    "# Classifier\n",
    "# Use LinearRegression to fit data.\n",
    "reg = LinearRegression() # standart reg\n",
    "\n",
    "# Column Transformer chain, since the columns will receive different\n",
    "# transformations. For numeric columns, the type is float64.\n",
    "transformers = make_column_transformer( \n",
    "    (sca, make_column_selector(dtype_include=np.float64)),\n",
    "    (encoder, make_column_selector(dtype_exclude=np.float64))\n",
    ")\n",
    "\n",
    "# Pipeline\n",
    "model_reg = Pipeline(\n",
    "    [\n",
    "        ('tranformer', transformers),\n",
    "        ('regressor', reg)\n",
    "    ]\n",
    ")\n",
    "\n",
    "# Fit model to train data\n",
    "model_reg.fit(X_train, y_train)"
   ]
  },
  {
   "cell_type": "markdown",
   "metadata": {},
   "source": [
    "##### Test"
   ]
  },
  {
   "cell_type": "code",
   "execution_count": 22,
   "metadata": {},
   "outputs": [
    {
     "name": "stdout",
     "output_type": "stream",
     "text": [
      "Perfomance with Train\n",
      "\n",
      "R2: 0.033865765807816195\n",
      "Perfomance with Test\n",
      "\n",
      "R2: 0.037587931408534225\n",
      "Residuals plot\n"
     ]
    },
    {
     "data": {
      "image/png": "[encoded data removed]",
      "text/plain": [
       "<Figure size 432x288 with 1 Axes>"
      ]
     },
     "metadata": {
      "needs_background": "light"
     },
     "output_type": "display_data"
    }
   ],
   "source": [
    "# Evaluation of results\n",
    "aux_fun.evaluate_model_reg(model_reg, X_train=X_train, y_train=y_train,\n",
    "    X_test=X_test, y_test=y_test)"
   ]
  },
  {
   "cell_type": "markdown",
   "metadata": {},
   "source": [
    "The regression has terrible results for the R².This metric counts as the model can explain from the total variation of the data.\n",
    "\n",
    "As you see, with R² near 0.03, the regression model is not usable."
   ]
  },
  {
   "cell_type": "markdown",
   "metadata": {},
   "source": [
    "Observing the data, what happens is the excess of training data close to 0.  \n",
    "In this way, the model does not have many data to adjust the data in general.  \n",
    "\n",
    "The charts below shows the values."
   ]
  },
  {
   "cell_type": "code",
   "execution_count": 23,
   "metadata": {},
   "outputs": [
    {
     "data": {
      "image/png": "[encoded data removed]",
      "text/plain": [
       "<Figure size 720x288 with 1 Axes>"
      ]
     },
     "metadata": {
      "needs_background": "light"
     },
     "output_type": "display_data"
    },
    {
     "data": {
      "image/png": "[encoded data removed]",
      "text/plain": [
       "<Figure size 720x288 with 1 Axes>"
      ]
     },
     "metadata": {
      "needs_background": "light"
     },
     "output_type": "display_data"
    }
   ],
   "source": [
    "# Plotting the y train data\n",
    "\n",
    "# Data points\n",
    "plt.figure(figsize=(10,4))\n",
    "x = np.arange(len(y_test))\n",
    "plt.scatter(x, y_test)\n",
    "plt.title('Transactions Points'); plt.xlabel('Point'); plt.ylabel('Transaction')\n",
    "plt.show()\n",
    "# Histogram\n",
    "plt.figure(figsize=(10,4))\n",
    "plt.hist(y_test)\n",
    "plt.title('Transactions Distribuiton'); plt.xlabel('Transaction')\n",
    "plt.show()"
   ]
  },
  {
   "cell_type": "markdown",
   "metadata": {},
   "source": [
    "Como observado, para os dados trabalhados, um modelo de regressão não se encaixa bem.  \n",
    "\n",
    "\n"
   ]
  },
  {
   "cell_type": "markdown",
   "metadata": {},
   "source": [
    "##### Changing the model"
   ]
  },
  {
   "cell_type": "markdown",
   "metadata": {},
   "source": [
    "A strategy to be able to enable the use of the transaction variables is to adpt the template to the classification model.\n",
    "\n",
    "The change consists of considering that any transaction, that is, transaction values above zero, are evidence that the user has shopped influenced by that offer. Thus, two classes are divided:  \n",
    "\n",
    "* 0: there were no transactions. tra_offer_infl == 0.\n",
    "* 1: there was some transaction. tra_offer_infl > 0.\n"
   ]
  },
  {
   "cell_type": "markdown",
   "metadata": {},
   "source": [
    "##### Redefining the data and split train and test"
   ]
  },
  {
   "cell_type": "code",
   "execution_count": 24,
   "metadata": {},
   "outputs": [],
   "source": [
    "# Redefing the data\n",
    "\n",
    "# Target features and others\n",
    "y = transactions_df[['tra_offer_infl']] # target\n",
    "X = transactions_df.drop(columns='tra_offer_infl') # features\n",
    "\n",
    "# Classing the transactions\n",
    "y.loc[y['tra_offer_infl'] > 0, 'tra_offer_infl'] = 1  \n",
    "\n",
    "# Split data into training and testing datasets\n",
    "X_train, X_test, y_train, y_test = train_test_split(X, y, test_size=0.3)"
   ]
  },
  {
   "cell_type": "markdown",
   "metadata": {},
   "source": [
    "##### Train new model"
   ]
  },
  {
   "cell_type": "code",
   "execution_count": 25,
   "metadata": {},
   "outputs": [],
   "source": [
    "# Create a pipeline\n",
    "\n",
    "# Transformer\n",
    "# For Age, Income and Time as Member use a scaler (z score)\n",
    "sca = StandardScaler()\n",
    "# For categorical columns, as offer id, offer type, user cluster and gender\n",
    "# user one hot encoder to create dummy variables.\n",
    "encoder = OneHotEncoder(sparse=False, dtype='int')\n",
    "\n",
    "# Classifier\n",
    "# Use Decision Tree to fit data. Class weight is set to balanced to\n",
    "# balance the size of each class in dataset.\n",
    "clf = DecisionTreeClassifier(class_weight='balanced')\n",
    "\n",
    "\n",
    "# Column Transformer chain, since the columns will receive different\n",
    "# transformations. For numeric columns, the type is float64.\n",
    "transformers = make_column_transformer( \n",
    "    (sca, make_column_selector(dtype_include=np.float64)),\n",
    "    (encoder, make_column_selector(dtype_exclude=np.float64))\n",
    ")\n",
    "\n",
    "# Pipeline\n",
    "model_tra = Pipeline(\n",
    "    [\n",
    "        ('tranformer', transformers),\n",
    "        ('classifier', clf)\n",
    "    ]\n",
    ")\n",
    "\n",
    "# Use GridSearch to search for the best depth of the tree\n",
    "params_grid = {\n",
    "    'classifier__max_depth':range(5,40), \n",
    "    'classifier__criterion': ['gini', 'entropy'] \n",
    "}\n",
    "\n",
    "# GridSearch\n",
    "pipeline_gs = GridSearchCV(model_tra, params_grid, scoring='recall_micro')\n",
    "\n",
    "# Fit\n",
    "pipeline_gs.fit(X_train, y_train)\n",
    "\n",
    "# Best result\n",
    "model_tra_gs = pipeline_gs.best_estimator_"
   ]
  },
  {
   "cell_type": "code",
   "execution_count": 26,
   "metadata": {},
   "outputs": [
    {
     "name": "stdout",
     "output_type": "stream",
     "text": [
      "Perfomance with Train\n",
      "\n",
      "              precision    recall  f1-score   support\n",
      "\n",
      "         0.0       0.68      0.70      0.69     20719\n",
      "         1.0       0.73      0.71      0.72     23582\n",
      "\n",
      "    accuracy                           0.70     44301\n",
      "   macro avg       0.70      0.70      0.70     44301\n",
      "weighted avg       0.70      0.70      0.70     44301\n",
      "\n"
     ]
    },
    {
     "data": {
      "image/png": "[encoded data removed]",
      "text/plain": [
       "<Figure size 432x288 with 2 Axes>"
      ]
     },
     "metadata": {
      "needs_background": "light"
     },
     "output_type": "display_data"
    },
    {
     "name": "stdout",
     "output_type": "stream",
     "text": [
      "Perfomance with Test\n",
      "\n",
      "              precision    recall  f1-score   support\n",
      "\n",
      "         0.0       0.67      0.69      0.68      8866\n",
      "         1.0       0.72      0.70      0.71     10121\n",
      "\n",
      "    accuracy                           0.69     18987\n",
      "   macro avg       0.69      0.69      0.69     18987\n",
      "weighted avg       0.69      0.69      0.69     18987\n",
      "\n"
     ]
    },
    {
     "data": {
      "image/png": "[encoded data removed]",
      "text/plain": [
       "<Figure size 432x288 with 2 Axes>"
      ]
     },
     "metadata": {
      "needs_background": "light"
     },
     "output_type": "display_data"
    }
   ],
   "source": [
    "# Evaluation of results\n",
    "aux_fun.evaluate_model(model_tra_gs, X_train=X_train, y_train=y_train,\n",
    "    X_test=X_test, y_test=y_test)"
   ]
  },
  {
   "cell_type": "markdown",
   "metadata": {},
   "source": [
    "The classification of the transaction delivers a rebate around 60%.  \n",
    "Again, a theoretically low, but feasible result of being used in the project, since the goal is that the model fits well into data has never seen.\n"
   ]
  },
  {
   "cell_type": "markdown",
   "metadata": {},
   "source": [
    "##### Evaluation"
   ]
  },
  {
   "cell_type": "code",
   "execution_count": 27,
   "metadata": {},
   "outputs": [
    {
     "data": {
      "text/html": [
       "<div>\n",
       "<style scoped>\n",
       "    .dataframe tbody tr th:only-of-type {\n",
       "        vertical-align: middle;\n",
       "    }\n",
       "\n",
       "    .dataframe tbody tr th {\n",
       "        vertical-align: top;\n",
       "    }\n",
       "\n",
       "    .dataframe thead th {\n",
       "        text-align: right;\n",
       "    }\n",
       "</style>\n",
       "<table border=\"1\" class=\"dataframe\">\n",
       "  <thead>\n",
       "    <tr style=\"text-align: right;\">\n",
       "      <th></th>\n",
       "      <th>Variable</th>\n",
       "      <th>Importance</th>\n",
       "    </tr>\n",
       "  </thead>\n",
       "  <tbody>\n",
       "    <tr>\n",
       "      <th>2</th>\n",
       "      <td>rela_member_years</td>\n",
       "      <td>0.183760</td>\n",
       "    </tr>\n",
       "    <tr>\n",
       "      <th>7</th>\n",
       "      <td>offer_id_rec_4</td>\n",
       "      <td>0.147371</td>\n",
       "    </tr>\n",
       "    <tr>\n",
       "      <th>1</th>\n",
       "      <td>income</td>\n",
       "      <td>0.141623</td>\n",
       "    </tr>\n",
       "    <tr>\n",
       "      <th>12</th>\n",
       "      <td>offer_id_rec_9</td>\n",
       "      <td>0.124871</td>\n",
       "    </tr>\n",
       "    <tr>\n",
       "      <th>6</th>\n",
       "      <td>offer_id_rec_3</td>\n",
       "      <td>0.118014</td>\n",
       "    </tr>\n",
       "    <tr>\n",
       "      <th>5</th>\n",
       "      <td>offer_id_rec_2</td>\n",
       "      <td>0.116954</td>\n",
       "    </tr>\n",
       "    <tr>\n",
       "      <th>15</th>\n",
       "      <td>offer_type_informational</td>\n",
       "      <td>0.074634</td>\n",
       "    </tr>\n",
       "    <tr>\n",
       "      <th>0</th>\n",
       "      <td>age</td>\n",
       "      <td>0.055401</td>\n",
       "    </tr>\n",
       "    <tr>\n",
       "      <th>3</th>\n",
       "      <td>offer_id_rec_0</td>\n",
       "      <td>0.008368</td>\n",
       "    </tr>\n",
       "    <tr>\n",
       "      <th>9</th>\n",
       "      <td>offer_id_rec_6</td>\n",
       "      <td>0.007445</td>\n",
       "    </tr>\n",
       "  </tbody>\n",
       "</table>\n",
       "</div>"
      ],
      "text/plain": [
       "                    Variable  Importance\n",
       "2          rela_member_years    0.183760\n",
       "7             offer_id_rec_4    0.147371\n",
       "1                     income    0.141623\n",
       "12            offer_id_rec_9    0.124871\n",
       "6             offer_id_rec_3    0.118014\n",
       "5             offer_id_rec_2    0.116954\n",
       "15  offer_type_informational    0.074634\n",
       "0                        age    0.055401\n",
       "3             offer_id_rec_0    0.008368\n",
       "9             offer_id_rec_6    0.007445"
      ]
     },
     "execution_count": 27,
     "metadata": {},
     "output_type": "execute_result"
    }
   ],
   "source": [
    "# Importance variables in the model\n",
    "# Using the function\n",
    "create_df_feature_importances(model_tra_gs).sort_values('Importance', ascending=False).head(10)"
   ]
  },
  {
   "cell_type": "code",
   "execution_count": 28,
   "metadata": {},
   "outputs": [
    {
     "data": {
      "image/png": "[encoded data removed]",
      "text/plain": [
       "<Figure size 2160x720 with 1 Axes>"
      ]
     },
     "metadata": {
      "needs_background": "light"
     },
     "output_type": "display_data"
    }
   ],
   "source": [
    "# Viewing the tree\n",
    "\n",
    "# Get variables names\n",
    "named_variables =  model_tra_gs.named_steps['tranformer'].get_feature_names_out()\n",
    "named_variables = [ name.split('__')[1] for name in named_variables]\n",
    "\n",
    "# Get tree from model\n",
    "clf_tree = model_tra_gs.named_steps['classifier']\n",
    "\n",
    "# Plot tree\n",
    "plt.figure(figsize=(30,10))\n",
    "plot_tree(clf_tree, max_depth=2, feature_names=named_variables, filled=True)\n",
    "plt.show()"
   ]
  },
  {
   "cell_type": "markdown",
   "metadata": {},
   "source": [
    "For the transaction model, the first vaulting that works to split the groups is the ID 4 offer.\n",
    "\n",
    "The most important, revealed in the table, is the time variable as a member, again appearing as important in the class division.  \n",
    "\n",
    "The most important third variable has a logic in the evaluation, which is income. As seen in data exploration, users with larger lace will transaction more compared to minors."
   ]
  },
  {
   "cell_type": "markdown",
   "metadata": {},
   "source": [
    "### **Deployment**  \n",
    "\n",
    "The two models created above can be combined for delivery the best directing from offers to users.\n",
    "\n",
    "The idea is to combine when a user is predict to complete the offer and transact values because of the offer."
   ]
  },
  {
   "cell_type": "code",
   "execution_count": 29,
   "metadata": {},
   "outputs": [],
   "source": [
    "# Improving the prior function with a second model\n",
    "\n",
    "def best_user_offer_to_send2(user, model_completation, model_transaction, X):\n",
    "    '''\n",
    "    Function to return the best deals for a user.\n",
    "    Input:\n",
    "        user - (int) An user id\n",
    "        model_completation - (sklearn model) A model trained to predict\n",
    "        complete offers\n",
    "        model_transaction - (sklearn model) A model trained to predict\n",
    "        transaction because an offer\n",
    "    Output:\n",
    "        recs - (list) A list of best offers to the user\n",
    "    Description:\n",
    "        This function simulate the user receiving all offers and use the models\n",
    "        to predict the completation and transaction. A score column is created\n",
    "        to account for best offers (==1)\n",
    "    '''\n",
    "    \n",
    "    # Filter user in profile\n",
    "    user_df = profile.loc[profile['user_id']==user]\n",
    "    # Select columns\n",
    "    user_df = user_df[['gender', 'age', 'income', 'rela_member_years', 'user_cluster']]\n",
    "    \n",
    "    # Create a simulation to deliver all offers to the user\n",
    "    offers_df = portfolio[['offer_id', 'offer_type']]\n",
    "    offers_df.columns = ['offer_id_rec', 'offer_type']\n",
    "    offers_df = aux_fun.expand_dataframe(user_df, offers_df)\n",
    "\n",
    "    # Garantee order of columns\n",
    "    offers_df = offers_df[X.columns]\n",
    "    \n",
    "    # Predict Completation\n",
    "    offers_df['complete_pred'] = model_completation.predict(offers_df)\n",
    "    # Predict Transactions\n",
    "    offers_df['transaction_pred'] = model_transaction.predict(offers_df)\n",
    "    \n",
    "    # Create a score column and filter\n",
    "    offers_df['score'] = offers_df['complete_pred']*offers_df['transaction_pred']\n",
    "    best_offers = offers_df.loc[offers_df['score'] == 1]\n",
    "\n",
    "    # Create list\n",
    "    recs = []\n",
    "    for _, row in best_offers.iterrows():\n",
    "        recs.append(str(row['offer_id_rec']) +\\\n",
    "            ' - ' + str(row['offer_type']))\n",
    "    \n",
    "    print(f'Offers for {user}: {recs}')\n",
    "    \n",
    "    return recs"
   ]
  },
  {
   "cell_type": "code",
   "execution_count": 30,
   "metadata": {},
   "outputs": [
    {
     "name": "stdout",
     "output_type": "stream",
     "text": [
      "Offers for 0: ['5 - discount', '6 - discount', '8 - bogo']\n",
      "Offers for 1: ['0 - bogo', '1 - bogo', '5 - discount', '6 - discount', '8 - bogo']\n",
      "Offers for 2: []\n",
      "Offers for 3: ['0 - bogo', '1 - bogo', '5 - discount', '6 - discount', '8 - bogo']\n",
      "Offers for 4: []\n"
     ]
    }
   ],
   "source": [
    "# For the first 5 users\n",
    "\n",
    "for user in range(0,5):\n",
    "    best_user_offer_to_send2(user, model_complete_gs, model_tra_gs, X)"
   ]
  },
  {
   "cell_type": "markdown",
   "metadata": {},
   "source": [
    "As noted, the recommendation values were reduced to user 0 and also for users 1 and 3.  \n",
    "This is because with this new transaction classification model, the function only offers offers with both expected positive classes."
   ]
  }
 ],
 "metadata": {
  "interpreter": {
   "hash": "eeb237ca9589ff17e84be316e51a9f8e37de705c995c7f78f5a9940dd33dc0b8"
  },
  "kernelspec": {
   "display_name": "Python 3.8.5 64-bit",
   "language": "python",
   "name": "python3"
  },
  "language_info": {
   "codemirror_mode": {
    "name": "ipython",
    "version": 3
   },
   "file_extension": ".py",
   "mimetype": "text/x-python",
   "name": "python",
   "nbconvert_exporter": "python",
   "pygments_lexer": "ipython3",
   "version": "3.8.5"
  },
  "orig_nbformat": 4
 },
 "nbformat": 4,
 "nbformat_minor": 2
}
