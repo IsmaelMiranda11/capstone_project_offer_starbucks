{
 "cells": [
  {
   "cell_type": "markdown",
   "metadata": {},
   "source": [
    "Exploring the data"
   ]
  },
  {
   "cell_type": "code",
   "execution_count": 1,
   "metadata": {},
   "outputs": [],
   "source": [
    "import pandas as pd\n",
    "import numpy as np\n",
    "import matplotlib.pyplot as plt\n",
    "import seaborn as sns\n",
    "import importlib\n",
    "import functions.functions as aux_fun\n",
    "importlib.reload(aux_fun)\n",
    "\n",
    "from sklearn.model_selection import train_test_split, GridSearchCV\n",
    "from sklearn.tree import DecisionTreeClassifier, plot_tree, DecisionTreeRegressor\n",
    "from sklearn.svm import SVC\n",
    "from sklearn.metrics import classification_report, ConfusionMatrixDisplay,confusion_matrix\n",
    "from sklearn.preprocessing import StandardScaler, OneHotEncoder, RobustScaler, QuantileTransformer, Normalizer, FunctionTransformer, KBinsDiscretizer\n",
    "from sklearn.compose import ColumnTransformer, make_column_selector, make_column_transformer, TransformedTargetRegressor\n",
    "from sklearn.pipeline import Pipeline, make_pipeline\n",
    "\n",
    "from sklearn.linear_model import LinearRegression, PoissonRegressor, Ridge\n",
    "from sklearn.svm import LinearSVR\n",
    "\n",
    "\n",
    "\n",
    "pd.options.mode.chained_assignment = None "
   ]
  },
  {
   "cell_type": "markdown",
   "metadata": {},
   "source": [
    "Reading data"
   ]
  },
  {
   "cell_type": "code",
   "execution_count": 2,
   "metadata": {},
   "outputs": [],
   "source": [
    "# Read data\n",
    "\n",
    "# Portifolio and profile datasets\n",
    "portfolio = pd.read_csv('portfolio.csv')\n",
    "profile = pd.read_csv('profile_clustered.csv')\n",
    "\n",
    "# User and offer data, already treated in Data Preparation \n",
    "user_offer_df = pd.read_csv('user_offer2.csv').astype({'offer_id_rec':np.int8})"
   ]
  },
  {
   "cell_type": "markdown",
   "metadata": {},
   "source": [
    "Quick look at the data"
   ]
  },
  {
   "cell_type": "code",
   "execution_count": 3,
   "metadata": {},
   "outputs": [
    {
     "data": {
      "text/html": [
       "<div>\n",
       "<style scoped>\n",
       "    .dataframe tbody tr th:only-of-type {\n",
       "        vertical-align: middle;\n",
       "    }\n",
       "\n",
       "    .dataframe tbody tr th {\n",
       "        vertical-align: top;\n",
       "    }\n",
       "\n",
       "    .dataframe thead th {\n",
       "        text-align: right;\n",
       "    }\n",
       "</style>\n",
       "<table border=\"1\" class=\"dataframe\">\n",
       "  <thead>\n",
       "    <tr style=\"text-align: right;\">\n",
       "      <th></th>\n",
       "      <th>reward</th>\n",
       "      <th>channels</th>\n",
       "      <th>difficulty</th>\n",
       "      <th>duration</th>\n",
       "      <th>offer_type</th>\n",
       "      <th>id</th>\n",
       "      <th>offer_id</th>\n",
       "    </tr>\n",
       "  </thead>\n",
       "  <tbody>\n",
       "    <tr>\n",
       "      <th>0</th>\n",
       "      <td>10</td>\n",
       "      <td>['email', 'mobile', 'social']</td>\n",
       "      <td>10</td>\n",
       "      <td>7</td>\n",
       "      <td>bogo</td>\n",
       "      <td>ae264e3637204a6fb9bb56bc8210ddfd</td>\n",
       "      <td>0</td>\n",
       "    </tr>\n",
       "    <tr>\n",
       "      <th>1</th>\n",
       "      <td>10</td>\n",
       "      <td>['web', 'email', 'mobile', 'social']</td>\n",
       "      <td>10</td>\n",
       "      <td>5</td>\n",
       "      <td>bogo</td>\n",
       "      <td>4d5c57ea9a6940dd891ad53e9dbe8da0</td>\n",
       "      <td>1</td>\n",
       "    </tr>\n",
       "  </tbody>\n",
       "</table>\n",
       "</div>"
      ],
      "text/plain": [
       "   reward                              channels  difficulty  duration  \\\n",
       "0      10         ['email', 'mobile', 'social']          10         7   \n",
       "1      10  ['web', 'email', 'mobile', 'social']          10         5   \n",
       "\n",
       "  offer_type                                id  offer_id  \n",
       "0       bogo  ae264e3637204a6fb9bb56bc8210ddfd         0  \n",
       "1       bogo  4d5c57ea9a6940dd891ad53e9dbe8da0         1  "
      ]
     },
     "execution_count": 3,
     "metadata": {},
     "output_type": "execute_result"
    }
   ],
   "source": [
    "portfolio.head(2)"
   ]
  },
  {
   "cell_type": "code",
   "execution_count": 4,
   "metadata": {},
   "outputs": [
    {
     "data": {
      "text/html": [
       "<div>\n",
       "<style scoped>\n",
       "    .dataframe tbody tr th:only-of-type {\n",
       "        vertical-align: middle;\n",
       "    }\n",
       "\n",
       "    .dataframe tbody tr th {\n",
       "        vertical-align: top;\n",
       "    }\n",
       "\n",
       "    .dataframe thead th {\n",
       "        text-align: right;\n",
       "    }\n",
       "</style>\n",
       "<table border=\"1\" class=\"dataframe\">\n",
       "  <thead>\n",
       "    <tr style=\"text-align: right;\">\n",
       "      <th></th>\n",
       "      <th>gender</th>\n",
       "      <th>age</th>\n",
       "      <th>id</th>\n",
       "      <th>became_member_on</th>\n",
       "      <th>income</th>\n",
       "      <th>user_id</th>\n",
       "      <th>rela_member_years</th>\n",
       "      <th>user_cluster</th>\n",
       "    </tr>\n",
       "  </thead>\n",
       "  <tbody>\n",
       "    <tr>\n",
       "      <th>0</th>\n",
       "      <td>NI</td>\n",
       "      <td>55.0</td>\n",
       "      <td>68be06ca386d4c31939f3a4f0e3dd783</td>\n",
       "      <td>2017-02-12</td>\n",
       "      <td>64000.0</td>\n",
       "      <td>0</td>\n",
       "      <td>1.45</td>\n",
       "      <td>0</td>\n",
       "    </tr>\n",
       "    <tr>\n",
       "      <th>1</th>\n",
       "      <td>F</td>\n",
       "      <td>55.0</td>\n",
       "      <td>0610b486422d4921ae7d2bf64640c50b</td>\n",
       "      <td>2017-07-15</td>\n",
       "      <td>112000.0</td>\n",
       "      <td>1</td>\n",
       "      <td>1.03</td>\n",
       "      <td>2</td>\n",
       "    </tr>\n",
       "  </tbody>\n",
       "</table>\n",
       "</div>"
      ],
      "text/plain": [
       "  gender   age                                id became_member_on    income  \\\n",
       "0     NI  55.0  68be06ca386d4c31939f3a4f0e3dd783       2017-02-12   64000.0   \n",
       "1      F  55.0  0610b486422d4921ae7d2bf64640c50b       2017-07-15  112000.0   \n",
       "\n",
       "   user_id  rela_member_years  user_cluster  \n",
       "0        0               1.45             0  \n",
       "1        1               1.03             2  "
      ]
     },
     "execution_count": 4,
     "metadata": {},
     "output_type": "execute_result"
    }
   ],
   "source": [
    "profile.head(2)"
   ]
  },
  {
   "cell_type": "code",
   "execution_count": 5,
   "metadata": {},
   "outputs": [
    {
     "data": {
      "text/html": [
       "<div>\n",
       "<style scoped>\n",
       "    .dataframe tbody tr th:only-of-type {\n",
       "        vertical-align: middle;\n",
       "    }\n",
       "\n",
       "    .dataframe tbody tr th {\n",
       "        vertical-align: top;\n",
       "    }\n",
       "\n",
       "    .dataframe thead th {\n",
       "        text-align: right;\n",
       "    }\n",
       "</style>\n",
       "<table border=\"1\" class=\"dataframe\">\n",
       "  <thead>\n",
       "    <tr style=\"text-align: right;\">\n",
       "      <th></th>\n",
       "      <th>offer_id_rec</th>\n",
       "      <th>user_id</th>\n",
       "      <th>valid_view_rate</th>\n",
       "      <th>completed_after_view_rate</th>\n",
       "      <th>tra_offer_infl</th>\n",
       "      <th>offer_type</th>\n",
       "      <th>gender</th>\n",
       "      <th>age</th>\n",
       "      <th>income</th>\n",
       "      <th>rela_member_years</th>\n",
       "      <th>user_cluster</th>\n",
       "      <th>age_quartile</th>\n",
       "      <th>income_quartile</th>\n",
       "      <th>member_years_quartile</th>\n",
       "    </tr>\n",
       "  </thead>\n",
       "  <tbody>\n",
       "    <tr>\n",
       "      <th>0</th>\n",
       "      <td>7</td>\n",
       "      <td>3</td>\n",
       "      <td>1.0</td>\n",
       "      <td>0.0</td>\n",
       "      <td>49.39</td>\n",
       "      <td>informational</td>\n",
       "      <td>F</td>\n",
       "      <td>75.0</td>\n",
       "      <td>100000.0</td>\n",
       "      <td>1.21</td>\n",
       "      <td>2</td>\n",
       "      <td>(64.0, 101.0]</td>\n",
       "      <td>(76000.0, 120000.0]</td>\n",
       "      <td>(0.98, 2.17]</td>\n",
       "    </tr>\n",
       "    <tr>\n",
       "      <th>1</th>\n",
       "      <td>3</td>\n",
       "      <td>3</td>\n",
       "      <td>1.0</td>\n",
       "      <td>1.0</td>\n",
       "      <td>19.89</td>\n",
       "      <td>bogo</td>\n",
       "      <td>F</td>\n",
       "      <td>75.0</td>\n",
       "      <td>100000.0</td>\n",
       "      <td>1.21</td>\n",
       "      <td>2</td>\n",
       "      <td>(64.0, 101.0]</td>\n",
       "      <td>(76000.0, 120000.0]</td>\n",
       "      <td>(0.98, 2.17]</td>\n",
       "    </tr>\n",
       "  </tbody>\n",
       "</table>\n",
       "</div>"
      ],
      "text/plain": [
       "   offer_id_rec  user_id  valid_view_rate  completed_after_view_rate  \\\n",
       "0             7        3              1.0                        0.0   \n",
       "1             3        3              1.0                        1.0   \n",
       "\n",
       "   tra_offer_infl     offer_type gender   age    income  rela_member_years  \\\n",
       "0           49.39  informational      F  75.0  100000.0               1.21   \n",
       "1           19.89           bogo      F  75.0  100000.0               1.21   \n",
       "\n",
       "   user_cluster   age_quartile      income_quartile member_years_quartile  \n",
       "0             2  (64.0, 101.0]  (76000.0, 120000.0]          (0.98, 2.17]  \n",
       "1             2  (64.0, 101.0]  (76000.0, 120000.0]          (0.98, 2.17]  "
      ]
     },
     "execution_count": 5,
     "metadata": {},
     "output_type": "execute_result"
    }
   ],
   "source": [
    "user_offer_df.head(2)"
   ]
  },
  {
   "cell_type": "markdown",
   "metadata": {},
   "source": [
    "#### Preparing dataset"
   ]
  },
  {
   "cell_type": "markdown",
   "metadata": {},
   "source": [
    "Alguns usuários receberam a mesma oferta durante o experimento. Eles podem ter completado uma parte dessas ofertas recebidas, o que gera valores de completed_after_view_rate quebrados, como 0.6, 0.25.  \n",
    "\n",
    "Para a modelagem, será considerado duas classes para a taxa de completada. Se o usuário chegou a completa alguma das ofertas recebidas, então receberá 1. Se não, 0. "
   ]
  },
  {
   "cell_type": "code",
   "execution_count": 6,
   "metadata": {},
   "outputs": [
    {
     "data": {
      "text/html": [
       "<div>\n",
       "<style scoped>\n",
       "    .dataframe tbody tr th:only-of-type {\n",
       "        vertical-align: middle;\n",
       "    }\n",
       "\n",
       "    .dataframe tbody tr th {\n",
       "        vertical-align: top;\n",
       "    }\n",
       "\n",
       "    .dataframe thead th {\n",
       "        text-align: right;\n",
       "    }\n",
       "</style>\n",
       "<table border=\"1\" class=\"dataframe\">\n",
       "  <thead>\n",
       "    <tr style=\"text-align: right;\">\n",
       "      <th></th>\n",
       "      <th>offer_id_rec</th>\n",
       "      <th>tra_offer_infl</th>\n",
       "      <th>offer_type</th>\n",
       "      <th>gender</th>\n",
       "      <th>age</th>\n",
       "      <th>income</th>\n",
       "      <th>rela_member_years</th>\n",
       "      <th>user_cluster</th>\n",
       "    </tr>\n",
       "  </thead>\n",
       "  <tbody>\n",
       "    <tr>\n",
       "      <th>0</th>\n",
       "      <td>7</td>\n",
       "      <td>49.39</td>\n",
       "      <td>informational</td>\n",
       "      <td>F</td>\n",
       "      <td>75.0</td>\n",
       "      <td>100000.0</td>\n",
       "      <td>1.21</td>\n",
       "      <td>2</td>\n",
       "    </tr>\n",
       "    <tr>\n",
       "      <th>1</th>\n",
       "      <td>3</td>\n",
       "      <td>19.89</td>\n",
       "      <td>bogo</td>\n",
       "      <td>F</td>\n",
       "      <td>75.0</td>\n",
       "      <td>100000.0</td>\n",
       "      <td>1.21</td>\n",
       "      <td>2</td>\n",
       "    </tr>\n",
       "    <tr>\n",
       "      <th>2</th>\n",
       "      <td>0</td>\n",
       "      <td>21.72</td>\n",
       "      <td>bogo</td>\n",
       "      <td>F</td>\n",
       "      <td>75.0</td>\n",
       "      <td>100000.0</td>\n",
       "      <td>1.21</td>\n",
       "      <td>2</td>\n",
       "    </tr>\n",
       "    <tr>\n",
       "      <th>3</th>\n",
       "      <td>8</td>\n",
       "      <td>0.00</td>\n",
       "      <td>bogo</td>\n",
       "      <td>F</td>\n",
       "      <td>75.0</td>\n",
       "      <td>100000.0</td>\n",
       "      <td>1.21</td>\n",
       "      <td>2</td>\n",
       "    </tr>\n",
       "    <tr>\n",
       "      <th>4</th>\n",
       "      <td>7</td>\n",
       "      <td>0.00</td>\n",
       "      <td>informational</td>\n",
       "      <td>NI</td>\n",
       "      <td>55.0</td>\n",
       "      <td>64000.0</td>\n",
       "      <td>0.98</td>\n",
       "      <td>0</td>\n",
       "    </tr>\n",
       "    <tr>\n",
       "      <th>...</th>\n",
       "      <td>...</td>\n",
       "      <td>...</td>\n",
       "      <td>...</td>\n",
       "      <td>...</td>\n",
       "      <td>...</td>\n",
       "      <td>...</td>\n",
       "      <td>...</td>\n",
       "      <td>...</td>\n",
       "    </tr>\n",
       "    <tr>\n",
       "      <th>63283</th>\n",
       "      <td>5</td>\n",
       "      <td>14.83</td>\n",
       "      <td>discount</td>\n",
       "      <td>M</td>\n",
       "      <td>21.0</td>\n",
       "      <td>45000.0</td>\n",
       "      <td>0.44</td>\n",
       "      <td>3</td>\n",
       "    </tr>\n",
       "    <tr>\n",
       "      <th>63284</th>\n",
       "      <td>5</td>\n",
       "      <td>14.95</td>\n",
       "      <td>discount</td>\n",
       "      <td>F</td>\n",
       "      <td>63.0</td>\n",
       "      <td>68000.0</td>\n",
       "      <td>0.96</td>\n",
       "      <td>0</td>\n",
       "    </tr>\n",
       "    <tr>\n",
       "      <th>63285</th>\n",
       "      <td>5</td>\n",
       "      <td>30.41</td>\n",
       "      <td>discount</td>\n",
       "      <td>F</td>\n",
       "      <td>68.0</td>\n",
       "      <td>51000.0</td>\n",
       "      <td>1.15</td>\n",
       "      <td>0</td>\n",
       "    </tr>\n",
       "    <tr>\n",
       "      <th>63286</th>\n",
       "      <td>5</td>\n",
       "      <td>14.25</td>\n",
       "      <td>discount</td>\n",
       "      <td>M</td>\n",
       "      <td>20.0</td>\n",
       "      <td>70000.0</td>\n",
       "      <td>1.77</td>\n",
       "      <td>3</td>\n",
       "    </tr>\n",
       "    <tr>\n",
       "      <th>63287</th>\n",
       "      <td>5</td>\n",
       "      <td>26.54</td>\n",
       "      <td>discount</td>\n",
       "      <td>M</td>\n",
       "      <td>45.0</td>\n",
       "      <td>62000.0</td>\n",
       "      <td>2.88</td>\n",
       "      <td>1</td>\n",
       "    </tr>\n",
       "  </tbody>\n",
       "</table>\n",
       "<p>63288 rows × 8 columns</p>\n",
       "</div>"
      ],
      "text/plain": [
       "       offer_id_rec  tra_offer_infl     offer_type gender   age    income  \\\n",
       "0                 7           49.39  informational      F  75.0  100000.0   \n",
       "1                 3           19.89           bogo      F  75.0  100000.0   \n",
       "2                 0           21.72           bogo      F  75.0  100000.0   \n",
       "3                 8            0.00           bogo      F  75.0  100000.0   \n",
       "4                 7            0.00  informational     NI  55.0   64000.0   \n",
       "...             ...             ...            ...    ...   ...       ...   \n",
       "63283             5           14.83       discount      M  21.0   45000.0   \n",
       "63284             5           14.95       discount      F  63.0   68000.0   \n",
       "63285             5           30.41       discount      F  68.0   51000.0   \n",
       "63286             5           14.25       discount      M  20.0   70000.0   \n",
       "63287             5           26.54       discount      M  45.0   62000.0   \n",
       "\n",
       "       rela_member_years  user_cluster  \n",
       "0                   1.21             2  \n",
       "1                   1.21             2  \n",
       "2                   1.21             2  \n",
       "3                   1.21             2  \n",
       "4                   0.98             0  \n",
       "...                  ...           ...  \n",
       "63283               0.44             3  \n",
       "63284               0.96             0  \n",
       "63285               1.15             0  \n",
       "63286               1.77             3  \n",
       "63287               2.88             1  \n",
       "\n",
       "[63288 rows x 8 columns]"
      ]
     },
     "execution_count": 6,
     "metadata": {},
     "output_type": "execute_result"
    }
   ],
   "source": [
    "# Transações\n",
    "\n",
    "user_offer_df.columns\n",
    "transactions_df = user_offer_df[['offer_id_rec','tra_offer_infl', 'offer_type', 'gender',\n",
    "       'age', 'income', 'rela_member_years', 'user_cluster']]\n",
    "\n",
    "transactions_df"
   ]
  },
  {
   "cell_type": "markdown",
   "metadata": {},
   "source": [
    "### Modeling data"
   ]
  },
  {
   "cell_type": "markdown",
   "metadata": {},
   "source": [
    "#### Complete Rate"
   ]
  },
  {
   "cell_type": "markdown",
   "metadata": {},
   "source": [
    "##### Data Preparation"
   ]
  },
  {
   "cell_type": "code",
   "execution_count": 7,
   "metadata": {},
   "outputs": [
    {
     "data": {
      "text/plain": [
       "0.0    42247\n",
       "1.0    21041\n",
       "Name: completed_after_view_rate, dtype: int64"
      ]
     },
     "execution_count": 7,
     "metadata": {},
     "output_type": "execute_result"
    }
   ],
   "source": [
    "user_offer_df.loc[user_offer_df.completed_after_view_rate > 0, 'completed_after_view_rate'] = 1 \n",
    "\n",
    "user_offer_df['completed_after_view_rate'].value_counts()\n",
    "# Classes balanceadas"
   ]
  },
  {
   "cell_type": "code",
   "execution_count": 8,
   "metadata": {},
   "outputs": [],
   "source": [
    "# Duas abordagens\n",
    "# Uma para a taxa de completas\n",
    "# Outra para transação\n",
    "# Separar os datasets para cada assunto\n",
    "\n",
    "# 'offer_id_rec' - use to indtify the offer id\n",
    "# 'user_id' - use to indtify the user id, not use in modeling\n",
    "# 'valid_view_rate' - not use, since is built-in na taxa de completos\n",
    "# 'completed_after_view_rate' - main variable\n",
    "# 'tra_offer_infl' - not use for the first attempt\n",
    "# 'offer_type' - dummy varible\n",
    "# 'gender' - dummy varible\n",
    "# 'age' - continuos variable, use\n",
    "# 'income' - continuos variable, use\n",
    "# 'rela_member_years' - - continuos variable, use\n",
    "# 'user_cluster' - dummy variable\n",
    "# 'age_quartile' - not use quartile groups in modeling\n",
    "# 'income_quartile' - not use quartile groups in modeling\n",
    "# 'member_years_quartile' - not use quartile groups in modeling\n",
    "\n",
    "\n",
    "complete_df = user_offer_df[['offer_id_rec', 'completed_after_view_rate', \n",
    "    'offer_type', 'gender', 'age', 'income', 'rela_member_years', 'user_cluster']]\n",
    "\n",
    "# Para completar, informational não tem completar\n",
    "complete_df = complete_df.loc[complete_df['offer_type']!='informational']\n"
   ]
  },
  {
   "cell_type": "markdown",
   "metadata": {},
   "source": [
    "##### Split dataset"
   ]
  },
  {
   "cell_type": "code",
   "execution_count": 9,
   "metadata": {},
   "outputs": [],
   "source": [
    "# Target features and others\n",
    "y = complete_df['completed_after_view_rate'] # target\n",
    "X = complete_df.drop(columns='completed_after_view_rate') # features\n",
    "\n",
    "# Split data into training and testing datasets\n",
    "X_train, X_test, y_train, y_test = train_test_split(X, y, test_size=0.3)"
   ]
  },
  {
   "cell_type": "markdown",
   "metadata": {},
   "source": [
    "##### Train"
   ]
  },
  {
   "cell_type": "code",
   "execution_count": 10,
   "metadata": {},
   "outputs": [
    {
     "data": {
      "text/plain": [
       "Pipeline(steps=[('tranformer',\n",
       "                 ColumnTransformer(transformers=[('standardscaler',\n",
       "                                                  StandardScaler(),\n",
       "                                                  <sklearn.compose._column_transformer.make_column_selector object at 0x00000119BF8B90A0>),\n",
       "                                                 ('onehotencoder',\n",
       "                                                  OneHotEncoder(dtype='int',\n",
       "                                                                handle_unknown='ignore',\n",
       "                                                                sparse=False),\n",
       "                                                  <sklearn.compose._column_transformer.make_column_selector object at 0x00000119BF8B94C0>)])),\n",
       "                ('classifier',\n",
       "                 DecisionTreeClassifier(class_weight='balanced'))])"
      ]
     },
     "execution_count": 10,
     "metadata": {},
     "output_type": "execute_result"
    }
   ],
   "source": [
    "# Create a pipeline\n",
    "\n",
    "# Transformer\n",
    "# For Age, Income and Time as Member use a scaler (z score)\n",
    "sca = StandardScaler()\n",
    "# For categorical columns, as offer id, offer type, user cluster and gender\n",
    "# user one hot encoder to create dummy variables.\n",
    "encoder = OneHotEncoder(sparse=False, dtype='int',handle_unknown='ignore')\n",
    "\n",
    "# Classifier\n",
    "# Use Decision Tree to fit data. Class weight is set to balanced to\n",
    "# balance the size of each class in dataset.\n",
    "clf = DecisionTreeClassifier(class_weight='balanced')\n",
    "\n",
    "\n",
    "# Column Transformer chain, since the columns will receive different\n",
    "# transformations. For numeric columns, the type is float64.\n",
    "transformers = make_column_transformer( \n",
    "    (sca, make_column_selector(dtype_include=np.float64)),\n",
    "    (encoder, make_column_selector(dtype_exclude=np.float64))\n",
    ")\n",
    "\n",
    "# Pipeline\n",
    "model = Pipeline(\n",
    "    [\n",
    "        ('tranformer', transformers),\n",
    "        ('classifier', clf)\n",
    "    ]\n",
    ")\n",
    "\n",
    "# Fit model to train data\n",
    "model.fit(X_train, y_train)"
   ]
  },
  {
   "cell_type": "markdown",
   "metadata": {},
   "source": [
    "##### Test"
   ]
  },
  {
   "cell_type": "code",
   "execution_count": 11,
   "metadata": {},
   "outputs": [
    {
     "name": "stdout",
     "output_type": "stream",
     "text": [
      "Perfomance with Train\n",
      "\n",
      "              precision    recall  f1-score   support\n",
      "\n",
      "         0.0       0.99      0.99      0.99     20681\n",
      "         1.0       0.99      0.99      0.99     14764\n",
      "\n",
      "    accuracy                           0.99     35445\n",
      "   macro avg       0.99      0.99      0.99     35445\n",
      "weighted avg       0.99      0.99      0.99     35445\n",
      "\n"
     ]
    },
    {
     "data": {
      "image/png": "[encoded data removed]",
      "text/plain": [
       "<Figure size 576x396 with 2 Axes>"
      ]
     },
     "metadata": {},
     "output_type": "display_data"
    },
    {
     "name": "stdout",
     "output_type": "stream",
     "text": [
      "Perfomance with Test\n",
      "\n",
      "              precision    recall  f1-score   support\n",
      "\n",
      "         0.0       0.69      0.69      0.69      8915\n",
      "         1.0       0.56      0.57      0.56      6277\n",
      "\n",
      "    accuracy                           0.64     15192\n",
      "   macro avg       0.63      0.63      0.63     15192\n",
      "weighted avg       0.64      0.64      0.64     15192\n",
      "\n"
     ]
    },
    {
     "data": {
      "image/png": "[encoded data removed]",
      "text/plain": [
       "<Figure size 576x396 with 2 Axes>"
      ]
     },
     "metadata": {},
     "output_type": "display_data"
    }
   ],
   "source": [
    "# Evaluation of results\n",
    "aux_fun.evaluate_model(model, X_train=X_train, y_train=y_train,\n",
    "    X_test=X_test, y_test=y_test)"
   ]
  },
  {
   "cell_type": "markdown",
   "metadata": {},
   "source": [
    "Overfitting com dados de treinamento."
   ]
  },
  {
   "cell_type": "markdown",
   "metadata": {},
   "source": [
    "Baseado no recall, tentar otimizar essa métrica modificando a profundidada da árvore"
   ]
  },
  {
   "cell_type": "markdown",
   "metadata": {},
   "source": [
    "GridSearch para achar os melhores parâmetros para o modelo"
   ]
  },
  {
   "cell_type": "code",
   "execution_count": 12,
   "metadata": {},
   "outputs": [
    {
     "data": {
      "text/plain": [
       "{'memory': None,\n",
       " 'steps': [('tranformer',\n",
       "   ColumnTransformer(transformers=[('standardscaler', StandardScaler(),\n",
       "                                    <sklearn.compose._column_transformer.make_column_selector object at 0x00000119BF8B90A0>),\n",
       "                                   ('onehotencoder',\n",
       "                                    OneHotEncoder(dtype='int',\n",
       "                                                  handle_unknown='ignore',\n",
       "                                                  sparse=False),\n",
       "                                    <sklearn.compose._column_transformer.make_column_selector object at 0x00000119BF8B94C0>)])),\n",
       "  ('classifier', DecisionTreeClassifier(class_weight='balanced'))],\n",
       " 'verbose': False,\n",
       " 'tranformer': ColumnTransformer(transformers=[('standardscaler', StandardScaler(),\n",
       "                                  <sklearn.compose._column_transformer.make_column_selector object at 0x00000119BF8B90A0>),\n",
       "                                 ('onehotencoder',\n",
       "                                  OneHotEncoder(dtype='int',\n",
       "                                                handle_unknown='ignore',\n",
       "                                                sparse=False),\n",
       "                                  <sklearn.compose._column_transformer.make_column_selector object at 0x00000119BF8B94C0>)]),\n",
       " 'classifier': DecisionTreeClassifier(class_weight='balanced'),\n",
       " 'tranformer__n_jobs': None,\n",
       " 'tranformer__remainder': 'drop',\n",
       " 'tranformer__sparse_threshold': 0.3,\n",
       " 'tranformer__transformer_weights': None,\n",
       " 'tranformer__transformers': [('standardscaler',\n",
       "   StandardScaler(),\n",
       "   <sklearn.compose._column_transformer.make_column_selector at 0x119bf8b90a0>),\n",
       "  ('onehotencoder',\n",
       "   OneHotEncoder(dtype='int', handle_unknown='ignore', sparse=False),\n",
       "   <sklearn.compose._column_transformer.make_column_selector at 0x119bf8b94c0>)],\n",
       " 'tranformer__verbose': False,\n",
       " 'tranformer__verbose_feature_names_out': True,\n",
       " 'tranformer__standardscaler': StandardScaler(),\n",
       " 'tranformer__onehotencoder': OneHotEncoder(dtype='int', handle_unknown='ignore', sparse=False),\n",
       " 'tranformer__standardscaler__copy': True,\n",
       " 'tranformer__standardscaler__with_mean': True,\n",
       " 'tranformer__standardscaler__with_std': True,\n",
       " 'tranformer__onehotencoder__categories': 'auto',\n",
       " 'tranformer__onehotencoder__drop': None,\n",
       " 'tranformer__onehotencoder__dtype': 'int',\n",
       " 'tranformer__onehotencoder__handle_unknown': 'ignore',\n",
       " 'tranformer__onehotencoder__sparse': False,\n",
       " 'classifier__ccp_alpha': 0.0,\n",
       " 'classifier__class_weight': 'balanced',\n",
       " 'classifier__criterion': 'gini',\n",
       " 'classifier__max_depth': None,\n",
       " 'classifier__max_features': None,\n",
       " 'classifier__max_leaf_nodes': None,\n",
       " 'classifier__min_impurity_decrease': 0.0,\n",
       " 'classifier__min_samples_leaf': 1,\n",
       " 'classifier__min_samples_split': 2,\n",
       " 'classifier__min_weight_fraction_leaf': 0.0,\n",
       " 'classifier__random_state': None,\n",
       " 'classifier__splitter': 'best'}"
      ]
     },
     "execution_count": 12,
     "metadata": {},
     "output_type": "execute_result"
    }
   ],
   "source": [
    "# Get params names\n",
    "model.get_params()"
   ]
  },
  {
   "cell_type": "code",
   "execution_count": 13,
   "metadata": {},
   "outputs": [],
   "source": [
    "# Usar gridsearch para procurar a melhor profundidade da árvore\n",
    "params_grid = {\n",
    "    'classifier__max_depth':range(5,40), \n",
    "    'classifier__criterion': ['gini', 'entropy']    \n",
    "}\n",
    "\n",
    "# GridSearch\n",
    "pipeline_gs = GridSearchCV(model, params_grid, scoring='recall_micro')\n",
    "\n",
    "# Fit\n",
    "pipeline_gs.fit(X_train, y_train)\n",
    "\n",
    "# Best result\n",
    "model_gs = pipeline_gs.best_estimator_"
   ]
  },
  {
   "cell_type": "code",
   "execution_count": 14,
   "metadata": {},
   "outputs": [
    {
     "name": "stdout",
     "output_type": "stream",
     "text": [
      "Perfomance with Train\n",
      "\n",
      "              precision    recall  f1-score   support\n",
      "\n",
      "         0.0       0.78      0.71      0.74     20681\n",
      "         1.0       0.64      0.72      0.68     14764\n",
      "\n",
      "    accuracy                           0.71     35445\n",
      "   macro avg       0.71      0.71      0.71     35445\n",
      "weighted avg       0.72      0.71      0.72     35445\n",
      "\n"
     ]
    },
    {
     "data": {
      "image/png": "[encoded data removed]",
      "text/plain": [
       "<Figure size 576x396 with 2 Axes>"
      ]
     },
     "metadata": {},
     "output_type": "display_data"
    },
    {
     "name": "stdout",
     "output_type": "stream",
     "text": [
      "Perfomance with Test\n",
      "\n",
      "              precision    recall  f1-score   support\n",
      "\n",
      "         0.0       0.77      0.71      0.74      8915\n",
      "         1.0       0.63      0.71      0.67      6277\n",
      "\n",
      "    accuracy                           0.71     15192\n",
      "   macro avg       0.70      0.71      0.70     15192\n",
      "weighted avg       0.71      0.71      0.71     15192\n",
      "\n"
     ]
    },
    {
     "data": {
      "image/png": "[encoded data removed]",
      "text/plain": [
       "<Figure size 576x396 with 2 Axes>"
      ]
     },
     "metadata": {},
     "output_type": "display_data"
    }
   ],
   "source": [
    "# Evaluate the grid serach best model\n",
    "aux_fun.evaluate_model(model_gs, X_train=X_train, y_train=y_train,\n",
    "    X_test=X_test, y_test=y_test)"
   ]
  },
  {
   "cell_type": "markdown",
   "metadata": {},
   "source": [
    "Recall melhor, porém, ainda não ideal"
   ]
  },
  {
   "cell_type": "markdown",
   "metadata": {},
   "source": [
    "Recall é a melhor métrica para avaliar, pois compara os valores ao que é visto na realidade."
   ]
  },
  {
   "cell_type": "markdown",
   "metadata": {},
   "source": [
    "##### Evaluation"
   ]
  },
  {
   "cell_type": "markdown",
   "metadata": {},
   "source": [
    "Avaliando as imporâncias das variáveis na previsão"
   ]
  },
  {
   "cell_type": "code",
   "execution_count": 15,
   "metadata": {},
   "outputs": [
    {
     "data": {
      "text/plain": [
       "Pipeline(steps=[('tranformer',\n",
       "                 ColumnTransformer(transformers=[('standardscaler',\n",
       "                                                  StandardScaler(),\n",
       "                                                  <sklearn.compose._column_transformer.make_column_selector object at 0x00000119C05E6D90>),\n",
       "                                                 ('onehotencoder',\n",
       "                                                  OneHotEncoder(dtype='int',\n",
       "                                                                handle_unknown='ignore',\n",
       "                                                                sparse=False),\n",
       "                                                  <sklearn.compose._column_transformer.make_column_selector object at 0x00000119C05E64F0>)])),\n",
       "                ('classifier',\n",
       "                 DecisionTreeClassifier(class_weight='balanced',\n",
       "                                        criterion='entropy', max_depth=9))])"
      ]
     },
     "execution_count": 15,
     "metadata": {},
     "output_type": "execute_result"
    }
   ],
   "source": [
    "model_gs"
   ]
  },
  {
   "cell_type": "code",
   "execution_count": 16,
   "metadata": {},
   "outputs": [
    {
     "data": {
      "text/html": [
       "<div>\n",
       "<style scoped>\n",
       "    .dataframe tbody tr th:only-of-type {\n",
       "        vertical-align: middle;\n",
       "    }\n",
       "\n",
       "    .dataframe tbody tr th {\n",
       "        vertical-align: top;\n",
       "    }\n",
       "\n",
       "    .dataframe thead th {\n",
       "        text-align: right;\n",
       "    }\n",
       "</style>\n",
       "<table border=\"1\" class=\"dataframe\">\n",
       "  <thead>\n",
       "    <tr style=\"text-align: right;\">\n",
       "      <th></th>\n",
       "      <th>Variable</th>\n",
       "      <th>Importance</th>\n",
       "    </tr>\n",
       "  </thead>\n",
       "  <tbody>\n",
       "    <tr>\n",
       "      <th>2</th>\n",
       "      <td>rela_member_years</td>\n",
       "      <td>0.287038</td>\n",
       "    </tr>\n",
       "    <tr>\n",
       "      <th>15</th>\n",
       "      <td>gender_NI</td>\n",
       "      <td>0.173956</td>\n",
       "    </tr>\n",
       "    <tr>\n",
       "      <th>6</th>\n",
       "      <td>offer_id_rec_4</td>\n",
       "      <td>0.106109</td>\n",
       "    </tr>\n",
       "    <tr>\n",
       "      <th>1</th>\n",
       "      <td>income</td>\n",
       "      <td>0.101912</td>\n",
       "    </tr>\n",
       "    <tr>\n",
       "      <th>8</th>\n",
       "      <td>offer_id_rec_6</td>\n",
       "      <td>0.091850</td>\n",
       "    </tr>\n",
       "    <tr>\n",
       "      <th>7</th>\n",
       "      <td>offer_id_rec_5</td>\n",
       "      <td>0.087150</td>\n",
       "    </tr>\n",
       "    <tr>\n",
       "      <th>9</th>\n",
       "      <td>offer_id_rec_8</td>\n",
       "      <td>0.044110</td>\n",
       "    </tr>\n",
       "    <tr>\n",
       "      <th>0</th>\n",
       "      <td>age</td>\n",
       "      <td>0.032174</td>\n",
       "    </tr>\n",
       "    <tr>\n",
       "      <th>14</th>\n",
       "      <td>gender_M</td>\n",
       "      <td>0.027514</td>\n",
       "    </tr>\n",
       "    <tr>\n",
       "      <th>10</th>\n",
       "      <td>offer_id_rec_9</td>\n",
       "      <td>0.012658</td>\n",
       "    </tr>\n",
       "    <tr>\n",
       "      <th>5</th>\n",
       "      <td>offer_id_rec_3</td>\n",
       "      <td>0.011630</td>\n",
       "    </tr>\n",
       "    <tr>\n",
       "      <th>4</th>\n",
       "      <td>offer_id_rec_1</td>\n",
       "      <td>0.009897</td>\n",
       "    </tr>\n",
       "    <tr>\n",
       "      <th>11</th>\n",
       "      <td>offer_type_bogo</td>\n",
       "      <td>0.004294</td>\n",
       "    </tr>\n",
       "    <tr>\n",
       "      <th>3</th>\n",
       "      <td>offer_id_rec_0</td>\n",
       "      <td>0.002807</td>\n",
       "    </tr>\n",
       "    <tr>\n",
       "      <th>12</th>\n",
       "      <td>offer_type_discount</td>\n",
       "      <td>0.001903</td>\n",
       "    </tr>\n",
       "    <tr>\n",
       "      <th>13</th>\n",
       "      <td>gender_F</td>\n",
       "      <td>0.001530</td>\n",
       "    </tr>\n",
       "    <tr>\n",
       "      <th>20</th>\n",
       "      <td>user_cluster_3</td>\n",
       "      <td>0.001452</td>\n",
       "    </tr>\n",
       "    <tr>\n",
       "      <th>16</th>\n",
       "      <td>gender_O</td>\n",
       "      <td>0.001299</td>\n",
       "    </tr>\n",
       "    <tr>\n",
       "      <th>17</th>\n",
       "      <td>user_cluster_0</td>\n",
       "      <td>0.000468</td>\n",
       "    </tr>\n",
       "    <tr>\n",
       "      <th>19</th>\n",
       "      <td>user_cluster_2</td>\n",
       "      <td>0.000248</td>\n",
       "    </tr>\n",
       "    <tr>\n",
       "      <th>18</th>\n",
       "      <td>user_cluster_1</td>\n",
       "      <td>0.000000</td>\n",
       "    </tr>\n",
       "  </tbody>\n",
       "</table>\n",
       "</div>"
      ],
      "text/plain": [
       "               Variable  Importance\n",
       "2     rela_member_years    0.287038\n",
       "15            gender_NI    0.173956\n",
       "6        offer_id_rec_4    0.106109\n",
       "1                income    0.101912\n",
       "8        offer_id_rec_6    0.091850\n",
       "7        offer_id_rec_5    0.087150\n",
       "9        offer_id_rec_8    0.044110\n",
       "0                   age    0.032174\n",
       "14             gender_M    0.027514\n",
       "10       offer_id_rec_9    0.012658\n",
       "5        offer_id_rec_3    0.011630\n",
       "4        offer_id_rec_1    0.009897\n",
       "11      offer_type_bogo    0.004294\n",
       "3        offer_id_rec_0    0.002807\n",
       "12  offer_type_discount    0.001903\n",
       "13             gender_F    0.001530\n",
       "20       user_cluster_3    0.001452\n",
       "16             gender_O    0.001299\n",
       "17       user_cluster_0    0.000468\n",
       "19       user_cluster_2    0.000248\n",
       "18       user_cluster_1    0.000000"
      ]
     },
     "execution_count": 16,
     "metadata": {},
     "output_type": "execute_result"
    }
   ],
   "source": [
    "# Olhando a importancia de cada variável na classificação\n",
    "def create_df_feature_importances(model):\n",
    "    '''\n",
    "    TODO\n",
    "    '''\n",
    "    df_feature = pd.DataFrame()\n",
    "    df_feature['Variable'] = model.named_steps['tranformer'].get_feature_names_out()\n",
    "    df_feature['Variable'] = df_feature['Variable'].map(lambda n: n.split('__')[1])\n",
    "    \n",
    "    df_feature['Importance'] = model.named_steps['classifier'].feature_importances_\n",
    "    return df_feature\n",
    "\n",
    "create_df_feature_importances(model_gs).sort_values('Importance', ascending=False)"
   ]
  },
  {
   "cell_type": "code",
   "execution_count": 17,
   "metadata": {},
   "outputs": [
    {
     "data": {
      "image/png": "[encoded data removed]",
      "text/plain": [
       "<Figure size 2160x720 with 1 Axes>"
      ]
     },
     "metadata": {},
     "output_type": "display_data"
    }
   ],
   "source": [
    "# Visualizando a árvore\n",
    "\n",
    "named_variables =  model.named_steps['tranformer'].get_feature_names_out()\n",
    "named_variables = [ name.split('__')[1] for name in named_variables]\n",
    "\n",
    "clf_tree = model.named_steps['classifier']\n",
    "\n",
    "plt.figure(figsize=(30,10))\n",
    "\n",
    "\n",
    "plot_tree(clf_tree, max_depth=2, feature_names=named_variables, filled=True)\n",
    "plt.show()"
   ]
  },
  {
   "cell_type": "markdown",
   "metadata": {},
   "source": [
    "A falta de informações (gender == NI) impacta no modelo, sendo um ponto de divisão para os dados."
   ]
  },
  {
   "cell_type": "code",
   "execution_count": 18,
   "metadata": {},
   "outputs": [],
   "source": [
    "model_completation = model_gs"
   ]
  },
  {
   "cell_type": "markdown",
   "metadata": {},
   "source": [
    "Como usar esse modelo"
   ]
  },
  {
   "cell_type": "markdown",
   "metadata": {},
   "source": [
    "##### Deployment"
   ]
  },
  {
   "cell_type": "code",
   "execution_count": 19,
   "metadata": {},
   "outputs": [
    {
     "data": {
      "text/html": [
       "<div>\n",
       "<style scoped>\n",
       "    .dataframe tbody tr th:only-of-type {\n",
       "        vertical-align: middle;\n",
       "    }\n",
       "\n",
       "    .dataframe tbody tr th {\n",
       "        vertical-align: top;\n",
       "    }\n",
       "\n",
       "    .dataframe thead th {\n",
       "        text-align: right;\n",
       "    }\n",
       "</style>\n",
       "<table border=\"1\" class=\"dataframe\">\n",
       "  <thead>\n",
       "    <tr style=\"text-align: right;\">\n",
       "      <th></th>\n",
       "      <th>offer_id_rec</th>\n",
       "      <th>offer_type</th>\n",
       "      <th>gender</th>\n",
       "      <th>age</th>\n",
       "      <th>income</th>\n",
       "      <th>rela_member_years</th>\n",
       "      <th>user_cluster</th>\n",
       "    </tr>\n",
       "  </thead>\n",
       "  <tbody>\n",
       "    <tr>\n",
       "      <th>21298</th>\n",
       "      <td>8</td>\n",
       "      <td>bogo</td>\n",
       "      <td>F</td>\n",
       "      <td>76.0</td>\n",
       "      <td>33000.0</td>\n",
       "      <td>2.02</td>\n",
       "      <td>1</td>\n",
       "    </tr>\n",
       "    <tr>\n",
       "      <th>49277</th>\n",
       "      <td>1</td>\n",
       "      <td>bogo</td>\n",
       "      <td>F</td>\n",
       "      <td>31.0</td>\n",
       "      <td>53000.0</td>\n",
       "      <td>1.72</td>\n",
       "      <td>3</td>\n",
       "    </tr>\n",
       "    <tr>\n",
       "      <th>53884</th>\n",
       "      <td>4</td>\n",
       "      <td>discount</td>\n",
       "      <td>F</td>\n",
       "      <td>61.0</td>\n",
       "      <td>82000.0</td>\n",
       "      <td>0.22</td>\n",
       "      <td>0</td>\n",
       "    </tr>\n",
       "    <tr>\n",
       "      <th>12250</th>\n",
       "      <td>3</td>\n",
       "      <td>bogo</td>\n",
       "      <td>O</td>\n",
       "      <td>59.0</td>\n",
       "      <td>48000.0</td>\n",
       "      <td>2.97</td>\n",
       "      <td>1</td>\n",
       "    </tr>\n",
       "    <tr>\n",
       "      <th>19734</th>\n",
       "      <td>5</td>\n",
       "      <td>discount</td>\n",
       "      <td>M</td>\n",
       "      <td>55.0</td>\n",
       "      <td>109000.0</td>\n",
       "      <td>2.36</td>\n",
       "      <td>2</td>\n",
       "    </tr>\n",
       "    <tr>\n",
       "      <th>...</th>\n",
       "      <td>...</td>\n",
       "      <td>...</td>\n",
       "      <td>...</td>\n",
       "      <td>...</td>\n",
       "      <td>...</td>\n",
       "      <td>...</td>\n",
       "      <td>...</td>\n",
       "    </tr>\n",
       "    <tr>\n",
       "      <th>41491</th>\n",
       "      <td>5</td>\n",
       "      <td>discount</td>\n",
       "      <td>F</td>\n",
       "      <td>60.0</td>\n",
       "      <td>77000.0</td>\n",
       "      <td>0.36</td>\n",
       "      <td>0</td>\n",
       "    </tr>\n",
       "    <tr>\n",
       "      <th>28113</th>\n",
       "      <td>0</td>\n",
       "      <td>bogo</td>\n",
       "      <td>M</td>\n",
       "      <td>44.0</td>\n",
       "      <td>73000.0</td>\n",
       "      <td>0.68</td>\n",
       "      <td>0</td>\n",
       "    </tr>\n",
       "    <tr>\n",
       "      <th>2837</th>\n",
       "      <td>4</td>\n",
       "      <td>discount</td>\n",
       "      <td>M</td>\n",
       "      <td>82.0</td>\n",
       "      <td>60000.0</td>\n",
       "      <td>4.55</td>\n",
       "      <td>1</td>\n",
       "    </tr>\n",
       "    <tr>\n",
       "      <th>25369</th>\n",
       "      <td>3</td>\n",
       "      <td>bogo</td>\n",
       "      <td>O</td>\n",
       "      <td>60.0</td>\n",
       "      <td>94000.0</td>\n",
       "      <td>0.44</td>\n",
       "      <td>2</td>\n",
       "    </tr>\n",
       "    <tr>\n",
       "      <th>38423</th>\n",
       "      <td>3</td>\n",
       "      <td>bogo</td>\n",
       "      <td>M</td>\n",
       "      <td>52.0</td>\n",
       "      <td>50000.0</td>\n",
       "      <td>1.99</td>\n",
       "      <td>1</td>\n",
       "    </tr>\n",
       "  </tbody>\n",
       "</table>\n",
       "<p>35445 rows × 7 columns</p>\n",
       "</div>"
      ],
      "text/plain": [
       "       offer_id_rec offer_type gender   age    income  rela_member_years  \\\n",
       "21298             8       bogo      F  76.0   33000.0               2.02   \n",
       "49277             1       bogo      F  31.0   53000.0               1.72   \n",
       "53884             4   discount      F  61.0   82000.0               0.22   \n",
       "12250             3       bogo      O  59.0   48000.0               2.97   \n",
       "19734             5   discount      M  55.0  109000.0               2.36   \n",
       "...             ...        ...    ...   ...       ...                ...   \n",
       "41491             5   discount      F  60.0   77000.0               0.36   \n",
       "28113             0       bogo      M  44.0   73000.0               0.68   \n",
       "2837              4   discount      M  82.0   60000.0               4.55   \n",
       "25369             3       bogo      O  60.0   94000.0               0.44   \n",
       "38423             3       bogo      M  52.0   50000.0               1.99   \n",
       "\n",
       "       user_cluster  \n",
       "21298             1  \n",
       "49277             3  \n",
       "53884             0  \n",
       "12250             1  \n",
       "19734             2  \n",
       "...             ...  \n",
       "41491             0  \n",
       "28113             0  \n",
       "2837              1  \n",
       "25369             2  \n",
       "38423             1  \n",
       "\n",
       "[35445 rows x 7 columns]"
      ]
     },
     "execution_count": 19,
     "metadata": {},
     "output_type": "execute_result"
    }
   ],
   "source": [
    "X_train"
   ]
  },
  {
   "cell_type": "code",
   "execution_count": 20,
   "metadata": {},
   "outputs": [
    {
     "name": "stdout",
     "output_type": "stream",
     "text": [
      "['Offer 6 - discount']\n",
      "['Offer 0 - bogo', 'Offer 1 - bogo', 'Offer 3 - bogo', 'Offer 5 - discount', 'Offer 6 - discount', 'Offer 8 - bogo', 'Offer 9 - discount']\n",
      "[]\n",
      "['Offer 0 - bogo', 'Offer 1 - bogo', 'Offer 3 - bogo', 'Offer 5 - discount', 'Offer 6 - discount', 'Offer 8 - bogo', 'Offer 9 - discount']\n",
      "[]\n",
      "['Offer 6 - discount']\n",
      "[]\n",
      "[]\n",
      "['Offer 5 - discount', 'Offer 6 - discount']\n",
      "['Offer 6 - discount']\n",
      "[]\n",
      "['Offer 5 - discount', 'Offer 6 - discount']\n",
      "['Offer 5 - discount', 'Offer 6 - discount']\n",
      "['Offer 0 - bogo', 'Offer 1 - bogo', 'Offer 5 - discount', 'Offer 6 - discount', 'Offer 8 - bogo']\n",
      "['Offer 5 - discount', 'Offer 6 - discount', 'Offer 8 - bogo']\n",
      "['Offer 0 - bogo', 'Offer 1 - bogo', 'Offer 3 - bogo', 'Offer 5 - discount', 'Offer 6 - discount', 'Offer 8 - bogo', 'Offer 9 - discount']\n",
      "['Offer 0 - bogo', 'Offer 3 - bogo', 'Offer 4 - discount', 'Offer 5 - discount', 'Offer 6 - discount', 'Offer 8 - bogo', 'Offer 9 - discount']\n",
      "[]\n",
      "['Offer 5 - discount', 'Offer 6 - discount']\n",
      "['Offer 5 - discount', 'Offer 6 - discount']\n",
      "['Offer 0 - bogo', 'Offer 1 - bogo', 'Offer 3 - bogo', 'Offer 5 - discount', 'Offer 6 - discount', 'Offer 8 - bogo', 'Offer 9 - discount']\n",
      "['Offer 0 - bogo', 'Offer 1 - bogo', 'Offer 3 - bogo', 'Offer 5 - discount', 'Offer 6 - discount', 'Offer 8 - bogo', 'Offer 9 - discount']\n",
      "['Offer 0 - bogo', 'Offer 1 - bogo', 'Offer 3 - bogo', 'Offer 5 - discount', 'Offer 6 - discount', 'Offer 8 - bogo', 'Offer 9 - discount']\n",
      "[]\n",
      "['Offer 0 - bogo', 'Offer 3 - bogo', 'Offer 5 - discount', 'Offer 6 - discount', 'Offer 8 - bogo', 'Offer 9 - discount']\n",
      "['Offer 5 - discount', 'Offer 6 - discount']\n",
      "['Offer 6 - discount']\n",
      "['Offer 0 - bogo', 'Offer 1 - bogo', 'Offer 5 - discount', 'Offer 6 - discount', 'Offer 8 - bogo']\n",
      "['Offer 0 - bogo', 'Offer 1 - bogo', 'Offer 5 - discount', 'Offer 6 - discount', 'Offer 8 - bogo']\n",
      "['Offer 5 - discount', 'Offer 6 - discount']\n",
      "['Offer 0 - bogo', 'Offer 3 - bogo', 'Offer 5 - discount', 'Offer 6 - discount', 'Offer 8 - bogo', 'Offer 9 - discount']\n",
      "['Offer 0 - bogo', 'Offer 1 - bogo', 'Offer 4 - discount', 'Offer 5 - discount', 'Offer 6 - discount', 'Offer 8 - bogo']\n",
      "['Offer 5 - discount', 'Offer 6 - discount']\n",
      "['Offer 0 - bogo', 'Offer 1 - bogo', 'Offer 5 - discount', 'Offer 6 - discount', 'Offer 8 - bogo']\n",
      "['Offer 0 - bogo', 'Offer 5 - discount', 'Offer 6 - discount', 'Offer 8 - bogo']\n",
      "['Offer 0 - bogo', 'Offer 1 - bogo', 'Offer 3 - bogo', 'Offer 5 - discount', 'Offer 6 - discount', 'Offer 8 - bogo', 'Offer 9 - discount']\n",
      "[]\n",
      "['Offer 0 - bogo', 'Offer 3 - bogo', 'Offer 5 - discount', 'Offer 6 - discount', 'Offer 8 - bogo', 'Offer 9 - discount']\n",
      "['Offer 0 - bogo', 'Offer 1 - bogo', 'Offer 5 - discount', 'Offer 6 - discount', 'Offer 8 - bogo']\n",
      "[]\n",
      "['Offer 0 - bogo', 'Offer 5 - discount', 'Offer 6 - discount', 'Offer 8 - bogo']\n",
      "['Offer 0 - bogo', 'Offer 5 - discount', 'Offer 6 - discount', 'Offer 8 - bogo']\n",
      "[]\n",
      "['Offer 0 - bogo', 'Offer 1 - bogo', 'Offer 3 - bogo', 'Offer 5 - discount', 'Offer 6 - discount', 'Offer 8 - bogo', 'Offer 9 - discount']\n",
      "['Offer 6 - discount', 'Offer 8 - bogo']\n",
      "['Offer 6 - discount']\n",
      "['Offer 5 - discount', 'Offer 6 - discount', 'Offer 8 - bogo']\n",
      "['Offer 0 - bogo', 'Offer 1 - bogo', 'Offer 3 - bogo', 'Offer 5 - discount', 'Offer 6 - discount', 'Offer 8 - bogo', 'Offer 9 - discount']\n",
      "['Offer 0 - bogo', 'Offer 3 - bogo', 'Offer 4 - discount', 'Offer 5 - discount', 'Offer 6 - discount', 'Offer 8 - bogo', 'Offer 9 - discount']\n",
      "['Offer 0 - bogo', 'Offer 5 - discount', 'Offer 6 - discount', 'Offer 8 - bogo']\n",
      "['Offer 5 - discount', 'Offer 6 - discount']\n",
      "['Offer 5 - discount', 'Offer 6 - discount']\n",
      "['Offer 0 - bogo', 'Offer 1 - bogo', 'Offer 3 - bogo', 'Offer 5 - discount', 'Offer 6 - discount', 'Offer 8 - bogo', 'Offer 9 - discount']\n",
      "['Offer 0 - bogo', 'Offer 3 - bogo', 'Offer 4 - discount', 'Offer 5 - discount', 'Offer 6 - discount', 'Offer 8 - bogo', 'Offer 9 - discount']\n",
      "[]\n",
      "['Offer 0 - bogo', 'Offer 1 - bogo', 'Offer 3 - bogo', 'Offer 4 - discount', 'Offer 5 - discount', 'Offer 6 - discount', 'Offer 8 - bogo', 'Offer 9 - discount']\n",
      "[]\n",
      "['Offer 5 - discount', 'Offer 6 - discount']\n",
      "['Offer 0 - bogo', 'Offer 1 - bogo', 'Offer 3 - bogo', 'Offer 5 - discount', 'Offer 6 - discount', 'Offer 8 - bogo', 'Offer 9 - discount']\n",
      "['Offer 5 - discount', 'Offer 6 - discount']\n",
      "['Offer 1 - bogo', 'Offer 5 - discount', 'Offer 6 - discount', 'Offer 8 - bogo']\n",
      "['Offer 5 - discount', 'Offer 6 - discount']\n",
      "[]\n",
      "['Offer 5 - discount', 'Offer 6 - discount']\n",
      "['Offer 5 - discount', 'Offer 6 - discount']\n",
      "['Offer 0 - bogo', 'Offer 1 - bogo', 'Offer 3 - bogo', 'Offer 5 - discount', 'Offer 6 - discount', 'Offer 8 - bogo', 'Offer 9 - discount']\n",
      "['Offer 0 - bogo', 'Offer 1 - bogo', 'Offer 3 - bogo', 'Offer 5 - discount', 'Offer 6 - discount', 'Offer 8 - bogo', 'Offer 9 - discount']\n",
      "['Offer 0 - bogo', 'Offer 1 - bogo', 'Offer 3 - bogo', 'Offer 5 - discount', 'Offer 6 - discount', 'Offer 8 - bogo', 'Offer 9 - discount']\n",
      "['Offer 0 - bogo', 'Offer 1 - bogo', 'Offer 3 - bogo', 'Offer 5 - discount', 'Offer 6 - discount', 'Offer 8 - bogo', 'Offer 9 - discount']\n",
      "['Offer 0 - bogo', 'Offer 3 - bogo', 'Offer 5 - discount', 'Offer 6 - discount', 'Offer 8 - bogo', 'Offer 9 - discount']\n",
      "['Offer 5 - discount', 'Offer 6 - discount']\n",
      "['Offer 0 - bogo', 'Offer 1 - bogo', 'Offer 3 - bogo', 'Offer 5 - discount', 'Offer 6 - discount', 'Offer 8 - bogo', 'Offer 9 - discount']\n",
      "['Offer 0 - bogo', 'Offer 1 - bogo', 'Offer 3 - bogo', 'Offer 5 - discount', 'Offer 6 - discount', 'Offer 8 - bogo', 'Offer 9 - discount']\n",
      "['Offer 0 - bogo', 'Offer 1 - bogo', 'Offer 5 - discount', 'Offer 6 - discount', 'Offer 8 - bogo']\n",
      "['Offer 0 - bogo', 'Offer 1 - bogo', 'Offer 5 - discount', 'Offer 6 - discount', 'Offer 8 - bogo']\n",
      "['Offer 0 - bogo', 'Offer 1 - bogo', 'Offer 3 - bogo', 'Offer 5 - discount', 'Offer 6 - discount', 'Offer 8 - bogo', 'Offer 9 - discount']\n",
      "['Offer 0 - bogo', 'Offer 1 - bogo', 'Offer 5 - discount', 'Offer 6 - discount', 'Offer 8 - bogo']\n",
      "['Offer 5 - discount', 'Offer 6 - discount']\n",
      "['Offer 5 - discount', 'Offer 6 - discount']\n",
      "['Offer 0 - bogo', 'Offer 1 - bogo', 'Offer 3 - bogo', 'Offer 5 - discount', 'Offer 6 - discount', 'Offer 8 - bogo', 'Offer 9 - discount']\n",
      "[]\n",
      "['Offer 0 - bogo', 'Offer 5 - discount', 'Offer 6 - discount', 'Offer 8 - bogo']\n",
      "['Offer 5 - discount']\n",
      "[]\n",
      "['Offer 5 - discount', 'Offer 6 - discount']\n",
      "['Offer 5 - discount', 'Offer 6 - discount']\n",
      "['Offer 0 - bogo', 'Offer 1 - bogo', 'Offer 3 - bogo', 'Offer 5 - discount', 'Offer 6 - discount', 'Offer 8 - bogo', 'Offer 9 - discount']\n",
      "['Offer 0 - bogo', 'Offer 1 - bogo', 'Offer 3 - bogo', 'Offer 5 - discount', 'Offer 6 - discount', 'Offer 8 - bogo', 'Offer 9 - discount']\n",
      "['Offer 0 - bogo', 'Offer 1 - bogo', 'Offer 3 - bogo', 'Offer 5 - discount', 'Offer 6 - discount', 'Offer 8 - bogo', 'Offer 9 - discount']\n",
      "['Offer 0 - bogo', 'Offer 1 - bogo', 'Offer 3 - bogo', 'Offer 5 - discount', 'Offer 6 - discount', 'Offer 8 - bogo', 'Offer 9 - discount']\n",
      "['Offer 3 - bogo', 'Offer 5 - discount', 'Offer 6 - discount']\n",
      "['Offer 0 - bogo', 'Offer 1 - bogo', 'Offer 3 - bogo', 'Offer 4 - discount', 'Offer 5 - discount', 'Offer 6 - discount', 'Offer 8 - bogo', 'Offer 9 - discount']\n",
      "['Offer 5 - discount', 'Offer 6 - discount']\n",
      "['Offer 0 - bogo', 'Offer 1 - bogo', 'Offer 3 - bogo', 'Offer 5 - discount', 'Offer 6 - discount', 'Offer 8 - bogo', 'Offer 9 - discount']\n",
      "['Offer 0 - bogo', 'Offer 1 - bogo', 'Offer 5 - discount', 'Offer 6 - discount', 'Offer 8 - bogo']\n",
      "['Offer 6 - discount']\n",
      "[]\n",
      "['Offer 0 - bogo', 'Offer 1 - bogo', 'Offer 3 - bogo', 'Offer 4 - discount', 'Offer 5 - discount', 'Offer 6 - discount', 'Offer 8 - bogo', 'Offer 9 - discount']\n",
      "['Offer 0 - bogo', 'Offer 1 - bogo', 'Offer 3 - bogo', 'Offer 5 - discount', 'Offer 6 - discount', 'Offer 8 - bogo', 'Offer 9 - discount']\n",
      "['Offer 0 - bogo', 'Offer 1 - bogo', 'Offer 3 - bogo', 'Offer 5 - discount', 'Offer 6 - discount', 'Offer 8 - bogo', 'Offer 9 - discount']\n"
     ]
    }
   ],
   "source": [
    "# Usar o modelo para enviar ofertas para usuários\n",
    "\n",
    "# O modelo criado pode ser utilizado para selecionar quais ofertas seriam completadas\n",
    "# a partir do perfil do usuário.\n",
    "importlib.reload(aux_fun)\n",
    "\n",
    "def best_user_offer_to_send(user, model, X):\n",
    "    # Filter user in profile\n",
    "    user_df = profile.loc[profile['user_id']==user]\n",
    "    # Select columns\n",
    "    user_df = user_df[['gender', 'age', 'income', 'rela_member_years', 'user_cluster']]\n",
    "    \n",
    "    # Criar uma simulação de entregar todas as ofertas para o usuário\n",
    "    offers_df = portfolio[['offer_id', 'offer_type']]\n",
    "    offers_df.columns = ['offer_id_rec', 'offer_type']\n",
    "    offers_df = aux_fun.expand_dataframe(user_df, offers_df)\n",
    "\n",
    "    # Garantee order of columns\n",
    "    offers_df = offers_df[X.columns]\n",
    "    # Take away intormational offers\n",
    "    offers_df = offers_df.loc[offers_df['offer_type']!='informational']\n",
    "    \n",
    "    # Predict\n",
    "    offers_df['complete_pred'] = model.predict(offers_df)\n",
    "    \n",
    "    # Filter\n",
    "    best_offers = offers_df.loc[offers_df['complete_pred'] == 1]\n",
    "\n",
    "    # Create list\n",
    "    recs = []\n",
    "    for idx, row in best_offers.iterrows():\n",
    "        recs.append( 'Offer ' + str(row['offer_id_rec']) +\\\n",
    "            ' - ' + str(row['offer_type']))\n",
    "\n",
    "    print(recs)\n",
    "    \n",
    "    return recs#best_offers\n",
    "\n",
    "for user in range(0,100):\n",
    "    best_user_offer_to_send(user, model_gs, X)\n"
   ]
  },
  {
   "cell_type": "code",
   "execution_count": 21,
   "metadata": {},
   "outputs": [
    {
     "name": "stdout",
     "output_type": "stream",
     "text": [
      "['Offer 0 - bogo', 'Offer 1 - bogo', 'Offer 3 - bogo', 'Offer 5 - discount', 'Offer 6 - discount', 'Offer 8 - bogo', 'Offer 9 - discount']\n"
     ]
    },
    {
     "data": {
      "text/plain": [
       "['Offer 0 - bogo',\n",
       " 'Offer 1 - bogo',\n",
       " 'Offer 3 - bogo',\n",
       " 'Offer 5 - discount',\n",
       " 'Offer 6 - discount',\n",
       " 'Offer 8 - bogo',\n",
       " 'Offer 9 - discount']"
      ]
     },
     "execution_count": 21,
     "metadata": {},
     "output_type": "execute_result"
    }
   ],
   "source": [
    "a = best_user_offer_to_send(1510, model_gs, X)\n",
    "a\n",
    "# a\n",
    "# model_gs.named_steps['tranformer'].transformers_[1][1].categories_"
   ]
  },
  {
   "cell_type": "markdown",
   "metadata": {},
   "source": [
    "#### Transações"
   ]
  },
  {
   "cell_type": "markdown",
   "metadata": {},
   "source": [
    "O modelo anterior pode ser combinado com um modelo de regressão para o total de transações a partir da oferta enviada para cada usuário"
   ]
  },
  {
   "cell_type": "markdown",
   "metadata": {},
   "source": [
    "##### Data preparation"
   ]
  },
  {
   "cell_type": "code",
   "execution_count": 22,
   "metadata": {},
   "outputs": [
    {
     "data": {
      "text/html": [
       "<div>\n",
       "<style scoped>\n",
       "    .dataframe tbody tr th:only-of-type {\n",
       "        vertical-align: middle;\n",
       "    }\n",
       "\n",
       "    .dataframe tbody tr th {\n",
       "        vertical-align: top;\n",
       "    }\n",
       "\n",
       "    .dataframe thead th {\n",
       "        text-align: right;\n",
       "    }\n",
       "</style>\n",
       "<table border=\"1\" class=\"dataframe\">\n",
       "  <thead>\n",
       "    <tr style=\"text-align: right;\">\n",
       "      <th></th>\n",
       "      <th>offer_id_rec</th>\n",
       "      <th>tra_offer_infl</th>\n",
       "      <th>offer_type</th>\n",
       "      <th>gender</th>\n",
       "      <th>age</th>\n",
       "      <th>income</th>\n",
       "      <th>rela_member_years</th>\n",
       "      <th>user_cluster</th>\n",
       "    </tr>\n",
       "  </thead>\n",
       "  <tbody>\n",
       "    <tr>\n",
       "      <th>0</th>\n",
       "      <td>7</td>\n",
       "      <td>49.39</td>\n",
       "      <td>informational</td>\n",
       "      <td>F</td>\n",
       "      <td>75.0</td>\n",
       "      <td>100000.0</td>\n",
       "      <td>1.21</td>\n",
       "      <td>2</td>\n",
       "    </tr>\n",
       "    <tr>\n",
       "      <th>1</th>\n",
       "      <td>3</td>\n",
       "      <td>19.89</td>\n",
       "      <td>bogo</td>\n",
       "      <td>F</td>\n",
       "      <td>75.0</td>\n",
       "      <td>100000.0</td>\n",
       "      <td>1.21</td>\n",
       "      <td>2</td>\n",
       "    </tr>\n",
       "    <tr>\n",
       "      <th>2</th>\n",
       "      <td>0</td>\n",
       "      <td>21.72</td>\n",
       "      <td>bogo</td>\n",
       "      <td>F</td>\n",
       "      <td>75.0</td>\n",
       "      <td>100000.0</td>\n",
       "      <td>1.21</td>\n",
       "      <td>2</td>\n",
       "    </tr>\n",
       "    <tr>\n",
       "      <th>3</th>\n",
       "      <td>8</td>\n",
       "      <td>0.00</td>\n",
       "      <td>bogo</td>\n",
       "      <td>F</td>\n",
       "      <td>75.0</td>\n",
       "      <td>100000.0</td>\n",
       "      <td>1.21</td>\n",
       "      <td>2</td>\n",
       "    </tr>\n",
       "    <tr>\n",
       "      <th>4</th>\n",
       "      <td>7</td>\n",
       "      <td>0.00</td>\n",
       "      <td>informational</td>\n",
       "      <td>NI</td>\n",
       "      <td>55.0</td>\n",
       "      <td>64000.0</td>\n",
       "      <td>0.98</td>\n",
       "      <td>0</td>\n",
       "    </tr>\n",
       "    <tr>\n",
       "      <th>...</th>\n",
       "      <td>...</td>\n",
       "      <td>...</td>\n",
       "      <td>...</td>\n",
       "      <td>...</td>\n",
       "      <td>...</td>\n",
       "      <td>...</td>\n",
       "      <td>...</td>\n",
       "      <td>...</td>\n",
       "    </tr>\n",
       "    <tr>\n",
       "      <th>63283</th>\n",
       "      <td>5</td>\n",
       "      <td>14.83</td>\n",
       "      <td>discount</td>\n",
       "      <td>M</td>\n",
       "      <td>21.0</td>\n",
       "      <td>45000.0</td>\n",
       "      <td>0.44</td>\n",
       "      <td>3</td>\n",
       "    </tr>\n",
       "    <tr>\n",
       "      <th>63284</th>\n",
       "      <td>5</td>\n",
       "      <td>14.95</td>\n",
       "      <td>discount</td>\n",
       "      <td>F</td>\n",
       "      <td>63.0</td>\n",
       "      <td>68000.0</td>\n",
       "      <td>0.96</td>\n",
       "      <td>0</td>\n",
       "    </tr>\n",
       "    <tr>\n",
       "      <th>63285</th>\n",
       "      <td>5</td>\n",
       "      <td>30.41</td>\n",
       "      <td>discount</td>\n",
       "      <td>F</td>\n",
       "      <td>68.0</td>\n",
       "      <td>51000.0</td>\n",
       "      <td>1.15</td>\n",
       "      <td>0</td>\n",
       "    </tr>\n",
       "    <tr>\n",
       "      <th>63286</th>\n",
       "      <td>5</td>\n",
       "      <td>14.25</td>\n",
       "      <td>discount</td>\n",
       "      <td>M</td>\n",
       "      <td>20.0</td>\n",
       "      <td>70000.0</td>\n",
       "      <td>1.77</td>\n",
       "      <td>3</td>\n",
       "    </tr>\n",
       "    <tr>\n",
       "      <th>63287</th>\n",
       "      <td>5</td>\n",
       "      <td>26.54</td>\n",
       "      <td>discount</td>\n",
       "      <td>M</td>\n",
       "      <td>45.0</td>\n",
       "      <td>62000.0</td>\n",
       "      <td>2.88</td>\n",
       "      <td>1</td>\n",
       "    </tr>\n",
       "  </tbody>\n",
       "</table>\n",
       "<p>63288 rows × 8 columns</p>\n",
       "</div>"
      ],
      "text/plain": [
       "       offer_id_rec  tra_offer_infl     offer_type gender   age    income  \\\n",
       "0                 7           49.39  informational      F  75.0  100000.0   \n",
       "1                 3           19.89           bogo      F  75.0  100000.0   \n",
       "2                 0           21.72           bogo      F  75.0  100000.0   \n",
       "3                 8            0.00           bogo      F  75.0  100000.0   \n",
       "4                 7            0.00  informational     NI  55.0   64000.0   \n",
       "...             ...             ...            ...    ...   ...       ...   \n",
       "63283             5           14.83       discount      M  21.0   45000.0   \n",
       "63284             5           14.95       discount      F  63.0   68000.0   \n",
       "63285             5           30.41       discount      F  68.0   51000.0   \n",
       "63286             5           14.25       discount      M  20.0   70000.0   \n",
       "63287             5           26.54       discount      M  45.0   62000.0   \n",
       "\n",
       "       rela_member_years  user_cluster  \n",
       "0                   1.21             2  \n",
       "1                   1.21             2  \n",
       "2                   1.21             2  \n",
       "3                   1.21             2  \n",
       "4                   0.98             0  \n",
       "...                  ...           ...  \n",
       "63283               0.44             3  \n",
       "63284               0.96             0  \n",
       "63285               1.15             0  \n",
       "63286               1.77             3  \n",
       "63287               2.88             1  \n",
       "\n",
       "[63288 rows x 8 columns]"
      ]
     },
     "execution_count": 22,
     "metadata": {},
     "output_type": "execute_result"
    }
   ],
   "source": [
    "# Transações\n",
    "\n",
    "user_offer_df.columns\n",
    "\n",
    "transactions_df = user_offer_df[['offer_id_rec','tra_offer_infl', 'offer_type', 'gender',\n",
    "       'age', 'income', 'rela_member_years', 'user_cluster']]\n",
    "\n",
    "transactions_df"
   ]
  },
  {
   "cell_type": "code",
   "execution_count": 23,
   "metadata": {},
   "outputs": [],
   "source": [
    "# Target features and others\n",
    "y = transactions_df['tra_offer_infl'] # target\n",
    "X = transactions_df.drop(columns='tra_offer_infl') # features\n",
    "\n",
    "# Split data into training and testing datasets\n",
    "X_train, X_test, y_train, y_test = train_test_split(X, y, test_size=0.3)\n"
   ]
  },
  {
   "cell_type": "markdown",
   "metadata": {},
   "source": [
    "##### Train"
   ]
  },
  {
   "cell_type": "code",
   "execution_count": 24,
   "metadata": {},
   "outputs": [
    {
     "data": {
      "text/plain": [
       "Pipeline(steps=[('tranformer',\n",
       "                 ColumnTransformer(transformers=[('standardscaler',\n",
       "                                                  StandardScaler(),\n",
       "                                                  <sklearn.compose._column_transformer.make_column_selector object at 0x00000119C06FE280>),\n",
       "                                                 ('onehotencoder',\n",
       "                                                  OneHotEncoder(dtype='int',\n",
       "                                                                sparse=False),\n",
       "                                                  <sklearn.compose._column_transformer.make_column_selector object at 0x00000119C0754370>)])),\n",
       "                ('regressor', LinearRegression())])"
      ]
     },
     "execution_count": 24,
     "metadata": {},
     "output_type": "execute_result"
    }
   ],
   "source": [
    "# Create a pipeline\n",
    "\n",
    "# Transformer\n",
    "# For Age, Income and Time as Member use a scaler (z score)\n",
    "sca = StandardScaler()\n",
    "# For categorical columns, as offer id, offer type, user cluster and gender\n",
    "# user one hot encoder to create dummy variables.\n",
    "encoder = OneHotEncoder(sparse=False, dtype='int')\n",
    "\n",
    "# Classifier\n",
    "# Use LinearRegression to fit data. Class weight is set to balanced to\n",
    "# balance the size of each class in dataset.\n",
    "reg = LinearRegression() # standart reg\n",
    "\n",
    "# Column Transformer chain, since the columns will receive different\n",
    "# transformations. For numeric columns, the type is float64.\n",
    "transformers = make_column_transformer( \n",
    "    (sca, make_column_selector(dtype_include=np.float64)),\n",
    "    (encoder, make_column_selector(dtype_exclude=np.float64))\n",
    ")\n",
    "\n",
    "# Pipeline\n",
    "model_reg = Pipeline(\n",
    "    [\n",
    "        ('tranformer', transformers),\n",
    "        ('regressor', reg)\n",
    "    ]\n",
    ")\n",
    "\n",
    "# Fit model to train data\n",
    "model_reg.fit(X_train, y_train)"
   ]
  },
  {
   "cell_type": "code",
   "execution_count": 25,
   "metadata": {},
   "outputs": [
    {
     "data": {
      "text/plain": [
       "0.03088190796819945"
      ]
     },
     "execution_count": 25,
     "metadata": {},
     "output_type": "execute_result"
    }
   ],
   "source": [
    "model_reg.score(X_test, y_test)"
   ]
  },
  {
   "cell_type": "markdown",
   "metadata": {},
   "source": [
    "##### Test"
   ]
  },
  {
   "cell_type": "code",
   "execution_count": 26,
   "metadata": {},
   "outputs": [
    {
     "name": "stdout",
     "output_type": "stream",
     "text": [
      "Perfomance with Train\n",
      "\n",
      "R2: 0.03674008105827531\n",
      "Perfomance with Test\n",
      "\n",
      "R2: 0.03088190796819945\n",
      "Residuals plot\n"
     ]
    },
    {
     "data": {
      "image/png": "[encoded data removed]",
      "text/plain": [
       "<Figure size 576x396 with 2 Axes>"
      ]
     },
     "metadata": {},
     "output_type": "display_data"
    }
   ],
   "source": [
    "# Evaluation of results\n",
    "importlib.reload(aux_fun)\n",
    "aux_fun.evaluate_model_reg(model_reg, X_train=X_train, y_train=y_train,\n",
    "    X_test=X_test, y_test=y_test)"
   ]
  },
  {
   "cell_type": "markdown",
   "metadata": {},
   "source": [
    "A regressão tem desempenho por alguns valores altos."
   ]
  },
  {
   "cell_type": "code",
   "execution_count": null,
   "metadata": {},
   "outputs": [],
   "source": []
  },
  {
   "cell_type": "code",
   "execution_count": 27,
   "metadata": {},
   "outputs": [
    {
     "data": {
      "image/png": "[encoded data removed]",
      "text/plain": [
       "<Figure size 720x288 with 1 Axes>"
      ]
     },
     "metadata": {},
     "output_type": "display_data"
    },
    {
     "data": {
      "image/png": "[encoded data removed]",
      "text/plain": [
       "<Figure size 720x288 with 1 Axes>"
      ]
     },
     "metadata": {},
     "output_type": "display_data"
    }
   ],
   "source": [
    "# Olhando para os valores de treino\n",
    "\n",
    "plt.figure(figsize=(10,4))\n",
    "x = np.arange(len(y_test))\n",
    "plt.scatter(x, y_test)\n",
    "plt.title('Transactions Points'); plt.xlabel('Point'); plt.ylabel('Transaction')\n",
    "plt.show()\n",
    "\n",
    "plt.figure(figsize=(10,4))\n",
    "plt.hist(y_test)\n",
    "plt.title('Transactions Distribuiton'); plt.xlabel('Transaction')\n",
    "plt.show()"
   ]
  },
  {
   "cell_type": "markdown",
   "metadata": {},
   "source": [
    "O problema do primeiro fit é que a maior parte dos dados é 0. Há poucos valores acima, o que causa grandes erros no fit do modelo."
   ]
  },
  {
   "cell_type": "markdown",
   "metadata": {},
   "source": [
    "Grid Search para outro modelo de regressão"
   ]
  },
  {
   "cell_type": "code",
   "execution_count": 28,
   "metadata": {},
   "outputs": [
    {
     "data": {
      "text/plain": [
       "{'memory': None,\n",
       " 'steps': [('tranformer',\n",
       "   ColumnTransformer(transformers=[('standardscaler', StandardScaler(),\n",
       "                                    <sklearn.compose._column_transformer.make_column_selector object at 0x00000119C06FE280>),\n",
       "                                   ('onehotencoder',\n",
       "                                    OneHotEncoder(dtype='int', sparse=False),\n",
       "                                    <sklearn.compose._column_transformer.make_column_selector object at 0x00000119C0754370>)])),\n",
       "  ('regressor', LinearRegression())],\n",
       " 'verbose': False,\n",
       " 'tranformer': ColumnTransformer(transformers=[('standardscaler', StandardScaler(),\n",
       "                                  <sklearn.compose._column_transformer.make_column_selector object at 0x00000119C06FE280>),\n",
       "                                 ('onehotencoder',\n",
       "                                  OneHotEncoder(dtype='int', sparse=False),\n",
       "                                  <sklearn.compose._column_transformer.make_column_selector object at 0x00000119C0754370>)]),\n",
       " 'regressor': LinearRegression(),\n",
       " 'tranformer__n_jobs': None,\n",
       " 'tranformer__remainder': 'drop',\n",
       " 'tranformer__sparse_threshold': 0.3,\n",
       " 'tranformer__transformer_weights': None,\n",
       " 'tranformer__transformers': [('standardscaler',\n",
       "   StandardScaler(),\n",
       "   <sklearn.compose._column_transformer.make_column_selector at 0x119c06fe280>),\n",
       "  ('onehotencoder',\n",
       "   OneHotEncoder(dtype='int', sparse=False),\n",
       "   <sklearn.compose._column_transformer.make_column_selector at 0x119c0754370>)],\n",
       " 'tranformer__verbose': False,\n",
       " 'tranformer__verbose_feature_names_out': True,\n",
       " 'tranformer__standardscaler': StandardScaler(),\n",
       " 'tranformer__onehotencoder': OneHotEncoder(dtype='int', sparse=False),\n",
       " 'tranformer__standardscaler__copy': True,\n",
       " 'tranformer__standardscaler__with_mean': True,\n",
       " 'tranformer__standardscaler__with_std': True,\n",
       " 'tranformer__onehotencoder__categories': 'auto',\n",
       " 'tranformer__onehotencoder__drop': None,\n",
       " 'tranformer__onehotencoder__dtype': 'int',\n",
       " 'tranformer__onehotencoder__handle_unknown': 'error',\n",
       " 'tranformer__onehotencoder__sparse': False,\n",
       " 'regressor__copy_X': True,\n",
       " 'regressor__fit_intercept': True,\n",
       " 'regressor__n_jobs': None,\n",
       " 'regressor__normalize': 'deprecated',\n",
       " 'regressor__positive': False}"
      ]
     },
     "execution_count": 28,
     "metadata": {},
     "output_type": "execute_result"
    }
   ],
   "source": [
    "model_reg.get_params()"
   ]
  },
  {
   "cell_type": "code",
   "execution_count": 29,
   "metadata": {},
   "outputs": [
    {
     "data": {
      "text/plain": [
       "array([0.03689297, 0.02741336])"
      ]
     },
     "execution_count": 29,
     "metadata": {},
     "output_type": "execute_result"
    }
   ],
   "source": [
    "# Create a pipeline\n",
    "\n",
    "# Classifier\n",
    "# Test other regressor with data. To see other results\n",
    "reg1 = LinearRegression()\n",
    "reg2 = PoissonRegressor(fit_intercept=False, max_iter=5100)\n",
    "\n",
    "# Usar gridsearch para procurar a melhor profundidade da árvore\n",
    "params_grid = {\n",
    "    'regressor': [reg1, reg2]\n",
    "}\n",
    "\n",
    "# GridSearch\n",
    "pipeline_reg_gs = GridSearchCV(model_reg, params_grid, scoring='r2')\n",
    "\n",
    "# Fit\n",
    "pipeline_reg_gs.fit(X_train, y_train)\n",
    "\n",
    "# Best result\n",
    "model_reg_gs = pipeline_gs.best_estimator_\n",
    "\n",
    "pipeline_reg_gs.cv_results_['mean_test_score']"
   ]
  },
  {
   "cell_type": "code",
   "execution_count": 30,
   "metadata": {},
   "outputs": [],
   "source": [
    "# "
   ]
  },
  {
   "cell_type": "markdown",
   "metadata": {},
   "source": [
    "Os resultados não são bom para os regressores testados. Logo, o problema está, realmente, no intervalo de y para poder prever."
   ]
  },
  {
   "cell_type": "code",
   "execution_count": 31,
   "metadata": {},
   "outputs": [
    {
     "data": {
      "text/plain": [
       "0.03674008105827531"
      ]
     },
     "execution_count": 31,
     "metadata": {},
     "output_type": "execute_result"
    }
   ],
   "source": [
    "# Transform in target variable\n",
    "\n",
    "# Creating a new pipeline\n",
    "\n",
    "# The transforms will be keeped in place\n",
    "\n",
    "# Classifier\n",
    "\n",
    "# Use a transform target regrossor\n",
    "\n",
    "# Use LinearRegression to fit data. Class weight is set to balanced to\n",
    "# balance the size of each class in dataset.\n",
    "reg = LinearRegression() # standart reg\n",
    "trans = FunctionTransformer() # the transformer\n",
    "\n",
    "trans_regr = TransformedTargetRegressor(regressor=reg, transformer=trans)\n",
    "\n",
    "# Column Transformer chain, since the columns will receive different\n",
    "# transformations. For numeric columns, the type is float64.\n",
    "\n",
    "# Pipeline\n",
    "model_reg2 = Pipeline(\n",
    "    [\n",
    "        ('tranformer', transformers),\n",
    "        ('regressor', trans_regr)\n",
    "    ]\n",
    ")\n",
    "\n",
    "# Fit model to train data\n",
    "model_reg2.fit(X_train, y_train)\n",
    "\n",
    "model_reg2.score(X_train, y_train)"
   ]
  },
  {
   "cell_type": "markdown",
   "metadata": {},
   "source": [
    "A regressão linear paraece não funcionar bem para o caso da transação"
   ]
  },
  {
   "cell_type": "markdown",
   "metadata": {},
   "source": [
    "A estratégia a ser seguida será transformar a transação em classe. Haverá classe imbalanced, porém métodos de classificação como ávore de decisão conseguem lidar com esse tipo de problema ao fazer oversample, por exemplo"
   ]
  },
  {
   "cell_type": "code",
   "execution_count": 32,
   "metadata": {},
   "outputs": [
    {
     "data": {
      "text/plain": [
       "<AxesSubplot:>"
      ]
     },
     "execution_count": 32,
     "metadata": {},
     "output_type": "execute_result"
    },
    {
     "data": {
      "image/png": "[encoded data removed]",
      "text/plain": [
       "<Figure size 576x396 with 1 Axes>"
      ]
     },
     "metadata": {},
     "output_type": "display_data"
    }
   ],
   "source": [
    "# A melhor divisão para y\n",
    "\n",
    "pd.qcut(y, q=6, duplicates='drop').value_counts().plot.bar()"
   ]
  },
  {
   "cell_type": "markdown",
   "metadata": {},
   "source": [
    "4 classes, com desbalanceio."
   ]
  },
  {
   "cell_type": "code",
   "execution_count": 33,
   "metadata": {},
   "outputs": [],
   "source": [
    "# Redefing the data\n",
    "\n",
    "# Target features and others\n",
    "y = transactions_df[['tra_offer_infl']] # target\n",
    "X = transactions_df.drop(columns='tra_offer_infl') # features\n",
    "\n",
    "# Classing the transactions\n",
    "y.loc[y['tra_offer_infl'] > 0, 'tra_offer_infl'] = 1  \n",
    "\n",
    "# Split data into training and testing datasets\n",
    "X_train, X_test, y_train, y_test = train_test_split(X, y, test_size=0.3)"
   ]
  },
  {
   "cell_type": "markdown",
   "metadata": {},
   "source": [
    "Train"
   ]
  },
  {
   "cell_type": "code",
   "execution_count": 34,
   "metadata": {},
   "outputs": [
    {
     "data": {
      "text/plain": [
       "Pipeline(steps=[('tranformer',\n",
       "                 ColumnTransformer(transformers=[('standardscaler',\n",
       "                                                  StandardScaler(),\n",
       "                                                  <sklearn.compose._column_transformer.make_column_selector object at 0x00000119C33DEE80>),\n",
       "                                                 ('onehotencoder',\n",
       "                                                  OneHotEncoder(dtype='int',\n",
       "                                                                sparse=False),\n",
       "                                                  <sklearn.compose._column_transformer.make_column_selector object at 0x00000119C33E4E80>)])),\n",
       "                ('classifier',\n",
       "                 DecisionTreeClassifier(class_weight='balanced'))])"
      ]
     },
     "execution_count": 34,
     "metadata": {},
     "output_type": "execute_result"
    }
   ],
   "source": [
    "# Create a pipeline\n",
    "\n",
    "# Transformer\n",
    "# For Age, Income and Time as Member use a scaler (z score)\n",
    "sca = StandardScaler()\n",
    "# For categorical columns, as offer id, offer type, user cluster and gender\n",
    "# user one hot encoder to create dummy variables.\n",
    "encoder = OneHotEncoder(sparse=False, dtype='int')\n",
    "\n",
    "# Classifier\n",
    "# Use Decision Tree to fit data. Class weight is set to balanced to\n",
    "# balance the size of each class in dataset.\n",
    "clf = DecisionTreeClassifier(class_weight='balanced')\n",
    "\n",
    "\n",
    "# Column Transformer chain, since the columns will receive different\n",
    "# transformations. For numeric columns, the type is float64.\n",
    "transformers = make_column_transformer( \n",
    "    (sca, make_column_selector(dtype_include=np.float64)),\n",
    "    (encoder, make_column_selector(dtype_exclude=np.float64))\n",
    ")\n",
    "\n",
    "# Pipeline\n",
    "model = Pipeline(\n",
    "    [\n",
    "        ('tranformer', transformers),\n",
    "        ('classifier', clf)\n",
    "    ]\n",
    ")\n",
    "\n",
    "# Fit model to train data\n",
    "model.fit(X_train, y_train)"
   ]
  },
  {
   "cell_type": "code",
   "execution_count": 35,
   "metadata": {},
   "outputs": [
    {
     "name": "stdout",
     "output_type": "stream",
     "text": [
      "Perfomance with Train\n",
      "\n",
      "              precision    recall  f1-score   support\n",
      "\n",
      "         0.0       0.96      0.98      0.97     20653\n",
      "         1.0       0.99      0.97      0.98     23648\n",
      "\n",
      "    accuracy                           0.98     44301\n",
      "   macro avg       0.97      0.98      0.98     44301\n",
      "weighted avg       0.98      0.98      0.98     44301\n",
      "\n"
     ]
    },
    {
     "data": {
      "image/png": "[encoded data removed]",
      "text/plain": [
       "<Figure size 576x396 with 2 Axes>"
      ]
     },
     "metadata": {},
     "output_type": "display_data"
    },
    {
     "name": "stdout",
     "output_type": "stream",
     "text": [
      "Perfomance with Test\n",
      "\n",
      "              precision    recall  f1-score   support\n",
      "\n",
      "         0.0       0.58      0.59      0.59      8932\n",
      "         1.0       0.63      0.63      0.63     10055\n",
      "\n",
      "    accuracy                           0.61     18987\n",
      "   macro avg       0.61      0.61      0.61     18987\n",
      "weighted avg       0.61      0.61      0.61     18987\n",
      "\n"
     ]
    },
    {
     "data": {
      "image/png": "[encoded data removed]",
      "text/plain": [
       "<Figure size 576x396 with 2 Axes>"
      ]
     },
     "metadata": {},
     "output_type": "display_data"
    }
   ],
   "source": [
    "# Evaluation of results\n",
    "aux_fun.evaluate_model(model, X_train=X_train, y_train=y_train,\n",
    "    X_test=X_test, y_test=y_test)"
   ]
  },
  {
   "cell_type": "code",
   "execution_count": 36,
   "metadata": {},
   "outputs": [],
   "source": [
    "# Usar gridsearch para procurar a melhor profundidade da árvore\n",
    "params_grid = {\n",
    "    'classifier__max_depth':range(5,40)  \n",
    "}\n",
    "\n",
    "# GridSearch\n",
    "pipeline_gs = GridSearchCV(model, params_grid, scoring='recall_micro')\n",
    "\n",
    "# Fit\n",
    "pipeline_gs.fit(X_train, y_train)\n",
    "\n",
    "# Best result\n",
    "model_gs = pipeline_gs.best_estimator_"
   ]
  },
  {
   "cell_type": "code",
   "execution_count": 37,
   "metadata": {},
   "outputs": [
    {
     "name": "stdout",
     "output_type": "stream",
     "text": [
      "Perfomance with Train\n",
      "\n",
      "              precision    recall  f1-score   support\n",
      "\n",
      "         0.0       0.68      0.71      0.69     20653\n",
      "         1.0       0.73      0.70      0.72     23648\n",
      "\n",
      "    accuracy                           0.71     44301\n",
      "   macro avg       0.70      0.71      0.70     44301\n",
      "weighted avg       0.71      0.71      0.71     44301\n",
      "\n"
     ]
    },
    {
     "data": {
      "image/png": "[encoded data removed]",
      "text/plain": [
       "<Figure size 576x396 with 2 Axes>"
      ]
     },
     "metadata": {},
     "output_type": "display_data"
    },
    {
     "name": "stdout",
     "output_type": "stream",
     "text": [
      "Perfomance with Test\n",
      "\n",
      "              precision    recall  f1-score   support\n",
      "\n",
      "         0.0       0.67      0.69      0.68      8932\n",
      "         1.0       0.71      0.69      0.70     10055\n",
      "\n",
      "    accuracy                           0.69     18987\n",
      "   macro avg       0.69      0.69      0.69     18987\n",
      "weighted avg       0.69      0.69      0.69     18987\n",
      "\n"
     ]
    },
    {
     "data": {
      "image/png": "[encoded data removed]",
      "text/plain": [
       "<Figure size 576x396 with 2 Axes>"
      ]
     },
     "metadata": {},
     "output_type": "display_data"
    }
   ],
   "source": [
    "# Evaluate the grid serach best model\n",
    "aux_fun.evaluate_model(model_gs, X_train=X_train, y_train=y_train,\n",
    "    X_test=X_test, y_test=y_test)"
   ]
  },
  {
   "cell_type": "markdown",
   "metadata": {},
   "source": [
    "Resulto melhor para a classificação"
   ]
  },
  {
   "cell_type": "code",
   "execution_count": 38,
   "metadata": {},
   "outputs": [
    {
     "data": {
      "text/html": [
       "<div>\n",
       "<style scoped>\n",
       "    .dataframe tbody tr th:only-of-type {\n",
       "        vertical-align: middle;\n",
       "    }\n",
       "\n",
       "    .dataframe tbody tr th {\n",
       "        vertical-align: top;\n",
       "    }\n",
       "\n",
       "    .dataframe thead th {\n",
       "        text-align: right;\n",
       "    }\n",
       "</style>\n",
       "<table border=\"1\" class=\"dataframe\">\n",
       "  <thead>\n",
       "    <tr style=\"text-align: right;\">\n",
       "      <th></th>\n",
       "      <th>Variable</th>\n",
       "      <th>Importance</th>\n",
       "    </tr>\n",
       "  </thead>\n",
       "  <tbody>\n",
       "    <tr>\n",
       "      <th>2</th>\n",
       "      <td>rela_member_years</td>\n",
       "      <td>0.184085</td>\n",
       "    </tr>\n",
       "    <tr>\n",
       "      <th>7</th>\n",
       "      <td>offer_id_rec_4</td>\n",
       "      <td>0.152970</td>\n",
       "    </tr>\n",
       "    <tr>\n",
       "      <th>1</th>\n",
       "      <td>income</td>\n",
       "      <td>0.135100</td>\n",
       "    </tr>\n",
       "    <tr>\n",
       "      <th>5</th>\n",
       "      <td>offer_id_rec_2</td>\n",
       "      <td>0.128825</td>\n",
       "    </tr>\n",
       "    <tr>\n",
       "      <th>12</th>\n",
       "      <td>offer_id_rec_9</td>\n",
       "      <td>0.122271</td>\n",
       "    </tr>\n",
       "    <tr>\n",
       "      <th>6</th>\n",
       "      <td>offer_id_rec_3</td>\n",
       "      <td>0.122124</td>\n",
       "    </tr>\n",
       "    <tr>\n",
       "      <th>0</th>\n",
       "      <td>age</td>\n",
       "      <td>0.047371</td>\n",
       "    </tr>\n",
       "    <tr>\n",
       "      <th>15</th>\n",
       "      <td>offer_type_informational</td>\n",
       "      <td>0.036116</td>\n",
       "    </tr>\n",
       "    <tr>\n",
       "      <th>10</th>\n",
       "      <td>offer_id_rec_7</td>\n",
       "      <td>0.034766</td>\n",
       "    </tr>\n",
       "    <tr>\n",
       "      <th>18</th>\n",
       "      <td>gender_NI</td>\n",
       "      <td>0.008840</td>\n",
       "    </tr>\n",
       "    <tr>\n",
       "      <th>3</th>\n",
       "      <td>offer_id_rec_0</td>\n",
       "      <td>0.008562</td>\n",
       "    </tr>\n",
       "    <tr>\n",
       "      <th>14</th>\n",
       "      <td>offer_type_discount</td>\n",
       "      <td>0.006019</td>\n",
       "    </tr>\n",
       "    <tr>\n",
       "      <th>9</th>\n",
       "      <td>offer_id_rec_6</td>\n",
       "      <td>0.004743</td>\n",
       "    </tr>\n",
       "    <tr>\n",
       "      <th>17</th>\n",
       "      <td>gender_M</td>\n",
       "      <td>0.003556</td>\n",
       "    </tr>\n",
       "    <tr>\n",
       "      <th>19</th>\n",
       "      <td>gender_O</td>\n",
       "      <td>0.001922</td>\n",
       "    </tr>\n",
       "    <tr>\n",
       "      <th>16</th>\n",
       "      <td>gender_F</td>\n",
       "      <td>0.001474</td>\n",
       "    </tr>\n",
       "    <tr>\n",
       "      <th>20</th>\n",
       "      <td>user_cluster_0</td>\n",
       "      <td>0.000562</td>\n",
       "    </tr>\n",
       "    <tr>\n",
       "      <th>23</th>\n",
       "      <td>user_cluster_3</td>\n",
       "      <td>0.000379</td>\n",
       "    </tr>\n",
       "    <tr>\n",
       "      <th>22</th>\n",
       "      <td>user_cluster_2</td>\n",
       "      <td>0.000315</td>\n",
       "    </tr>\n",
       "    <tr>\n",
       "      <th>8</th>\n",
       "      <td>offer_id_rec_5</td>\n",
       "      <td>0.000000</td>\n",
       "    </tr>\n",
       "    <tr>\n",
       "      <th>13</th>\n",
       "      <td>offer_type_bogo</td>\n",
       "      <td>0.000000</td>\n",
       "    </tr>\n",
       "    <tr>\n",
       "      <th>11</th>\n",
       "      <td>offer_id_rec_8</td>\n",
       "      <td>0.000000</td>\n",
       "    </tr>\n",
       "    <tr>\n",
       "      <th>21</th>\n",
       "      <td>user_cluster_1</td>\n",
       "      <td>0.000000</td>\n",
       "    </tr>\n",
       "    <tr>\n",
       "      <th>4</th>\n",
       "      <td>offer_id_rec_1</td>\n",
       "      <td>0.000000</td>\n",
       "    </tr>\n",
       "  </tbody>\n",
       "</table>\n",
       "</div>"
      ],
      "text/plain": [
       "                    Variable  Importance\n",
       "2          rela_member_years    0.184085\n",
       "7             offer_id_rec_4    0.152970\n",
       "1                     income    0.135100\n",
       "5             offer_id_rec_2    0.128825\n",
       "12            offer_id_rec_9    0.122271\n",
       "6             offer_id_rec_3    0.122124\n",
       "0                        age    0.047371\n",
       "15  offer_type_informational    0.036116\n",
       "10            offer_id_rec_7    0.034766\n",
       "18                 gender_NI    0.008840\n",
       "3             offer_id_rec_0    0.008562\n",
       "14       offer_type_discount    0.006019\n",
       "9             offer_id_rec_6    0.004743\n",
       "17                  gender_M    0.003556\n",
       "19                  gender_O    0.001922\n",
       "16                  gender_F    0.001474\n",
       "20            user_cluster_0    0.000562\n",
       "23            user_cluster_3    0.000379\n",
       "22            user_cluster_2    0.000315\n",
       "8             offer_id_rec_5    0.000000\n",
       "13           offer_type_bogo    0.000000\n",
       "11            offer_id_rec_8    0.000000\n",
       "21            user_cluster_1    0.000000\n",
       "4             offer_id_rec_1    0.000000"
      ]
     },
     "execution_count": 38,
     "metadata": {},
     "output_type": "execute_result"
    }
   ],
   "source": [
    "# Olhando a importancia de cada variável na classificação\n",
    "def create_df_feature_importances(model):\n",
    "    '''\n",
    "    TODO\n",
    "    '''\n",
    "    df_feature = pd.DataFrame()\n",
    "    df_feature['Variable'] = model.named_steps['tranformer'].get_feature_names_out()\n",
    "    df_feature['Variable'] = df_feature['Variable'].map(lambda n: n.split('__')[1])\n",
    "    \n",
    "    df_feature['Importance'] = model.named_steps['classifier'].feature_importances_\n",
    "    return df_feature\n",
    "\n",
    "create_df_feature_importances(model_gs).sort_values('Importance', ascending=False)"
   ]
  },
  {
   "cell_type": "code",
   "execution_count": 39,
   "metadata": {},
   "outputs": [
    {
     "data": {
      "image/png": "[encoded data removed]",
      "text/plain": [
       "<Figure size 2160x720 with 1 Axes>"
      ]
     },
     "metadata": {},
     "output_type": "display_data"
    }
   ],
   "source": [
    "# Visualizando a árvore\n",
    "\n",
    "named_variables =  model.named_steps['tranformer'].get_feature_names_out()\n",
    "named_variables = [ name.split('__')[1] for name in named_variables]\n",
    "\n",
    "clf_tree = model.named_steps['classifier']\n",
    "\n",
    "plt.figure(figsize=(30,10))\n",
    "\n",
    "\n",
    "plot_tree(clf_tree, max_depth=2, feature_names=named_variables, filled=True)\n",
    "plt.show()"
   ]
  },
  {
   "cell_type": "code",
   "execution_count": 40,
   "metadata": {},
   "outputs": [],
   "source": [
    "model_transaction = model_gs"
   ]
  },
  {
   "cell_type": "markdown",
   "metadata": {},
   "source": []
  },
  {
   "cell_type": "markdown",
   "metadata": {},
   "source": []
  },
  {
   "cell_type": "markdown",
   "metadata": {},
   "source": []
  },
  {
   "cell_type": "markdown",
   "metadata": {},
   "source": []
  },
  {
   "cell_type": "markdown",
   "metadata": {},
   "source": []
  },
  {
   "cell_type": "markdown",
   "metadata": {},
   "source": []
  },
  {
   "cell_type": "markdown",
   "metadata": {},
   "source": []
  },
  {
   "cell_type": "markdown",
   "metadata": {},
   "source": [
    "#### Combinando os dois modelos"
   ]
  },
  {
   "cell_type": "code",
   "execution_count": 45,
   "metadata": {},
   "outputs": [
    {
     "data": {
      "text/plain": [
       "Pipeline(steps=[('tranformer',\n",
       "                 ColumnTransformer(transformers=[('standardscaler',\n",
       "                                                  StandardScaler(),\n",
       "                                                  <sklearn.compose._column_transformer.make_column_selector object at 0x00000119C0DB8100>),\n",
       "                                                 ('onehotencoder',\n",
       "                                                  OneHotEncoder(dtype='int',\n",
       "                                                                sparse=False),\n",
       "                                                  <sklearn.compose._column_transformer.make_column_selector object at 0x00000119BF5EA040>)])),\n",
       "                ('classifier',\n",
       "                 DecisionTreeClassifier(class_weight='balanced', max_depth=9))])"
      ]
     },
     "execution_count": 45,
     "metadata": {},
     "output_type": "execute_result"
    }
   ],
   "source": [
    "model_transaction\n",
    "# model_completation"
   ]
  },
  {
   "cell_type": "code",
   "execution_count": 51,
   "metadata": {},
   "outputs": [
    {
     "name": "stdout",
     "output_type": "stream",
     "text": [
      "Offers for 0: ['6 - discount']\n",
      "Offers for 1: ['0 - bogo', '1 - bogo', '5 - discount', '6 - discount', '8 - bogo']\n",
      "Offers for 2: []\n",
      "Offers for 3: ['0 - bogo', '1 - bogo', '5 - discount', '6 - discount', '8 - bogo']\n",
      "Offers for 4: []\n",
      "Offers for 5: []\n",
      "Offers for 6: []\n",
      "Offers for 7: []\n",
      "Offers for 8: ['5 - discount', '6 - discount']\n",
      "Offers for 9: ['6 - discount']\n",
      "Offers for 10: []\n",
      "Offers for 11: ['5 - discount', '6 - discount']\n",
      "Offers for 12: ['5 - discount', '6 - discount']\n",
      "Offers for 13: ['0 - bogo', '1 - bogo', '5 - discount', '6 - discount', '8 - bogo']\n",
      "Offers for 14: ['5 - discount', '6 - discount', '8 - bogo']\n",
      "Offers for 15: ['0 - bogo', '1 - bogo', '5 - discount', '6 - discount', '7 - informational', '8 - bogo']\n",
      "Offers for 16: ['0 - bogo', '3 - bogo', '5 - discount', '6 - discount', '7 - informational', '8 - bogo', '9 - discount']\n",
      "Offers for 17: []\n",
      "Offers for 18: ['5 - discount', '6 - discount']\n",
      "Offers for 19: ['5 - discount', '6 - discount']\n",
      "Offers for 20: ['0 - bogo', '1 - bogo', '2 - informational', '3 - bogo', '5 - discount', '6 - discount', '7 - informational', '8 - bogo', '9 - discount']\n",
      "Offers for 21: ['0 - bogo', '1 - bogo', '3 - bogo', '5 - discount', '6 - discount', '8 - bogo']\n",
      "Offers for 22: ['0 - bogo', '1 - bogo', '5 - discount', '6 - discount', '7 - informational', '8 - bogo']\n",
      "Offers for 23: []\n",
      "Offers for 24: ['0 - bogo', '3 - bogo', '5 - discount', '6 - discount', '7 - informational', '8 - bogo', '9 - discount']\n",
      "Offers for 25: []\n",
      "Offers for 26: ['6 - discount']\n",
      "Offers for 27: ['0 - bogo', '1 - bogo', '5 - discount', '6 - discount', '8 - bogo']\n",
      "Offers for 28: ['0 - bogo', '1 - bogo', '5 - discount', '6 - discount', '8 - bogo']\n",
      "Offers for 29: ['5 - discount', '6 - discount']\n",
      "Offers for 30: ['3 - bogo', '5 - discount', '6 - discount', '8 - bogo']\n",
      "Offers for 31: ['0 - bogo', '1 - bogo', '5 - discount', '6 - discount', '8 - bogo']\n",
      "Offers for 32: ['5 - discount', '6 - discount']\n",
      "Offers for 33: ['0 - bogo', '1 - bogo', '5 - discount', '6 - discount', '8 - bogo']\n",
      "Offers for 34: ['0 - bogo', '5 - discount', '6 - discount', '8 - bogo']\n",
      "Offers for 35: ['0 - bogo', '1 - bogo', '5 - discount', '6 - discount', '7 - informational', '8 - bogo']\n",
      "Offers for 36: []\n",
      "Offers for 37: ['0 - bogo', '3 - bogo', '5 - discount', '6 - discount', '7 - informational', '8 - bogo']\n",
      "Offers for 38: ['0 - bogo', '1 - bogo', '5 - discount', '6 - discount', '8 - bogo']\n",
      "Offers for 39: []\n",
      "Offers for 40: ['0 - bogo', '5 - discount', '6 - discount', '8 - bogo']\n",
      "Offers for 41: ['0 - bogo', '5 - discount', '6 - discount', '8 - bogo']\n",
      "Offers for 42: []\n",
      "Offers for 43: ['0 - bogo', '1 - bogo', '3 - bogo', '5 - discount', '6 - discount', '8 - bogo']\n",
      "Offers for 44: ['6 - discount', '8 - bogo']\n",
      "Offers for 45: ['6 - discount']\n",
      "Offers for 46: ['5 - discount', '6 - discount', '8 - bogo']\n",
      "Offers for 47: ['0 - bogo', '1 - bogo', '5 - discount', '6 - discount', '8 - bogo']\n",
      "Offers for 48: ['0 - bogo', '3 - bogo', '5 - discount', '6 - discount', '7 - informational', '8 - bogo', '9 - discount']\n",
      "Offers for 49: ['0 - bogo', '5 - discount', '6 - discount', '8 - bogo']\n",
      "Offers for 50: ['5 - discount', '6 - discount']\n",
      "Offers for 51: ['5 - discount', '6 - discount']\n",
      "Offers for 52: ['0 - bogo', '1 - bogo', '5 - discount', '6 - discount', '7 - informational', '8 - bogo']\n",
      "Offers for 53: ['0 - bogo', '3 - bogo', '5 - discount', '6 - discount', '7 - informational', '8 - bogo', '9 - discount']\n",
      "Offers for 54: []\n",
      "Offers for 55: ['1 - bogo', '2 - informational', '3 - bogo', '4 - discount', '5 - discount', '6 - discount', '7 - informational', '8 - bogo', '9 - discount']\n",
      "Offers for 56: []\n",
      "Offers for 57: ['5 - discount', '6 - discount']\n",
      "Offers for 58: ['0 - bogo', '1 - bogo', '5 - discount', '6 - discount', '8 - bogo']\n",
      "Offers for 59: ['5 - discount', '6 - discount']\n",
      "Offers for 60: ['1 - bogo', '5 - discount', '6 - discount', '8 - bogo']\n",
      "Offers for 61: ['5 - discount', '6 - discount']\n",
      "Offers for 62: []\n",
      "Offers for 63: ['5 - discount', '6 - discount']\n",
      "Offers for 64: ['5 - discount', '6 - discount']\n",
      "Offers for 65: ['0 - bogo', '1 - bogo', '3 - bogo', '5 - discount', '6 - discount', '8 - bogo']\n",
      "Offers for 66: ['0 - bogo', '1 - bogo', '5 - discount', '6 - discount', '7 - informational', '8 - bogo']\n",
      "Offers for 67: ['0 - bogo', '1 - bogo', '5 - discount', '6 - discount', '8 - bogo']\n",
      "Offers for 68: ['0 - bogo', '1 - bogo', '5 - discount', '6 - discount', '7 - informational', '8 - bogo']\n",
      "Offers for 69: ['0 - bogo', '3 - bogo', '5 - discount', '6 - discount', '7 - informational', '8 - bogo']\n",
      "Offers for 70: []\n",
      "Offers for 71: ['0 - bogo', '1 - bogo', '5 - discount', '6 - discount', '7 - informational', '8 - bogo']\n",
      "Offers for 72: ['0 - bogo', '1 - bogo', '5 - discount', '6 - discount', '8 - bogo']\n",
      "Offers for 73: ['0 - bogo', '1 - bogo', '5 - discount', '6 - discount', '8 - bogo']\n",
      "Offers for 74: ['0 - bogo', '1 - bogo', '5 - discount', '6 - discount', '8 - bogo']\n",
      "Offers for 75: ['0 - bogo', '1 - bogo', '5 - discount', '6 - discount', '8 - bogo']\n",
      "Offers for 76: ['0 - bogo', '1 - bogo', '5 - discount', '6 - discount', '8 - bogo']\n",
      "Offers for 77: ['5 - discount', '6 - discount']\n",
      "Offers for 78: ['5 - discount', '6 - discount']\n",
      "Offers for 79: ['0 - bogo', '1 - bogo', '3 - bogo', '5 - discount', '6 - discount', '8 - bogo']\n",
      "Offers for 80: []\n",
      "Offers for 81: ['0 - bogo', '5 - discount', '6 - discount', '8 - bogo']\n",
      "Offers for 82: ['5 - discount']\n",
      "Offers for 83: []\n",
      "Offers for 84: ['5 - discount', '6 - discount']\n",
      "Offers for 85: []\n",
      "Offers for 86: ['1 - bogo', '5 - discount', '6 - discount', '8 - bogo']\n",
      "Offers for 87: ['0 - bogo', '1 - bogo', '2 - informational', '3 - bogo', '5 - discount', '6 - discount', '7 - informational', '8 - bogo', '9 - discount']\n",
      "Offers for 88: ['0 - bogo', '1 - bogo', '3 - bogo', '5 - discount', '6 - discount', '7 - informational', '8 - bogo']\n",
      "Offers for 89: ['0 - bogo', '1 - bogo', '5 - discount', '6 - discount', '7 - informational', '8 - bogo']\n",
      "Offers for 90: []\n",
      "Offers for 91: ['0 - bogo', '1 - bogo', '3 - bogo', '4 - discount', '5 - discount', '6 - discount', '7 - informational', '8 - bogo', '9 - discount']\n",
      "Offers for 92: ['5 - discount', '6 - discount']\n",
      "Offers for 93: ['0 - bogo', '1 - bogo', '5 - discount', '6 - discount', '7 - informational', '8 - bogo']\n",
      "Offers for 94: ['0 - bogo', '1 - bogo', '5 - discount', '6 - discount', '8 - bogo']\n",
      "Offers for 95: ['6 - discount']\n",
      "Offers for 96: []\n",
      "Offers for 97: ['0 - bogo', '1 - bogo', '5 - discount', '6 - discount', '8 - bogo', '9 - discount']\n",
      "Offers for 98: ['1 - bogo', '5 - discount', '6 - discount', '8 - bogo']\n",
      "Offers for 99: ['0 - bogo', '1 - bogo', '5 - discount', '6 - discount', '8 - bogo']\n"
     ]
    }
   ],
   "source": [
    "# Improving the previos function\n",
    "\n",
    "def best_user_offer_to_send2(user, model_completation, model_transaction, X):\n",
    "    # Filter user in profile\n",
    "    user_df = profile.loc[profile['user_id']==user]\n",
    "    # Select columns\n",
    "    user_df = user_df[['gender', 'age', 'income', 'rela_member_years', 'user_cluster']]\n",
    "    \n",
    "    # Criar uma simulação de entregar todas as ofertas para o usuário\n",
    "    offers_df = portfolio[['offer_id', 'offer_type']]\n",
    "    offers_df.columns = ['offer_id_rec', 'offer_type']\n",
    "    offers_df = aux_fun.expand_dataframe(user_df, offers_df)\n",
    "\n",
    "    # Garantee order of columns\n",
    "    offers_df = offers_df[X.columns]\n",
    "    # Take away intormational offers\n",
    "    # offers_df = offers_df.loc[offers_df['offer_type']!='informational']\n",
    "    \n",
    "    # Predict Completation\n",
    "    offers_df['complete_pred'] = model_completation.predict(offers_df)\n",
    "    # Predict Transactions\n",
    "    offers_df['transaction_pred'] = model_transaction.predict(offers_df)\n",
    "    \n",
    "    # Filter\n",
    "    offers_df['score'] = offers_df['complete_pred']*offers_df['transaction_pred']\n",
    "    best_offers = offers_df.loc[offers_df['score'] == 1]\n",
    "\n",
    "    # Create list\n",
    "    recs = []\n",
    "    for idx, row in best_offers.iterrows():\n",
    "        recs.append(str(row['offer_id_rec']) +\\\n",
    "            ' - ' + str(row['offer_type']))\n",
    "    \n",
    "    print(f'Offers for {user}: {recs}')\n",
    "    \n",
    "    return recs#best_offers\n",
    "\n",
    "for user in range(0,100):\n",
    "    best_user_offer_to_send2(user, model_completation, model_transaction, X)\n",
    "\n",
    "# best_user_offer_to_send2(1510, model_completation, model_transaction, X)"
   ]
  },
  {
   "cell_type": "markdown",
   "metadata": {},
   "source": [
    "COMENTAR AQUI"
   ]
  }
 ],
 "metadata": {
  "interpreter": {
   "hash": "eeb237ca9589ff17e84be316e51a9f8e37de705c995c7f78f5a9940dd33dc0b8"
  },
  "kernelspec": {
   "display_name": "Python 3.8.5 64-bit",
   "language": "python",
   "name": "python3"
  },
  "language_info": {
   "codemirror_mode": {
    "name": "ipython",
    "version": 3
   },
   "file_extension": ".py",
   "mimetype": "text/x-python",
   "name": "python",
   "nbconvert_exporter": "python",
   "pygments_lexer": "ipython3",
   "version": "3.8.5"
  },
  "orig_nbformat": 4
 },
 "nbformat": 4,
 "nbformat_minor": 2
}
