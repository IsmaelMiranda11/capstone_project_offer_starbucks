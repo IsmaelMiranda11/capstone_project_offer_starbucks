{
 "cells": [
  {
   "cell_type": "code",
   "execution_count": 23,
   "metadata": {},
   "outputs": [],
   "source": [
    "import numpy as np\n",
    "\n",
    "num_mega = np.array(range(1,61))\n",
    "\n",
    "\n",
    "jogo1 = np.sort(np.random.choice(num_mega, 8, replace=False))\n",
    "num_mega = np.setdiff1d(num_mega, jogo1)\n",
    "jogo2 = np.sort(np.random.choice(num_mega, 8, replace=False))\n",
    "num_mega = np.setdiff1d(num_mega, jogo2)\n",
    "jogo3 = np.sort(np.random.choice(num_mega, 8, replace=False))\n",
    "num_mega = np.setdiff1d(num_mega, jogo3)\n",
    "jogo4 = np.sort(np.random.choice(num_mega, 8, replace=False))\n",
    "num_mega = np.setdiff1d(num_mega, jogo3)\n",
    "# jogo4 = np.sort(np.random.choice(num_mega, 6, replace=True))\n",
    "# num_mega = np.setdiff1d(num_mega, jogo4)\n",
    "# jogo5 = np.sort(np.random.choice(num_mega, 6, replace=True))\n",
    "# num_mega = np.setdiff1d(num_mega, jogo5)\n",
    "# jogo6 = np.sort(np.random.choice(num_mega, 6, replace=True))\n",
    "# num_mega = np.setdiff1d(num_mega, jogo6)\n",
    "# jogo7 = np.sort(np.random.choice(num_mega, 6, replace=True))\n",
    "# num_mega = np.setdiff1d(num_mega, jogo7)\n",
    "\n"
   ]
  },
  {
   "cell_type": "code",
   "execution_count": 24,
   "metadata": {},
   "outputs": [
    {
     "data": {
      "text/plain": [
       "(array([ 1,  6, 13, 25, 32, 46, 47, 55]),\n",
       " array([ 5, 12, 14, 39, 40, 41, 51, 53]),\n",
       " array([ 4, 15, 17, 28, 36, 54, 57, 59]),\n",
       " array([ 7, 18, 35, 45, 49, 56, 58, 60]))"
      ]
     },
     "execution_count": 24,
     "metadata": {},
     "output_type": "execute_result"
    }
   ],
   "source": [
    "jogo1, jogo2, jogo3, jogo4"
   ]
  },
  {
   "cell_type": "code",
   "execution_count": 22,
   "metadata": {},
   "outputs": [
    {
     "data": {
      "text/plain": [
       "nan"
      ]
     },
     "execution_count": 22,
     "metadata": {},
     "output_type": "execute_result"
    }
   ],
   "source": [
    "import pandas as pd\n",
    "a = np.nan\n",
    "a"
   ]
  },
  {
   "cell_type": "code",
   "execution_count": 26,
   "metadata": {},
   "outputs": [
    {
     "data": {
      "text/plain": [
       "False"
      ]
     },
     "execution_count": 26,
     "metadata": {},
     "output_type": "execute_result"
    }
   ],
   "source": [
    "900 > np.nan"
   ]
  }
 ],
 "metadata": {
  "interpreter": {
   "hash": "96210d3c8bb1b83269b3e1e664f6bbb87e4c52a8e87d1fd61eaea206ec6c46e3"
  },
  "kernelspec": {
   "display_name": "Python 3.8.6 64-bit",
   "language": "python",
   "name": "python3"
  },
  "language_info": {
   "codemirror_mode": {
    "name": "ipython",
    "version": 3
   },
   "file_extension": ".py",
   "mimetype": "text/x-python",
   "name": "python",
   "nbconvert_exporter": "python",
   "pygments_lexer": "ipython3",
   "version": "3.8.6"
  },
  "orig_nbformat": 4
 },
 "nbformat": 4,
 "nbformat_minor": 2
}
